{
 "cells": [
  {
   "cell_type": "markdown",
   "metadata": {
    "_uuid": "92b885dd147dac19bd0a33db3cd0da100bd5bc23"
   },
   "source": [
    "# Twitter Sentiment Analysis"
   ]
  },
  {
   "cell_type": "code",
   "execution_count": 1,
   "metadata": {
    "_uuid": "70282bce8b42a51e4d44f2c7d85c4ca9567b0fd4"
   },
   "outputs": [],
   "source": [
    "# !pip install gensim --upgrade\n",
    "# !pip install keras --upgrade\n",
    "# !pip install pandas --upgrade"
   ]
  },
  {
   "cell_type": "code",
   "execution_count": 2,
   "metadata": {
    "_uuid": "303e72966af732ddef0bd8108a321095314e44af"
   },
   "outputs": [
    {
     "name": "stderr",
     "output_type": "stream",
     "text": [
      "Using TensorFlow backend.\n"
     ]
    }
   ],
   "source": [
    "# DataFrame\n",
    "import pandas as pd\n",
    "\n",
    "# Matplot\n",
    "import matplotlib.pyplot as plt\n",
    "%matplotlib inline\n",
    "\n",
    "# Scikit-learn\n",
    "from sklearn.model_selection import train_test_split\n",
    "from sklearn.preprocessing import LabelEncoder\n",
    "from sklearn.metrics import confusion_matrix, classification_report, accuracy_score\n",
    "from sklearn.manifold import TSNE\n",
    "from sklearn.feature_extraction.text import TfidfVectorizer\n",
    "\n",
    "# Keras\n",
    "from keras.preprocessing.text import Tokenizer\n",
    "from keras.preprocessing.sequence import pad_sequences\n",
    "from keras.models import Sequential\n",
    "from keras.layers import Activation, Dense, Dropout, Embedding, Flatten, Conv1D, MaxPooling1D, LSTM\n",
    "from keras import utils\n",
    "from keras.callbacks import ReduceLROnPlateau, EarlyStopping\n",
    "\n",
    "# nltk\n",
    "import nltk\n",
    "from nltk.corpus import stopwords\n",
    "from  nltk.stem import SnowballStemmer\n",
    "\n",
    "# Word2vec\n",
    "import gensim\n",
    "\n",
    "# Utility\n",
    "import re\n",
    "import numpy as np\n",
    "import os\n",
    "from collections import Counter\n",
    "import logging\n",
    "import time\n",
    "import pickle\n",
    "import itertools\n",
    "\n",
    "# Set log\n",
    "logging.basicConfig(format='%(asctime)s : %(levelname)s : %(message)s', level=logging.INFO)"
   ]
  },
  {
   "cell_type": "code",
   "execution_count": 3,
   "metadata": {},
   "outputs": [
    {
     "name": "stdout",
     "output_type": "stream",
     "text": [
      "2.2.4\n",
      "1.11.0-rc1\n"
     ]
    }
   ],
   "source": [
    "import keras\n",
    "print(keras.__version__)\n",
    "import tensorflow as tf\n",
    "print(tf.__version__)"
   ]
  },
  {
   "cell_type": "code",
   "execution_count": 4,
   "metadata": {
    "_uuid": "35e1a89dead5fd160e4c9a024a21d2e569fc89ff"
   },
   "outputs": [
    {
     "name": "stdout",
     "output_type": "stream",
     "text": [
      "[nltk_data] Downloading package stopwords to /usr/share/nltk_data...\n",
      "[nltk_data]   Unzipping corpora/stopwords.zip.\n"
     ]
    },
    {
     "data": {
      "text/plain": [
       "True"
      ]
     },
     "execution_count": 4,
     "metadata": {},
     "output_type": "execute_result"
    }
   ],
   "source": [
    "nltk.download('stopwords')"
   ]
  },
  {
   "cell_type": "markdown",
   "metadata": {
    "_uuid": "e8b01a07df001e4abcc745900336c4db06e455f3"
   },
   "source": [
    "### Settings"
   ]
  },
  {
   "cell_type": "code",
   "execution_count": 6,
   "metadata": {
    "_uuid": "180f0dd2a95419e4602b5c0229822b0111c826f6"
   },
   "outputs": [],
   "source": [
    "# DATASET\n",
    "DATASET_COLUMNS = [\"target\", \"ids\", \"date\", \"flag\", \"user\", \"text\"]\n",
    "DATASET_ENCODING = \"ISO-8859-1\"\n",
    "TRAIN_SIZE = 0.8\n",
    "\n",
    "# TEXT CLENAING\n",
    "TEXT_CLEANING_RE = \"@\\S+|https?:\\S+|http?:\\S|[^A-Za-z0-9]+\"\n",
    "\n",
    "# WORD2VEC \n",
    "W2V_SIZE = 300\n",
    "W2V_WINDOW = 7\n",
    "W2V_EPOCH = 32\n",
    "W2V_MIN_COUNT = 10\n",
    "\n",
    "# KERAS\n",
    "SEQUENCE_LENGTH = 300\n",
    "EPOCHS = 8\n",
    "BATCH_SIZE = 1024\n",
    "\n",
    "# SENTIMENT\n",
    "POSITIVE = \"POSITIVE\"\n",
    "NEGATIVE = \"NEGATIVE\"\n",
    "NEUTRAL = \"NEUTRAL\"\n",
    "SENTIMENT_THRESHOLDS = (0.4, 0.7)\n",
    "\n",
    "# EXPORT\n",
    "KERAS_MODEL = \"model.h5\"\n",
    "WORD2VEC_MODEL = \"model.w2v\"\n",
    "TOKENIZER_MODEL = \"tokenizer.pkl\"\n",
    "ENCODER_MODEL = \"encoder.pkl\""
   ]
  },
  {
   "cell_type": "markdown",
   "metadata": {
    "_uuid": "1c3beecc618be68480b3d4f0de08d9d863da1dc1"
   },
   "source": [
    "### Read Dataset"
   ]
  },
  {
   "cell_type": "markdown",
   "metadata": {
    "_uuid": "563b3c44f1092dba0b853747b098e00509098cca"
   },
   "source": [
    "### Dataset details\n",
    "* **target**: the polarity of the tweet (0 = negative, 2 = neutral, 4 = positive)\n",
    "* **ids**: The id of the tweet ( 2087)\n",
    "* **date**: the date of the tweet (Sat May 16 23:58:44 UTC 2009)\n",
    "* **flag**: The query (lyx). If there is no query, then this value is NO_QUERY.\n",
    "* **user**: the user that tweeted (robotickilldozr)\n",
    "* **text**: the text of the tweet (Lyx is cool)"
   ]
  },
  {
   "cell_type": "code",
   "execution_count": 7,
   "metadata": {
    "_uuid": "bba8f91cd70de4f5ea0fb0870ae2029b6e3dcc24"
   },
   "outputs": [
    {
     "name": "stdout",
     "output_type": "stream",
     "text": [
      "Open file: ../input/training.1600000.processed.noemoticon.csv\n"
     ]
    }
   ],
   "source": [
    "dataset_filename = os.listdir(\"../input\")[0]\n",
    "dataset_path = os.path.join(\"..\",\"input\",dataset_filename)\n",
    "print(\"Open file:\", dataset_path)\n",
    "df = pd.read_csv(dataset_path, encoding =DATASET_ENCODING , names=DATASET_COLUMNS)"
   ]
  },
  {
   "cell_type": "code",
   "execution_count": 8,
   "metadata": {
    "_uuid": "936d499c00c4f1648bc16ca9d283c3b39be7fb10"
   },
   "outputs": [
    {
     "name": "stdout",
     "output_type": "stream",
     "text": [
      "Dataset size: 1600000\n"
     ]
    }
   ],
   "source": [
    "print(\"Dataset size:\", len(df))"
   ]
  },
  {
   "cell_type": "code",
   "execution_count": 9,
   "metadata": {
    "_uuid": "7486ed895b813c5246f97b31b6162b0f65ff763b"
   },
   "outputs": [
    {
     "data": {
      "text/html": [
       "<div>\n",
       "<style scoped>\n",
       "    .dataframe tbody tr th:only-of-type {\n",
       "        vertical-align: middle;\n",
       "    }\n",
       "\n",
       "    .dataframe tbody tr th {\n",
       "        vertical-align: top;\n",
       "    }\n",
       "\n",
       "    .dataframe thead th {\n",
       "        text-align: right;\n",
       "    }\n",
       "</style>\n",
       "<table border=\"1\" class=\"dataframe\">\n",
       "  <thead>\n",
       "    <tr style=\"text-align: right;\">\n",
       "      <th></th>\n",
       "      <th>target</th>\n",
       "      <th>ids</th>\n",
       "      <th>date</th>\n",
       "      <th>flag</th>\n",
       "      <th>user</th>\n",
       "      <th>text</th>\n",
       "    </tr>\n",
       "  </thead>\n",
       "  <tbody>\n",
       "    <tr>\n",
       "      <th>0</th>\n",
       "      <td>0</td>\n",
       "      <td>1467810369</td>\n",
       "      <td>Mon Apr 06 22:19:45 PDT 2009</td>\n",
       "      <td>NO_QUERY</td>\n",
       "      <td>_TheSpecialOne_</td>\n",
       "      <td>@switchfoot http://twitpic.com/2y1zl - Awww, t...</td>\n",
       "    </tr>\n",
       "    <tr>\n",
       "      <th>1</th>\n",
       "      <td>0</td>\n",
       "      <td>1467810672</td>\n",
       "      <td>Mon Apr 06 22:19:49 PDT 2009</td>\n",
       "      <td>NO_QUERY</td>\n",
       "      <td>scotthamilton</td>\n",
       "      <td>is upset that he can't update his Facebook by ...</td>\n",
       "    </tr>\n",
       "    <tr>\n",
       "      <th>2</th>\n",
       "      <td>0</td>\n",
       "      <td>1467810917</td>\n",
       "      <td>Mon Apr 06 22:19:53 PDT 2009</td>\n",
       "      <td>NO_QUERY</td>\n",
       "      <td>mattycus</td>\n",
       "      <td>@Kenichan I dived many times for the ball. Man...</td>\n",
       "    </tr>\n",
       "    <tr>\n",
       "      <th>3</th>\n",
       "      <td>0</td>\n",
       "      <td>1467811184</td>\n",
       "      <td>Mon Apr 06 22:19:57 PDT 2009</td>\n",
       "      <td>NO_QUERY</td>\n",
       "      <td>ElleCTF</td>\n",
       "      <td>my whole body feels itchy and like its on fire</td>\n",
       "    </tr>\n",
       "    <tr>\n",
       "      <th>4</th>\n",
       "      <td>0</td>\n",
       "      <td>1467811193</td>\n",
       "      <td>Mon Apr 06 22:19:57 PDT 2009</td>\n",
       "      <td>NO_QUERY</td>\n",
       "      <td>Karoli</td>\n",
       "      <td>@nationwideclass no, it's not behaving at all....</td>\n",
       "    </tr>\n",
       "  </tbody>\n",
       "</table>\n",
       "</div>"
      ],
      "text/plain": [
       "   target                        ...                                                                       text\n",
       "0       0                        ...                          @switchfoot http://twitpic.com/2y1zl - Awww, t...\n",
       "1       0                        ...                          is upset that he can't update his Facebook by ...\n",
       "2       0                        ...                          @Kenichan I dived many times for the ball. Man...\n",
       "3       0                        ...                            my whole body feels itchy and like its on fire \n",
       "4       0                        ...                          @nationwideclass no, it's not behaving at all....\n",
       "\n",
       "[5 rows x 6 columns]"
      ]
     },
     "execution_count": 9,
     "metadata": {},
     "output_type": "execute_result"
    }
   ],
   "source": [
    "df.head(5)"
   ]
  },
  {
   "cell_type": "markdown",
   "metadata": {
    "_uuid": "3f9a7bb129e184967b13261fb5d253af451c75c5"
   },
   "source": [
    "### Map target label to String\n",
    "* **0** -> **NEGATIVE**\n",
    "* **2** -> **NEUTRAL**\n",
    "* **4** -> **POSITIVE**"
   ]
  },
  {
   "cell_type": "code",
   "execution_count": 10,
   "metadata": {
    "_uuid": "14074b59106cb9550440839e48b832223fc9502f"
   },
   "outputs": [],
   "source": [
    "decode_map = {0: \"NEGATIVE\", 2: \"NEUTRAL\", 4: \"POSITIVE\"}\n",
    "def decode_sentiment(label):\n",
    "    return decode_map[int(label)]"
   ]
  },
  {
   "cell_type": "code",
   "execution_count": 11,
   "metadata": {
    "_uuid": "4449d473187f647a195a6ac6986b009da32a7f4b"
   },
   "outputs": [
    {
     "name": "stdout",
     "output_type": "stream",
     "text": [
      "CPU times: user 1.04 s, sys: 39.7 ms, total: 1.08 s\n",
      "Wall time: 1.08 s\n"
     ]
    }
   ],
   "source": [
    "%%time\n",
    "df.target = df.target.apply(lambda x: decode_sentiment(x))"
   ]
  },
  {
   "cell_type": "code",
   "execution_count": 12,
   "metadata": {
    "_uuid": "19eb327803192f31cce3512aacb232f4d6b38715"
   },
   "outputs": [
    {
     "data": {
      "text/plain": [
       "Text(0.5,1,'Dataset labels distribuition')"
      ]
     },
     "execution_count": 12,
     "metadata": {},
     "output_type": "execute_result"
    },
    {
     "data": {
      "image/png": "[encoded data removed]",
      "text/plain": [
       "<Figure size 1152x576 with 1 Axes>"
      ]
     },
     "metadata": {},
     "output_type": "display_data"
    }
   ],
   "source": [
    "target_cnt = Counter(df.target)\n",
    "\n",
    "plt.figure(figsize=(16,8))\n",
    "plt.bar(target_cnt.keys(), target_cnt.values())\n",
    "plt.title(\"Dataset labels distribuition\")"
   ]
  },
  {
   "cell_type": "markdown",
   "metadata": {
    "_uuid": "4329b1573518b03e497213efa7676220734ebb4b"
   },
   "source": [
    "### Pre-Process dataset"
   ]
  },
  {
   "cell_type": "code",
   "execution_count": 13,
   "metadata": {
    "_uuid": "8aeee8b7b9ea11b749c7f91cd4787a7b50ed1a91"
   },
   "outputs": [],
   "source": [
    "stop_words = stopwords.words(\"english\")\n",
    "stemmer = SnowballStemmer(\"english\")"
   ]
  },
  {
   "cell_type": "code",
   "execution_count": 14,
   "metadata": {
    "_uuid": "649ebcb97969b9ac4301138783704bb3d7846a49"
   },
   "outputs": [],
   "source": [
    "def preprocess(text, stem=False):\n",
    "    # Remove link,user and special characters\n",
    "    text = re.sub(TEXT_CLEANING_RE, ' ', str(text).lower()).strip()\n",
    "    tokens = []\n",
    "    for token in text.split():\n",
    "        if token not in stop_words:\n",
    "            if stem:\n",
    "                tokens.append(stemmer.stem(token))\n",
    "            else:\n",
    "                tokens.append(token)\n",
    "    return \" \".join(tokens)"
   ]
  },
  {
   "cell_type": "code",
   "execution_count": 15,
   "metadata": {
    "_uuid": "f7f3e77ab9291d14687c49e71ba9b2b1e3323432"
   },
   "outputs": [
    {
     "name": "stdout",
     "output_type": "stream",
     "text": [
      "CPU times: user 1min 6s, sys: 184 ms, total: 1min 6s\n",
      "Wall time: 1min 7s\n"
     ]
    }
   ],
   "source": [
    "%%time\n",
    "df.text = df.text.apply(lambda x: preprocess(x))"
   ]
  },
  {
   "cell_type": "code",
   "execution_count": 17,
   "metadata": {},
   "outputs": [
    {
     "name": "stdout",
     "output_type": "stream",
     "text": [
      "Changed text & labels...\n"
     ]
    },
    {
     "data": {
      "text/html": [
       "<div>\n",
       "<style scoped>\n",
       "    .dataframe tbody tr th:only-of-type {\n",
       "        vertical-align: middle;\n",
       "    }\n",
       "\n",
       "    .dataframe tbody tr th {\n",
       "        vertical-align: top;\n",
       "    }\n",
       "\n",
       "    .dataframe thead th {\n",
       "        text-align: right;\n",
       "    }\n",
       "</style>\n",
       "<table border=\"1\" class=\"dataframe\">\n",
       "  <thead>\n",
       "    <tr style=\"text-align: right;\">\n",
       "      <th></th>\n",
       "      <th>target</th>\n",
       "      <th>ids</th>\n",
       "      <th>date</th>\n",
       "      <th>flag</th>\n",
       "      <th>user</th>\n",
       "      <th>text</th>\n",
       "    </tr>\n",
       "  </thead>\n",
       "  <tbody>\n",
       "    <tr>\n",
       "      <th>0</th>\n",
       "      <td>NEGATIVE</td>\n",
       "      <td>1467810369</td>\n",
       "      <td>Mon Apr 06 22:19:45 PDT 2009</td>\n",
       "      <td>NO_QUERY</td>\n",
       "      <td>_TheSpecialOne_</td>\n",
       "      <td>awww bummer shoulda got david carr third day</td>\n",
       "    </tr>\n",
       "    <tr>\n",
       "      <th>1</th>\n",
       "      <td>NEGATIVE</td>\n",
       "      <td>1467810672</td>\n",
       "      <td>Mon Apr 06 22:19:49 PDT 2009</td>\n",
       "      <td>NO_QUERY</td>\n",
       "      <td>scotthamilton</td>\n",
       "      <td>upset update facebook texting might cry result...</td>\n",
       "    </tr>\n",
       "    <tr>\n",
       "      <th>2</th>\n",
       "      <td>NEGATIVE</td>\n",
       "      <td>1467810917</td>\n",
       "      <td>Mon Apr 06 22:19:53 PDT 2009</td>\n",
       "      <td>NO_QUERY</td>\n",
       "      <td>mattycus</td>\n",
       "      <td>dived many times ball managed save 50 rest go ...</td>\n",
       "    </tr>\n",
       "    <tr>\n",
       "      <th>3</th>\n",
       "      <td>NEGATIVE</td>\n",
       "      <td>1467811184</td>\n",
       "      <td>Mon Apr 06 22:19:57 PDT 2009</td>\n",
       "      <td>NO_QUERY</td>\n",
       "      <td>ElleCTF</td>\n",
       "      <td>whole body feels itchy like fire</td>\n",
       "    </tr>\n",
       "    <tr>\n",
       "      <th>4</th>\n",
       "      <td>NEGATIVE</td>\n",
       "      <td>1467811193</td>\n",
       "      <td>Mon Apr 06 22:19:57 PDT 2009</td>\n",
       "      <td>NO_QUERY</td>\n",
       "      <td>Karoli</td>\n",
       "      <td>behaving mad see</td>\n",
       "    </tr>\n",
       "  </tbody>\n",
       "</table>\n",
       "</div>"
      ],
      "text/plain": [
       "     target                        ...                                                                       text\n",
       "0  NEGATIVE                        ...                               awww bummer shoulda got david carr third day\n",
       "1  NEGATIVE                        ...                          upset update facebook texting might cry result...\n",
       "2  NEGATIVE                        ...                          dived many times ball managed save 50 rest go ...\n",
       "3  NEGATIVE                        ...                                           whole body feels itchy like fire\n",
       "4  NEGATIVE                        ...                                                           behaving mad see\n",
       "\n",
       "[5 rows x 6 columns]"
      ]
     },
     "execution_count": 17,
     "metadata": {},
     "output_type": "execute_result"
    }
   ],
   "source": [
    "print('Changed text & labels...')\n",
    "df.head(5)"
   ]
  },
  {
   "cell_type": "markdown",
   "metadata": {
    "_uuid": "f5f9714a8507409bbe780eebf2855a33e8e6ba37"
   },
   "source": [
    "### Split train and test"
   ]
  },
  {
   "cell_type": "code",
   "execution_count": 18,
   "metadata": {
    "_uuid": "d2b1179c968e3f3910c790ecf0c5b2cbb34b0e68"
   },
   "outputs": [
    {
     "name": "stdout",
     "output_type": "stream",
     "text": [
      "TRAIN size: 1280000\n",
      "TEST size: 320000\n"
     ]
    }
   ],
   "source": [
    "df_train, df_test = train_test_split(df, test_size=1-TRAIN_SIZE, random_state=42)\n",
    "print(\"TRAIN size:\", len(df_train))\n",
    "print(\"TEST size:\", len(df_test))"
   ]
  },
  {
   "cell_type": "markdown",
   "metadata": {
    "_uuid": "f08a28aab2c3d16d8b9681a7d5d07587153a1cd6"
   },
   "source": [
    "### Word2Vec "
   ]
  },
  {
   "cell_type": "code",
   "execution_count": 19,
   "metadata": {
    "_uuid": "2461bf564de1b4414841933d0c1d1bee5f5cc5a6"
   },
   "outputs": [
    {
     "name": "stdout",
     "output_type": "stream",
     "text": [
      "CPU times: user 3.27 s, sys: 304 ms, total: 3.58 s\n",
      "Wall time: 3.59 s\n"
     ]
    }
   ],
   "source": [
    "%%time\n",
    "documents = [_text.split() for _text in df_train.text] "
   ]
  },
  {
   "cell_type": "code",
   "execution_count": 20,
   "metadata": {
    "_uuid": "8e19b9f25801ba86420decc266d2b3e6fb44f1ea"
   },
   "outputs": [],
   "source": [
    "w2v_model = gensim.models.word2vec.Word2Vec(size=W2V_SIZE, \n",
    "                                            window=W2V_WINDOW, \n",
    "                                            min_count=W2V_MIN_COUNT, \n",
    "                                            workers=8)"
   ]
  },
  {
   "cell_type": "code",
   "execution_count": 21,
   "metadata": {
    "_uuid": "58d655af07653c594bec6bebcfb302a973b0ad9c"
   },
   "outputs": [
    {
     "name": "stderr",
     "output_type": "stream",
     "text": [
      "2020-05-31 08:34:45,985 : INFO : collecting all words and their counts\n",
      "2020-05-31 08:34:45,988 : INFO : PROGRESS: at sentence #0, processed 0 words, keeping 0 word types\n",
      "2020-05-31 08:34:46,016 : INFO : PROGRESS: at sentence #10000, processed 72565 words, keeping 14005 word types\n",
      "2020-05-31 08:34:46,041 : INFO : PROGRESS: at sentence #20000, processed 144393 words, keeping 21587 word types\n",
      "2020-05-31 08:34:46,067 : INFO : PROGRESS: at sentence #30000, processed 215826 words, keeping 27541 word types\n",
      "2020-05-31 08:34:46,093 : INFO : PROGRESS: at sentence #40000, processed 288271 words, keeping 32764 word types\n",
      "2020-05-31 08:34:46,118 : INFO : PROGRESS: at sentence #50000, processed 359772 words, keeping 37587 word types\n",
      "2020-05-31 08:34:46,146 : INFO : PROGRESS: at sentence #60000, processed 431431 words, keeping 42198 word types\n",
      "2020-05-31 08:34:46,174 : INFO : PROGRESS: at sentence #70000, processed 503103 words, keeping 46458 word types\n",
      "2020-05-31 08:34:46,201 : INFO : PROGRESS: at sentence #80000, processed 575709 words, keeping 50476 word types\n",
      "2020-05-31 08:34:46,227 : INFO : PROGRESS: at sentence #90000, processed 647100 words, keeping 54140 word types\n",
      "2020-05-31 08:34:46,254 : INFO : PROGRESS: at sentence #100000, processed 718681 words, keeping 57777 word types\n",
      "2020-05-31 08:34:46,281 : INFO : PROGRESS: at sentence #110000, processed 790696 words, keeping 61207 word types\n",
      "2020-05-31 08:34:46,308 : INFO : PROGRESS: at sentence #120000, processed 863134 words, keeping 64583 word types\n",
      "2020-05-31 08:34:46,334 : INFO : PROGRESS: at sentence #130000, processed 935111 words, keeping 67865 word types\n",
      "2020-05-31 08:34:46,361 : INFO : PROGRESS: at sentence #140000, processed 1006668 words, keeping 70966 word types\n",
      "2020-05-31 08:34:46,388 : INFO : PROGRESS: at sentence #150000, processed 1078512 words, keeping 74119 word types\n",
      "2020-05-31 08:34:46,414 : INFO : PROGRESS: at sentence #160000, processed 1149914 words, keeping 77187 word types\n",
      "2020-05-31 08:34:46,441 : INFO : PROGRESS: at sentence #170000, processed 1222145 words, keeping 80267 word types\n",
      "2020-05-31 08:34:46,469 : INFO : PROGRESS: at sentence #180000, processed 1294708 words, keeping 83393 word types\n",
      "2020-05-31 08:34:46,496 : INFO : PROGRESS: at sentence #190000, processed 1367608 words, keeping 86329 word types\n",
      "2020-05-31 08:34:46,525 : INFO : PROGRESS: at sentence #200000, processed 1439469 words, keeping 89103 word types\n",
      "2020-05-31 08:34:46,550 : INFO : PROGRESS: at sentence #210000, processed 1512099 words, keeping 91840 word types\n",
      "2020-05-31 08:34:46,578 : INFO : PROGRESS: at sentence #220000, processed 1584149 words, keeping 94636 word types\n",
      "2020-05-31 08:34:46,604 : INFO : PROGRESS: at sentence #230000, processed 1656354 words, keeping 97353 word types\n",
      "2020-05-31 08:34:46,631 : INFO : PROGRESS: at sentence #240000, processed 1728573 words, keeping 99975 word types\n",
      "2020-05-31 08:34:46,657 : INFO : PROGRESS: at sentence #250000, processed 1801102 words, keeping 102594 word types\n",
      "2020-05-31 08:34:46,684 : INFO : PROGRESS: at sentence #260000, processed 1873103 words, keeping 105162 word types\n",
      "2020-05-31 08:34:46,711 : INFO : PROGRESS: at sentence #270000, processed 1945245 words, keeping 107626 word types\n",
      "2020-05-31 08:34:46,738 : INFO : PROGRESS: at sentence #280000, processed 2017163 words, keeping 110141 word types\n",
      "2020-05-31 08:34:46,764 : INFO : PROGRESS: at sentence #290000, processed 2089574 words, keeping 112539 word types\n",
      "2020-05-31 08:34:46,791 : INFO : PROGRESS: at sentence #300000, processed 2160996 words, keeping 114893 word types\n",
      "2020-05-31 08:34:46,819 : INFO : PROGRESS: at sentence #310000, processed 2232913 words, keeping 117298 word types\n",
      "2020-05-31 08:34:46,846 : INFO : PROGRESS: at sentence #320000, processed 2305039 words, keeping 119693 word types\n",
      "2020-05-31 08:34:46,874 : INFO : PROGRESS: at sentence #330000, processed 2377119 words, keeping 122131 word types\n",
      "2020-05-31 08:34:46,901 : INFO : PROGRESS: at sentence #340000, processed 2449370 words, keeping 124416 word types\n",
      "2020-05-31 08:34:46,927 : INFO : PROGRESS: at sentence #350000, processed 2521564 words, keeping 126669 word types\n",
      "2020-05-31 08:34:46,954 : INFO : PROGRESS: at sentence #360000, processed 2593681 words, keeping 128912 word types\n",
      "2020-05-31 08:34:46,982 : INFO : PROGRESS: at sentence #370000, processed 2665692 words, keeping 131135 word types\n",
      "2020-05-31 08:34:47,009 : INFO : PROGRESS: at sentence #380000, processed 2737859 words, keeping 133403 word types\n",
      "2020-05-31 08:34:47,036 : INFO : PROGRESS: at sentence #390000, processed 2809848 words, keeping 135551 word types\n",
      "2020-05-31 08:34:47,063 : INFO : PROGRESS: at sentence #400000, processed 2882438 words, keeping 137742 word types\n",
      "2020-05-31 08:34:47,090 : INFO : PROGRESS: at sentence #410000, processed 2954075 words, keeping 139909 word types\n",
      "2020-05-31 08:34:47,117 : INFO : PROGRESS: at sentence #420000, processed 3026247 words, keeping 142144 word types\n",
      "2020-05-31 08:34:47,145 : INFO : PROGRESS: at sentence #430000, processed 3098659 words, keeping 144364 word types\n",
      "2020-05-31 08:34:47,179 : INFO : PROGRESS: at sentence #440000, processed 3170663 words, keeping 146439 word types\n",
      "2020-05-31 08:34:47,207 : INFO : PROGRESS: at sentence #450000, processed 3243344 words, keeping 148526 word types\n",
      "2020-05-31 08:34:47,235 : INFO : PROGRESS: at sentence #460000, processed 3315466 words, keeping 150610 word types\n",
      "2020-05-31 08:34:47,263 : INFO : PROGRESS: at sentence #470000, processed 3388295 words, keeping 152737 word types\n",
      "2020-05-31 08:34:47,290 : INFO : PROGRESS: at sentence #480000, processed 3460120 words, keeping 154757 word types\n",
      "2020-05-31 08:34:47,317 : INFO : PROGRESS: at sentence #490000, processed 3531883 words, keeping 156825 word types\n",
      "2020-05-31 08:34:47,345 : INFO : PROGRESS: at sentence #500000, processed 3604217 words, keeping 158859 word types\n",
      "2020-05-31 08:34:47,373 : INFO : PROGRESS: at sentence #510000, processed 3676427 words, keeping 160852 word types\n",
      "2020-05-31 08:34:47,400 : INFO : PROGRESS: at sentence #520000, processed 3749045 words, keeping 162863 word types\n",
      "2020-05-31 08:34:47,427 : INFO : PROGRESS: at sentence #530000, processed 3821622 words, keeping 164929 word types\n",
      "2020-05-31 08:34:47,455 : INFO : PROGRESS: at sentence #540000, processed 3893627 words, keeping 166840 word types\n",
      "2020-05-31 08:34:47,482 : INFO : PROGRESS: at sentence #550000, processed 3965477 words, keeping 168799 word types\n",
      "2020-05-31 08:34:47,509 : INFO : PROGRESS: at sentence #560000, processed 4038050 words, keeping 170802 word types\n",
      "2020-05-31 08:34:47,537 : INFO : PROGRESS: at sentence #570000, processed 4110296 words, keeping 172760 word types\n",
      "2020-05-31 08:34:47,563 : INFO : PROGRESS: at sentence #580000, processed 4182385 words, keeping 174635 word types\n",
      "2020-05-31 08:34:47,599 : INFO : PROGRESS: at sentence #590000, processed 4254632 words, keeping 176470 word types\n",
      "2020-05-31 08:34:47,626 : INFO : PROGRESS: at sentence #600000, processed 4326859 words, keeping 178350 word types\n",
      "2020-05-31 08:34:47,653 : INFO : PROGRESS: at sentence #610000, processed 4399183 words, keeping 180290 word types\n",
      "2020-05-31 08:34:47,680 : INFO : PROGRESS: at sentence #620000, processed 4471343 words, keeping 182129 word types\n",
      "2020-05-31 08:34:47,707 : INFO : PROGRESS: at sentence #630000, processed 4543286 words, keeping 184005 word types\n",
      "2020-05-31 08:34:47,734 : INFO : PROGRESS: at sentence #640000, processed 4615780 words, keeping 185835 word types\n",
      "2020-05-31 08:34:47,761 : INFO : PROGRESS: at sentence #650000, processed 4688481 words, keeping 187705 word types\n",
      "2020-05-31 08:34:47,787 : INFO : PROGRESS: at sentence #660000, processed 4760481 words, keeping 189439 word types\n",
      "2020-05-31 08:34:47,815 : INFO : PROGRESS: at sentence #670000, processed 4833024 words, keeping 191232 word types\n",
      "2020-05-31 08:34:47,842 : INFO : PROGRESS: at sentence #680000, processed 4904516 words, keeping 193177 word types\n",
      "2020-05-31 08:34:47,871 : INFO : PROGRESS: at sentence #690000, processed 4976968 words, keeping 194960 word types\n",
      "2020-05-31 08:34:47,898 : INFO : PROGRESS: at sentence #700000, processed 5049412 words, keeping 196725 word types\n",
      "2020-05-31 08:34:47,925 : INFO : PROGRESS: at sentence #710000, processed 5121976 words, keeping 198516 word types\n"
     ]
    },
    {
     "name": "stderr",
     "output_type": "stream",
     "text": [
      "2020-05-31 08:34:47,953 : INFO : PROGRESS: at sentence #720000, processed 5193881 words, keeping 200325 word types\n",
      "2020-05-31 08:34:47,980 : INFO : PROGRESS: at sentence #730000, processed 5265467 words, keeping 202133 word types\n",
      "2020-05-31 08:34:48,007 : INFO : PROGRESS: at sentence #740000, processed 5337518 words, keeping 203818 word types\n",
      "2020-05-31 08:34:48,035 : INFO : PROGRESS: at sentence #750000, processed 5409321 words, keeping 205535 word types\n",
      "2020-05-31 08:34:48,062 : INFO : PROGRESS: at sentence #760000, processed 5481512 words, keeping 207282 word types\n",
      "2020-05-31 08:34:48,089 : INFO : PROGRESS: at sentence #770000, processed 5554093 words, keeping 209076 word types\n",
      "2020-05-31 08:34:48,116 : INFO : PROGRESS: at sentence #780000, processed 5625382 words, keeping 210805 word types\n",
      "2020-05-31 08:34:48,143 : INFO : PROGRESS: at sentence #790000, processed 5698066 words, keeping 212618 word types\n",
      "2020-05-31 08:34:48,171 : INFO : PROGRESS: at sentence #800000, processed 5770880 words, keeping 214374 word types\n",
      "2020-05-31 08:34:48,198 : INFO : PROGRESS: at sentence #810000, processed 5843418 words, keeping 216009 word types\n",
      "2020-05-31 08:34:48,225 : INFO : PROGRESS: at sentence #820000, processed 5915628 words, keeping 217804 word types\n",
      "2020-05-31 08:34:48,252 : INFO : PROGRESS: at sentence #830000, processed 5987499 words, keeping 219585 word types\n",
      "2020-05-31 08:34:48,279 : INFO : PROGRESS: at sentence #840000, processed 6058973 words, keeping 221344 word types\n",
      "2020-05-31 08:34:48,307 : INFO : PROGRESS: at sentence #850000, processed 6131125 words, keeping 223002 word types\n",
      "2020-05-31 08:34:48,334 : INFO : PROGRESS: at sentence #860000, processed 6202951 words, keeping 224643 word types\n",
      "2020-05-31 08:34:48,361 : INFO : PROGRESS: at sentence #870000, processed 6275461 words, keeping 226362 word types\n",
      "2020-05-31 08:34:48,389 : INFO : PROGRESS: at sentence #880000, processed 6347661 words, keeping 227986 word types\n",
      "2020-05-31 08:34:48,416 : INFO : PROGRESS: at sentence #890000, processed 6419806 words, keeping 229634 word types\n",
      "2020-05-31 08:34:48,443 : INFO : PROGRESS: at sentence #900000, processed 6491644 words, keeping 231389 word types\n",
      "2020-05-31 08:34:48,470 : INFO : PROGRESS: at sentence #910000, processed 6564022 words, keeping 233050 word types\n",
      "2020-05-31 08:34:48,498 : INFO : PROGRESS: at sentence #920000, processed 6636228 words, keeping 234686 word types\n",
      "2020-05-31 08:34:48,525 : INFO : PROGRESS: at sentence #930000, processed 6708573 words, keeping 236393 word types\n",
      "2020-05-31 08:34:48,552 : INFO : PROGRESS: at sentence #940000, processed 6779956 words, keeping 238052 word types\n",
      "2020-05-31 08:34:48,579 : INFO : PROGRESS: at sentence #950000, processed 6852599 words, keeping 239716 word types\n",
      "2020-05-31 08:34:48,607 : INFO : PROGRESS: at sentence #960000, processed 6924717 words, keeping 241354 word types\n",
      "2020-05-31 08:34:48,634 : INFO : PROGRESS: at sentence #970000, processed 6996992 words, keeping 242980 word types\n",
      "2020-05-31 08:34:48,661 : INFO : PROGRESS: at sentence #980000, processed 7068402 words, keeping 244646 word types\n",
      "2020-05-31 08:34:48,688 : INFO : PROGRESS: at sentence #990000, processed 7140346 words, keeping 246186 word types\n",
      "2020-05-31 08:34:48,715 : INFO : PROGRESS: at sentence #1000000, processed 7211757 words, keeping 247726 word types\n",
      "2020-05-31 08:34:48,742 : INFO : PROGRESS: at sentence #1010000, processed 7283267 words, keeping 249288 word types\n",
      "2020-05-31 08:34:48,769 : INFO : PROGRESS: at sentence #1020000, processed 7355299 words, keeping 250860 word types\n",
      "2020-05-31 08:34:48,795 : INFO : PROGRESS: at sentence #1030000, processed 7426918 words, keeping 252366 word types\n",
      "2020-05-31 08:34:48,823 : INFO : PROGRESS: at sentence #1040000, processed 7498815 words, keeping 253930 word types\n",
      "2020-05-31 08:34:48,851 : INFO : PROGRESS: at sentence #1050000, processed 7570499 words, keeping 255471 word types\n",
      "2020-05-31 08:34:48,879 : INFO : PROGRESS: at sentence #1060000, processed 7643251 words, keeping 257035 word types\n",
      "2020-05-31 08:34:48,905 : INFO : PROGRESS: at sentence #1070000, processed 7714721 words, keeping 258509 word types\n",
      "2020-05-31 08:34:48,935 : INFO : PROGRESS: at sentence #1080000, processed 7787371 words, keeping 260071 word types\n",
      "2020-05-31 08:34:48,964 : INFO : PROGRESS: at sentence #1090000, processed 7859336 words, keeping 261683 word types\n",
      "2020-05-31 08:34:48,992 : INFO : PROGRESS: at sentence #1100000, processed 7932029 words, keeping 263278 word types\n",
      "2020-05-31 08:34:49,020 : INFO : PROGRESS: at sentence #1110000, processed 8004146 words, keeping 264800 word types\n",
      "2020-05-31 08:34:49,048 : INFO : PROGRESS: at sentence #1120000, processed 8075880 words, keeping 266309 word types\n",
      "2020-05-31 08:34:49,075 : INFO : PROGRESS: at sentence #1130000, processed 8148163 words, keeping 267826 word types\n",
      "2020-05-31 08:34:49,103 : INFO : PROGRESS: at sentence #1140000, processed 8220487 words, keeping 269391 word types\n",
      "2020-05-31 08:34:49,130 : INFO : PROGRESS: at sentence #1150000, processed 8292498 words, keeping 270894 word types\n",
      "2020-05-31 08:34:49,158 : INFO : PROGRESS: at sentence #1160000, processed 8363838 words, keeping 272400 word types\n",
      "2020-05-31 08:34:49,185 : INFO : PROGRESS: at sentence #1170000, processed 8435510 words, keeping 273970 word types\n",
      "2020-05-31 08:34:49,214 : INFO : PROGRESS: at sentence #1180000, processed 8507795 words, keeping 275521 word types\n",
      "2020-05-31 08:34:49,241 : INFO : PROGRESS: at sentence #1190000, processed 8579080 words, keeping 277007 word types\n",
      "2020-05-31 08:34:49,269 : INFO : PROGRESS: at sentence #1200000, processed 8650606 words, keeping 278457 word types\n",
      "2020-05-31 08:34:49,297 : INFO : PROGRESS: at sentence #1210000, processed 8721893 words, keeping 279959 word types\n",
      "2020-05-31 08:34:49,324 : INFO : PROGRESS: at sentence #1220000, processed 8793795 words, keeping 281427 word types\n",
      "2020-05-31 08:34:49,352 : INFO : PROGRESS: at sentence #1230000, processed 8865726 words, keeping 282981 word types\n",
      "2020-05-31 08:34:49,380 : INFO : PROGRESS: at sentence #1240000, processed 8938173 words, keeping 284542 word types\n",
      "2020-05-31 08:34:49,407 : INFO : PROGRESS: at sentence #1250000, processed 9010842 words, keeping 286064 word types\n",
      "2020-05-31 08:34:49,435 : INFO : PROGRESS: at sentence #1260000, processed 9083261 words, keeping 287521 word types\n",
      "2020-05-31 08:34:49,462 : INFO : PROGRESS: at sentence #1270000, processed 9155616 words, keeping 288987 word types\n",
      "2020-05-31 08:34:49,489 : INFO : collected 290418 word types from a corpus of 9227204 raw words and 1280000 sentences\n",
      "2020-05-31 08:34:49,489 : INFO : Loading a fresh vocabulary\n",
      "2020-05-31 08:34:49,755 : INFO : effective_min_count=10 retains 30369 unique words (10% of original 290418, drops 260049)\n",
      "2020-05-31 08:34:49,756 : INFO : effective_min_count=10 leaves 8780739 word corpus (95% of original 9227204, drops 446465)\n",
      "2020-05-31 08:34:49,902 : INFO : deleting the raw counts dictionary of 290418 items\n",
      "2020-05-31 08:34:49,908 : INFO : sample=0.001 downsamples 45 most-common words\n",
      "2020-05-31 08:34:49,909 : INFO : downsampling leaves estimated 8222658 word corpus (93.6% of prior 8780739)\n",
      "2020-05-31 08:34:50,014 : INFO : estimated required memory for 30369 words and 300 dimensions: 88070100 bytes\n",
      "2020-05-31 08:34:50,015 : INFO : resetting layer weights\n"
     ]
    }
   ],
   "source": [
    "w2v_model.build_vocab(documents)"
   ]
  },
  {
   "cell_type": "code",
   "execution_count": 22,
   "metadata": {
    "_uuid": "72a5628ca81fd4b8983c12d93ae0bf950b86b6ae"
   },
   "outputs": [
    {
     "name": "stdout",
     "output_type": "stream",
     "text": [
      "Vocab size 30369\n"
     ]
    }
   ],
   "source": [
    "words = w2v_model.wv.vocab.keys()\n",
    "vocab_size = len(words)\n",
    "print(\"Vocab size\", vocab_size)"
   ]
  },
  {
   "cell_type": "code",
   "execution_count": 23,
   "metadata": {
    "_uuid": "68c3e4a5ba07cac3dee67f78ecdd1404c7f83f14"
   },
   "outputs": [
    {
     "name": "stderr",
     "output_type": "stream",
     "text": [
      "2020-05-31 08:36:04,932 : INFO : training model with 8 workers on 30369 vocabulary and 300 features, using sg=0 hs=0 sample=0.001 negative=5 window=7\n",
      "2020-05-31 08:36:05,979 : INFO : EPOCH 1 - PROGRESS: at 4.23% examples, 335084 words/s, in_qsize 16, out_qsize 0\n",
      "2020-05-31 08:36:07,018 : INFO : EPOCH 1 - PROGRESS: at 9.34% examples, 369069 words/s, in_qsize 16, out_qsize 0\n",
      "2020-05-31 08:36:08,054 : INFO : EPOCH 1 - PROGRESS: at 14.65% examples, 386400 words/s, in_qsize 15, out_qsize 0\n",
      "2020-05-31 08:36:09,060 : INFO : EPOCH 1 - PROGRESS: at 19.94% examples, 397948 words/s, in_qsize 15, out_qsize 0\n",
      "2020-05-31 08:36:10,103 : INFO : EPOCH 1 - PROGRESS: at 24.72% examples, 393582 words/s, in_qsize 15, out_qsize 0\n",
      "2020-05-31 08:36:11,136 : INFO : EPOCH 1 - PROGRESS: at 29.26% examples, 388392 words/s, in_qsize 16, out_qsize 0\n",
      "2020-05-31 08:36:12,301 : INFO : EPOCH 1 - PROGRESS: at 33.70% examples, 376483 words/s, in_qsize 11, out_qsize 1\n",
      "2020-05-31 08:36:13,337 : INFO : EPOCH 1 - PROGRESS: at 38.24% examples, 374597 words/s, in_qsize 13, out_qsize 2\n",
      "2020-05-31 08:36:14,356 : INFO : EPOCH 1 - PROGRESS: at 42.46% examples, 370979 words/s, in_qsize 13, out_qsize 0\n",
      "2020-05-31 08:36:15,402 : INFO : EPOCH 1 - PROGRESS: at 47.43% examples, 374274 words/s, in_qsize 14, out_qsize 1\n",
      "2020-05-31 08:36:16,391 : INFO : EPOCH 1 - PROGRESS: at 52.29% examples, 375903 words/s, in_qsize 15, out_qsize 0\n",
      "2020-05-31 08:36:17,444 : INFO : EPOCH 1 - PROGRESS: at 56.94% examples, 375988 words/s, in_qsize 15, out_qsize 6\n",
      "2020-05-31 08:36:18,436 : INFO : EPOCH 1 - PROGRESS: at 62.36% examples, 380329 words/s, in_qsize 14, out_qsize 3\n",
      "2020-05-31 08:36:19,455 : INFO : EPOCH 1 - PROGRESS: at 67.77% examples, 384304 words/s, in_qsize 15, out_qsize 0\n",
      "2020-05-31 08:36:20,480 : INFO : EPOCH 1 - PROGRESS: at 72.42% examples, 383880 words/s, in_qsize 13, out_qsize 6\n",
      "2020-05-31 08:36:21,538 : INFO : EPOCH 1 - PROGRESS: at 77.85% examples, 385967 words/s, in_qsize 16, out_qsize 0\n",
      "2020-05-31 08:36:22,541 : INFO : EPOCH 1 - PROGRESS: at 82.10% examples, 383716 words/s, in_qsize 15, out_qsize 0\n",
      "2020-05-31 08:36:23,568 : INFO : EPOCH 1 - PROGRESS: at 85.56% examples, 377873 words/s, in_qsize 15, out_qsize 0\n",
      "2020-05-31 08:36:24,577 : INFO : EPOCH 1 - PROGRESS: at 90.43% examples, 378860 words/s, in_qsize 16, out_qsize 1\n",
      "2020-05-31 08:36:25,577 : INFO : EPOCH 1 - PROGRESS: at 95.66% examples, 381197 words/s, in_qsize 15, out_qsize 2\n",
      "2020-05-31 08:36:26,241 : INFO : worker thread finished; awaiting finish of 7 more threads\n",
      "2020-05-31 08:36:26,254 : INFO : worker thread finished; awaiting finish of 6 more threads\n",
      "2020-05-31 08:36:26,280 : INFO : worker thread finished; awaiting finish of 5 more threads\n",
      "2020-05-31 08:36:26,282 : INFO : worker thread finished; awaiting finish of 4 more threads\n",
      "2020-05-31 08:36:26,285 : INFO : worker thread finished; awaiting finish of 3 more threads\n",
      "2020-05-31 08:36:26,287 : INFO : worker thread finished; awaiting finish of 2 more threads\n",
      "2020-05-31 08:36:26,290 : INFO : worker thread finished; awaiting finish of 1 more threads\n",
      "2020-05-31 08:36:26,296 : INFO : worker thread finished; awaiting finish of 0 more threads\n",
      "2020-05-31 08:36:26,297 : INFO : EPOCH - 1 : training on 9227204 raw words (8223140 effective words) took 21.4s, 385091 effective words/s\n",
      "2020-05-31 08:36:27,384 : INFO : EPOCH 2 - PROGRESS: at 4.34% examples, 330679 words/s, in_qsize 15, out_qsize 2\n",
      "2020-05-31 08:36:28,390 : INFO : EPOCH 2 - PROGRESS: at 9.56% examples, 376323 words/s, in_qsize 15, out_qsize 1\n",
      "2020-05-31 08:36:29,394 : INFO : EPOCH 2 - PROGRESS: at 14.65% examples, 389468 words/s, in_qsize 15, out_qsize 4\n",
      "2020-05-31 08:36:30,444 : INFO : EPOCH 2 - PROGRESS: at 20.27% examples, 402505 words/s, in_qsize 16, out_qsize 0\n",
      "2020-05-31 08:36:31,460 : INFO : EPOCH 2 - PROGRESS: at 25.26% examples, 402748 words/s, in_qsize 15, out_qsize 2\n",
      "2020-05-31 08:36:32,465 : INFO : EPOCH 2 - PROGRESS: at 30.13% examples, 402095 words/s, in_qsize 15, out_qsize 0\n",
      "2020-05-31 08:36:33,576 : INFO : EPOCH 2 - PROGRESS: at 34.57% examples, 390862 words/s, in_qsize 15, out_qsize 0\n",
      "2020-05-31 08:36:34,773 : INFO : EPOCH 2 - PROGRESS: at 38.89% examples, 379728 words/s, in_qsize 16, out_qsize 3\n",
      "2020-05-31 08:36:35,742 : INFO : EPOCH 2 - PROGRESS: at 44.40% examples, 387021 words/s, in_qsize 15, out_qsize 0\n",
      "2020-05-31 08:36:36,780 : INFO : EPOCH 2 - PROGRESS: at 49.81% examples, 391220 words/s, in_qsize 15, out_qsize 0\n",
      "2020-05-31 08:36:37,831 : INFO : EPOCH 2 - PROGRESS: at 54.56% examples, 389590 words/s, in_qsize 16, out_qsize 1\n",
      "2020-05-31 08:36:38,884 : INFO : EPOCH 2 - PROGRESS: at 59.98% examples, 392415 words/s, in_qsize 14, out_qsize 1\n",
      "2020-05-31 08:36:39,896 : INFO : EPOCH 2 - PROGRESS: at 65.27% examples, 395319 words/s, in_qsize 15, out_qsize 0\n",
      "2020-05-31 08:36:40,896 : INFO : EPOCH 2 - PROGRESS: at 70.37% examples, 396902 words/s, in_qsize 15, out_qsize 0\n",
      "2020-05-31 08:36:41,960 : INFO : EPOCH 2 - PROGRESS: at 75.68% examples, 398568 words/s, in_qsize 15, out_qsize 0\n",
      "2020-05-31 08:36:42,962 : INFO : EPOCH 2 - PROGRESS: at 80.90% examples, 399538 words/s, in_qsize 14, out_qsize 2\n",
      "2020-05-31 08:36:43,971 : INFO : EPOCH 2 - PROGRESS: at 85.13% examples, 396383 words/s, in_qsize 16, out_qsize 0\n",
      "2020-05-31 08:36:45,042 : INFO : EPOCH 2 - PROGRESS: at 89.34% examples, 392252 words/s, in_qsize 14, out_qsize 1\n",
      "2020-05-31 08:36:46,056 : INFO : EPOCH 2 - PROGRESS: at 93.92% examples, 391044 words/s, in_qsize 14, out_qsize 1\n",
      "2020-05-31 08:36:47,083 : INFO : EPOCH 2 - PROGRESS: at 99.01% examples, 391841 words/s, in_qsize 10, out_qsize 0\n",
      "2020-05-31 08:36:47,119 : INFO : worker thread finished; awaiting finish of 7 more threads\n",
      "2020-05-31 08:36:47,121 : INFO : worker thread finished; awaiting finish of 6 more threads\n",
      "2020-05-31 08:36:47,171 : INFO : worker thread finished; awaiting finish of 5 more threads\n",
      "2020-05-31 08:36:47,188 : INFO : worker thread finished; awaiting finish of 4 more threads\n",
      "2020-05-31 08:36:47,191 : INFO : worker thread finished; awaiting finish of 3 more threads\n",
      "2020-05-31 08:36:47,193 : INFO : worker thread finished; awaiting finish of 2 more threads\n",
      "2020-05-31 08:36:47,200 : INFO : worker thread finished; awaiting finish of 1 more threads\n",
      "2020-05-31 08:36:47,213 : INFO : worker thread finished; awaiting finish of 0 more threads\n",
      "2020-05-31 08:36:47,213 : INFO : EPOCH - 2 : training on 9227204 raw words (8222539 effective words) took 20.9s, 393290 effective words/s\n",
      "2020-05-31 08:36:48,248 : INFO : EPOCH 3 - PROGRESS: at 4.45% examples, 361931 words/s, in_qsize 15, out_qsize 0\n",
      "2020-05-31 08:36:49,286 : INFO : EPOCH 3 - PROGRESS: at 9.44% examples, 378795 words/s, in_qsize 15, out_qsize 0\n",
      "2020-05-31 08:36:50,324 : INFO : EPOCH 3 - PROGRESS: at 14.11% examples, 375280 words/s, in_qsize 15, out_qsize 0\n",
      "2020-05-31 08:36:51,330 : INFO : EPOCH 3 - PROGRESS: at 17.89% examples, 359200 words/s, in_qsize 13, out_qsize 2\n",
      "2020-05-31 08:36:52,370 : INFO : EPOCH 3 - PROGRESS: at 23.20% examples, 371566 words/s, in_qsize 15, out_qsize 0\n",
      "2020-05-31 08:36:53,382 : INFO : EPOCH 3 - PROGRESS: at 28.40% examples, 379941 words/s, in_qsize 12, out_qsize 2\n",
      "2020-05-31 08:36:54,409 : INFO : EPOCH 3 - PROGRESS: at 33.27% examples, 381472 words/s, in_qsize 16, out_qsize 0\n",
      "2020-05-31 08:36:55,461 : INFO : EPOCH 3 - PROGRESS: at 37.70% examples, 377109 words/s, in_qsize 14, out_qsize 1\n",
      "2020-05-31 08:36:56,580 : INFO : EPOCH 3 - PROGRESS: at 40.83% examples, 359548 words/s, in_qsize 15, out_qsize 0\n",
      "2020-05-31 08:36:57,628 : INFO : EPOCH 3 - PROGRESS: at 44.94% examples, 355852 words/s, in_qsize 14, out_qsize 1\n",
      "2020-05-31 08:36:58,699 : INFO : EPOCH 3 - PROGRESS: at 50.45% examples, 362826 words/s, in_qsize 16, out_qsize 2\n",
      "2020-05-31 08:36:59,695 : INFO : EPOCH 3 - PROGRESS: at 55.53% examples, 366938 words/s, in_qsize 15, out_qsize 0\n",
      "2020-05-31 08:37:00,741 : INFO : EPOCH 3 - PROGRESS: at 60.85% examples, 370842 words/s, in_qsize 15, out_qsize 0\n",
      "2020-05-31 08:37:01,777 : INFO : EPOCH 3 - PROGRESS: at 65.72% examples, 371999 words/s, in_qsize 16, out_qsize 0\n",
      "2020-05-31 08:37:02,801 : INFO : EPOCH 3 - PROGRESS: at 70.59% examples, 373281 words/s, in_qsize 16, out_qsize 0\n",
      "2020-05-31 08:37:03,801 : INFO : EPOCH 3 - PROGRESS: at 75.89% examples, 377075 words/s, in_qsize 15, out_qsize 0\n"
     ]
    },
    {
     "name": "stderr",
     "output_type": "stream",
     "text": [
      "2020-05-31 08:37:04,825 : INFO : EPOCH 3 - PROGRESS: at 81.01% examples, 378918 words/s, in_qsize 12, out_qsize 1\n",
      "2020-05-31 08:37:05,832 : INFO : EPOCH 3 - PROGRESS: at 85.23% examples, 377074 words/s, in_qsize 14, out_qsize 1\n",
      "2020-05-31 08:37:06,867 : INFO : EPOCH 3 - PROGRESS: at 90.00% examples, 377218 words/s, in_qsize 15, out_qsize 0\n",
      "2020-05-31 08:37:07,927 : INFO : EPOCH 3 - PROGRESS: at 93.48% examples, 371591 words/s, in_qsize 14, out_qsize 1\n",
      "2020-05-31 08:37:09,010 : INFO : EPOCH 3 - PROGRESS: at 99.23% examples, 374781 words/s, in_qsize 8, out_qsize 0\n",
      "2020-05-31 08:37:09,017 : INFO : worker thread finished; awaiting finish of 7 more threads\n",
      "2020-05-31 08:37:09,022 : INFO : worker thread finished; awaiting finish of 6 more threads\n",
      "2020-05-31 08:37:09,024 : INFO : worker thread finished; awaiting finish of 5 more threads\n",
      "2020-05-31 08:37:09,025 : INFO : worker thread finished; awaiting finish of 4 more threads\n",
      "2020-05-31 08:37:09,026 : INFO : worker thread finished; awaiting finish of 3 more threads\n",
      "2020-05-31 08:37:09,027 : INFO : worker thread finished; awaiting finish of 2 more threads\n",
      "2020-05-31 08:37:09,031 : INFO : worker thread finished; awaiting finish of 1 more threads\n",
      "2020-05-31 08:37:09,032 : INFO : worker thread finished; awaiting finish of 0 more threads\n",
      "2020-05-31 08:37:09,032 : INFO : EPOCH - 3 : training on 9227204 raw words (8222663 effective words) took 21.8s, 377308 effective words/s\n",
      "2020-05-31 08:37:10,078 : INFO : EPOCH 4 - PROGRESS: at 5.00% examples, 396968 words/s, in_qsize 15, out_qsize 0\n",
      "2020-05-31 08:37:11,106 : INFO : EPOCH 4 - PROGRESS: at 9.77% examples, 389149 words/s, in_qsize 16, out_qsize 1\n",
      "2020-05-31 08:37:12,144 : INFO : EPOCH 4 - PROGRESS: at 15.30% examples, 405372 words/s, in_qsize 16, out_qsize 0\n",
      "2020-05-31 08:37:13,145 : INFO : EPOCH 4 - PROGRESS: at 20.27% examples, 406291 words/s, in_qsize 15, out_qsize 3\n",
      "2020-05-31 08:37:14,157 : INFO : EPOCH 4 - PROGRESS: at 25.37% examples, 407800 words/s, in_qsize 14, out_qsize 1\n",
      "2020-05-31 08:37:15,203 : INFO : EPOCH 4 - PROGRESS: at 30.45% examples, 407332 words/s, in_qsize 16, out_qsize 1\n",
      "2020-05-31 08:37:16,229 : INFO : EPOCH 4 - PROGRESS: at 35.75% examples, 409240 words/s, in_qsize 14, out_qsize 1\n",
      "2020-05-31 08:37:17,325 : INFO : EPOCH 4 - PROGRESS: at 40.19% examples, 399175 words/s, in_qsize 15, out_qsize 0\n",
      "2020-05-31 08:37:18,406 : INFO : EPOCH 4 - PROGRESS: at 44.62% examples, 392962 words/s, in_qsize 15, out_qsize 1\n",
      "2020-05-31 08:37:19,523 : INFO : EPOCH 4 - PROGRESS: at 49.16% examples, 387362 words/s, in_qsize 15, out_qsize 2\n",
      "2020-05-31 08:37:20,531 : INFO : EPOCH 4 - PROGRESS: at 53.59% examples, 385133 words/s, in_qsize 13, out_qsize 3\n",
      "2020-05-31 08:37:21,587 : INFO : EPOCH 4 - PROGRESS: at 58.79% examples, 385716 words/s, in_qsize 16, out_qsize 0\n",
      "2020-05-31 08:37:22,634 : INFO : EPOCH 4 - PROGRESS: at 64.08% examples, 388125 words/s, in_qsize 15, out_qsize 0\n",
      "2020-05-31 08:37:23,676 : INFO : EPOCH 4 - PROGRESS: at 69.72% examples, 392129 words/s, in_qsize 16, out_qsize 0\n",
      "2020-05-31 08:37:24,700 : INFO : EPOCH 4 - PROGRESS: at 74.81% examples, 393216 words/s, in_qsize 15, out_qsize 2\n",
      "2020-05-31 08:37:25,719 : INFO : EPOCH 4 - PROGRESS: at 80.25% examples, 395890 words/s, in_qsize 16, out_qsize 1\n",
      "2020-05-31 08:37:26,736 : INFO : EPOCH 4 - PROGRESS: at 85.34% examples, 396817 words/s, in_qsize 15, out_qsize 1\n",
      "2020-05-31 08:37:27,789 : INFO : EPOCH 4 - PROGRESS: at 90.00% examples, 394959 words/s, in_qsize 15, out_qsize 0\n",
      "2020-05-31 08:37:28,812 : INFO : EPOCH 4 - PROGRESS: at 94.58% examples, 393417 words/s, in_qsize 15, out_qsize 1\n",
      "2020-05-31 08:37:29,831 : INFO : EPOCH 4 - PROGRESS: at 98.57% examples, 389994 words/s, in_qsize 14, out_qsize 0\n",
      "2020-05-31 08:37:29,983 : INFO : worker thread finished; awaiting finish of 7 more threads\n",
      "2020-05-31 08:37:29,992 : INFO : worker thread finished; awaiting finish of 6 more threads\n",
      "2020-05-31 08:37:30,005 : INFO : worker thread finished; awaiting finish of 5 more threads\n",
      "2020-05-31 08:37:30,032 : INFO : worker thread finished; awaiting finish of 4 more threads\n",
      "2020-05-31 08:37:30,034 : INFO : worker thread finished; awaiting finish of 3 more threads\n",
      "2020-05-31 08:37:30,044 : INFO : worker thread finished; awaiting finish of 2 more threads\n",
      "2020-05-31 08:37:30,062 : INFO : worker thread finished; awaiting finish of 1 more threads\n",
      "2020-05-31 08:37:30,065 : INFO : worker thread finished; awaiting finish of 0 more threads\n",
      "2020-05-31 08:37:30,066 : INFO : EPOCH - 4 : training on 9227204 raw words (8222623 effective words) took 21.0s, 391191 effective words/s\n",
      "2020-05-31 08:37:31,080 : INFO : EPOCH 5 - PROGRESS: at 4.67% examples, 381128 words/s, in_qsize 15, out_qsize 1\n",
      "2020-05-31 08:37:32,216 : INFO : EPOCH 5 - PROGRESS: at 9.99% examples, 382914 words/s, in_qsize 10, out_qsize 5\n",
      "2020-05-31 08:37:33,245 : INFO : EPOCH 5 - PROGRESS: at 15.52% examples, 401927 words/s, in_qsize 15, out_qsize 0\n",
      "2020-05-31 08:37:34,294 : INFO : EPOCH 5 - PROGRESS: at 20.70% examples, 403342 words/s, in_qsize 14, out_qsize 2\n",
      "2020-05-31 08:37:35,299 : INFO : EPOCH 5 - PROGRESS: at 25.91% examples, 407642 words/s, in_qsize 16, out_qsize 0\n",
      "2020-05-31 08:37:36,303 : INFO : EPOCH 5 - PROGRESS: at 30.89% examples, 407746 words/s, in_qsize 14, out_qsize 1\n",
      "2020-05-31 08:37:37,309 : INFO : EPOCH 5 - PROGRESS: at 36.07% examples, 410102 words/s, in_qsize 15, out_qsize 0\n",
      "2020-05-31 08:37:38,366 : INFO : EPOCH 5 - PROGRESS: at 40.94% examples, 406176 words/s, in_qsize 14, out_qsize 4\n",
      "2020-05-31 08:37:39,385 : INFO : EPOCH 5 - PROGRESS: at 45.70% examples, 403802 words/s, in_qsize 15, out_qsize 0\n",
      "2020-05-31 08:37:40,631 : INFO : EPOCH 5 - PROGRESS: at 49.38% examples, 385598 words/s, in_qsize 16, out_qsize 7\n",
      "2020-05-31 08:37:41,662 : INFO : EPOCH 5 - PROGRESS: at 54.78% examples, 389032 words/s, in_qsize 15, out_qsize 0\n",
      "2020-05-31 08:37:42,673 : INFO : EPOCH 5 - PROGRESS: at 60.19% examples, 393193 words/s, in_qsize 15, out_qsize 1\n",
      "2020-05-31 08:37:43,691 : INFO : EPOCH 5 - PROGRESS: at 65.28% examples, 394544 words/s, in_qsize 15, out_qsize 0\n",
      "2020-05-31 08:37:44,743 : INFO : EPOCH 5 - PROGRESS: at 70.26% examples, 394192 words/s, in_qsize 15, out_qsize 0\n",
      "2020-05-31 08:37:45,777 : INFO : EPOCH 5 - PROGRESS: at 75.57% examples, 396027 words/s, in_qsize 15, out_qsize 0\n",
      "2020-05-31 08:37:46,781 : INFO : EPOCH 5 - PROGRESS: at 81.12% examples, 399418 words/s, in_qsize 15, out_qsize 0\n",
      "2020-05-31 08:37:47,793 : INFO : EPOCH 5 - PROGRESS: at 85.88% examples, 398724 words/s, in_qsize 13, out_qsize 4\n",
      "2020-05-31 08:37:48,795 : INFO : EPOCH 5 - PROGRESS: at 91.31% examples, 401167 words/s, in_qsize 15, out_qsize 0\n",
      "2020-05-31 08:37:49,806 : INFO : EPOCH 5 - PROGRESS: at 96.42% examples, 401828 words/s, in_qsize 13, out_qsize 1\n",
      "2020-05-31 08:37:50,871 : INFO : EPOCH 5 - PROGRESS: at 98.79% examples, 390664 words/s, in_qsize 12, out_qsize 0\n",
      "2020-05-31 08:37:50,966 : INFO : worker thread finished; awaiting finish of 7 more threads\n",
      "2020-05-31 08:37:50,972 : INFO : worker thread finished; awaiting finish of 6 more threads\n",
      "2020-05-31 08:37:50,991 : INFO : worker thread finished; awaiting finish of 5 more threads\n",
      "2020-05-31 08:37:50,995 : INFO : worker thread finished; awaiting finish of 4 more threads\n",
      "2020-05-31 08:37:51,007 : INFO : worker thread finished; awaiting finish of 3 more threads\n",
      "2020-05-31 08:37:51,036 : INFO : worker thread finished; awaiting finish of 2 more threads\n",
      "2020-05-31 08:37:51,043 : INFO : worker thread finished; awaiting finish of 1 more threads\n",
      "2020-05-31 08:37:51,046 : INFO : worker thread finished; awaiting finish of 0 more threads\n",
      "2020-05-31 08:37:51,048 : INFO : EPOCH - 5 : training on 9227204 raw words (8223122 effective words) took 21.0s, 392100 effective words/s\n",
      "2020-05-31 08:37:52,088 : INFO : EPOCH 6 - PROGRESS: at 3.36% examples, 270219 words/s, in_qsize 6, out_qsize 1\n",
      "2020-05-31 08:37:53,156 : INFO : EPOCH 6 - PROGRESS: at 6.73% examples, 264145 words/s, in_qsize 15, out_qsize 2\n",
      "2020-05-31 08:37:54,156 : INFO : EPOCH 6 - PROGRESS: at 10.10% examples, 268069 words/s, in_qsize 15, out_qsize 0\n",
      "2020-05-31 08:37:55,172 : INFO : EPOCH 6 - PROGRESS: at 15.19% examples, 303711 words/s, in_qsize 16, out_qsize 1\n",
      "2020-05-31 08:37:56,201 : INFO : EPOCH 6 - PROGRESS: at 20.59% examples, 329521 words/s, in_qsize 15, out_qsize 0\n"
     ]
    },
    {
     "name": "stderr",
     "output_type": "stream",
     "text": [
      "2020-05-31 08:37:57,202 : INFO : EPOCH 6 - PROGRESS: at 25.15% examples, 336798 words/s, in_qsize 13, out_qsize 2\n",
      "2020-05-31 08:37:58,218 : INFO : EPOCH 6 - PROGRESS: at 29.91% examples, 343759 words/s, in_qsize 15, out_qsize 0\n",
      "2020-05-31 08:37:59,220 : INFO : EPOCH 6 - PROGRESS: at 34.78% examples, 350683 words/s, in_qsize 14, out_qsize 1\n",
      "2020-05-31 08:38:00,250 : INFO : EPOCH 6 - PROGRESS: at 39.43% examples, 353076 words/s, in_qsize 14, out_qsize 6\n",
      "2020-05-31 08:38:01,260 : INFO : EPOCH 6 - PROGRESS: at 44.07% examples, 355636 words/s, in_qsize 14, out_qsize 2\n",
      "2020-05-31 08:38:02,316 : INFO : EPOCH 6 - PROGRESS: at 48.19% examples, 352353 words/s, in_qsize 15, out_qsize 3\n",
      "2020-05-31 08:38:03,340 : INFO : EPOCH 6 - PROGRESS: at 52.40% examples, 351276 words/s, in_qsize 16, out_qsize 0\n",
      "2020-05-31 08:38:04,345 : INFO : EPOCH 6 - PROGRESS: at 57.60% examples, 356891 words/s, in_qsize 15, out_qsize 0\n",
      "2020-05-31 08:38:05,400 : INFO : EPOCH 6 - PROGRESS: at 62.68% examples, 359826 words/s, in_qsize 16, out_qsize 0\n",
      "2020-05-31 08:38:06,404 : INFO : EPOCH 6 - PROGRESS: at 67.99% examples, 364748 words/s, in_qsize 15, out_qsize 0\n",
      "2020-05-31 08:38:07,409 : INFO : EPOCH 6 - PROGRESS: at 73.30% examples, 369021 words/s, in_qsize 14, out_qsize 0\n",
      "2020-05-31 08:38:08,437 : INFO : EPOCH 6 - PROGRESS: at 78.51% examples, 371786 words/s, in_qsize 11, out_qsize 1\n",
      "2020-05-31 08:38:09,474 : INFO : EPOCH 6 - PROGRESS: at 83.62% examples, 373585 words/s, in_qsize 15, out_qsize 0\n",
      "2020-05-31 08:38:10,492 : INFO : EPOCH 6 - PROGRESS: at 89.13% examples, 377383 words/s, in_qsize 15, out_qsize 0\n",
      "2020-05-31 08:38:11,513 : INFO : EPOCH 6 - PROGRESS: at 94.58% examples, 380284 words/s, in_qsize 16, out_qsize 0\n",
      "2020-05-31 08:38:12,566 : INFO : EPOCH 6 - PROGRESS: at 98.90% examples, 378227 words/s, in_qsize 11, out_qsize 0\n",
      "2020-05-31 08:38:12,711 : INFO : worker thread finished; awaiting finish of 7 more threads\n",
      "2020-05-31 08:38:12,724 : INFO : worker thread finished; awaiting finish of 6 more threads\n",
      "2020-05-31 08:38:12,728 : INFO : worker thread finished; awaiting finish of 5 more threads\n",
      "2020-05-31 08:38:12,730 : INFO : worker thread finished; awaiting finish of 4 more threads\n",
      "2020-05-31 08:38:12,735 : INFO : worker thread finished; awaiting finish of 3 more threads\n",
      "2020-05-31 08:38:12,737 : INFO : worker thread finished; awaiting finish of 2 more threads\n",
      "2020-05-31 08:38:12,750 : INFO : worker thread finished; awaiting finish of 1 more threads\n",
      "2020-05-31 08:38:12,761 : INFO : worker thread finished; awaiting finish of 0 more threads\n",
      "2020-05-31 08:38:12,763 : INFO : EPOCH - 6 : training on 9227204 raw words (8221909 effective words) took 21.7s, 378937 effective words/s\n",
      "2020-05-31 08:38:13,791 : INFO : EPOCH 7 - PROGRESS: at 3.14% examples, 255399 words/s, in_qsize 12, out_qsize 1\n",
      "2020-05-31 08:38:14,818 : INFO : EPOCH 7 - PROGRESS: at 8.25% examples, 332029 words/s, in_qsize 14, out_qsize 1\n",
      "2020-05-31 08:38:15,820 : INFO : EPOCH 7 - PROGRESS: at 13.57% examples, 366295 words/s, in_qsize 14, out_qsize 2\n",
      "2020-05-31 08:38:16,826 : INFO : EPOCH 7 - PROGRESS: at 18.65% examples, 378600 words/s, in_qsize 13, out_qsize 2\n",
      "2020-05-31 08:38:17,841 : INFO : EPOCH 7 - PROGRESS: at 23.85% examples, 387144 words/s, in_qsize 16, out_qsize 0\n",
      "2020-05-31 08:38:18,891 : INFO : EPOCH 7 - PROGRESS: at 29.16% examples, 392074 words/s, in_qsize 16, out_qsize 0\n",
      "2020-05-31 08:38:19,900 : INFO : EPOCH 7 - PROGRESS: at 34.46% examples, 397841 words/s, in_qsize 15, out_qsize 0\n",
      "2020-05-31 08:38:20,938 : INFO : EPOCH 7 - PROGRESS: at 39.76% examples, 400741 words/s, in_qsize 15, out_qsize 0\n",
      "2020-05-31 08:38:21,943 : INFO : EPOCH 7 - PROGRESS: at 45.38% examples, 407347 words/s, in_qsize 13, out_qsize 1\n",
      "2020-05-31 08:38:22,946 : INFO : EPOCH 7 - PROGRESS: at 49.92% examples, 403972 words/s, in_qsize 15, out_qsize 0\n",
      "2020-05-31 08:38:23,947 : INFO : EPOCH 7 - PROGRESS: at 53.92% examples, 397304 words/s, in_qsize 15, out_qsize 0\n",
      "2020-05-31 08:38:24,970 : INFO : EPOCH 7 - PROGRESS: at 58.03% examples, 391775 words/s, in_qsize 16, out_qsize 0\n",
      "2020-05-31 08:38:25,985 : INFO : EPOCH 7 - PROGRESS: at 62.79% examples, 391315 words/s, in_qsize 16, out_qsize 0\n",
      "2020-05-31 08:38:27,019 : INFO : EPOCH 7 - PROGRESS: at 67.45% examples, 389780 words/s, in_qsize 15, out_qsize 1\n",
      "2020-05-31 08:38:28,121 : INFO : EPOCH 7 - PROGRESS: at 72.75% examples, 390259 words/s, in_qsize 11, out_qsize 4\n",
      "2020-05-31 08:38:29,186 : INFO : EPOCH 7 - PROGRESS: at 78.40% examples, 393132 words/s, in_qsize 15, out_qsize 0\n",
      "2020-05-31 08:38:30,228 : INFO : EPOCH 7 - PROGRESS: at 84.37% examples, 397753 words/s, in_qsize 15, out_qsize 0\n",
      "2020-05-31 08:38:31,229 : INFO : EPOCH 7 - PROGRESS: at 89.56% examples, 399342 words/s, in_qsize 15, out_qsize 1\n",
      "2020-05-31 08:38:32,234 : INFO : EPOCH 7 - PROGRESS: at 94.68% examples, 400219 words/s, in_qsize 16, out_qsize 0\n",
      "2020-05-31 08:38:33,040 : INFO : worker thread finished; awaiting finish of 7 more threads\n",
      "2020-05-31 08:38:33,069 : INFO : worker thread finished; awaiting finish of 6 more threads\n",
      "2020-05-31 08:38:33,078 : INFO : worker thread finished; awaiting finish of 5 more threads\n",
      "2020-05-31 08:38:33,088 : INFO : worker thread finished; awaiting finish of 4 more threads\n",
      "2020-05-31 08:38:33,092 : INFO : worker thread finished; awaiting finish of 3 more threads\n",
      "2020-05-31 08:38:33,099 : INFO : worker thread finished; awaiting finish of 2 more threads\n",
      "2020-05-31 08:38:33,107 : INFO : worker thread finished; awaiting finish of 1 more threads\n",
      "2020-05-31 08:38:33,108 : INFO : worker thread finished; awaiting finish of 0 more threads\n",
      "2020-05-31 08:38:33,109 : INFO : EPOCH - 7 : training on 9227204 raw words (8223239 effective words) took 20.3s, 404517 effective words/s\n",
      "2020-05-31 08:38:34,121 : INFO : EPOCH 8 - PROGRESS: at 3.91% examples, 320293 words/s, in_qsize 15, out_qsize 0\n",
      "2020-05-31 08:38:35,184 : INFO : EPOCH 8 - PROGRESS: at 8.80% examples, 349516 words/s, in_qsize 14, out_qsize 1\n",
      "2020-05-31 08:38:36,198 : INFO : EPOCH 8 - PROGRESS: at 13.14% examples, 350184 words/s, in_qsize 15, out_qsize 1\n",
      "2020-05-31 08:38:37,263 : INFO : EPOCH 8 - PROGRESS: at 18.32% examples, 363336 words/s, in_qsize 15, out_qsize 0\n",
      "2020-05-31 08:38:38,289 : INFO : EPOCH 8 - PROGRESS: at 23.52% examples, 374024 words/s, in_qsize 14, out_qsize 1\n",
      "2020-05-31 08:38:39,358 : INFO : EPOCH 8 - PROGRESS: at 29.26% examples, 386423 words/s, in_qsize 15, out_qsize 1\n",
      "2020-05-31 08:38:40,378 : INFO : EPOCH 8 - PROGRESS: at 35.10% examples, 397683 words/s, in_qsize 15, out_qsize 0\n",
      "2020-05-31 08:38:41,415 : INFO : EPOCH 8 - PROGRESS: at 40.18% examples, 398441 words/s, in_qsize 15, out_qsize 0\n",
      "2020-05-31 08:38:42,417 : INFO : EPOCH 8 - PROGRESS: at 45.70% examples, 404371 words/s, in_qsize 14, out_qsize 0\n",
      "2020-05-31 08:38:43,428 : INFO : EPOCH 8 - PROGRESS: at 50.78% examples, 405340 words/s, in_qsize 15, out_qsize 0\n",
      "2020-05-31 08:38:44,429 : INFO : EPOCH 8 - PROGRESS: at 56.18% examples, 408881 words/s, in_qsize 15, out_qsize 1\n",
      "2020-05-31 08:38:45,463 : INFO : EPOCH 8 - PROGRESS: at 60.85% examples, 405664 words/s, in_qsize 15, out_qsize 0\n",
      "2020-05-31 08:38:46,515 : INFO : EPOCH 8 - PROGRESS: at 64.62% examples, 397071 words/s, in_qsize 15, out_qsize 0\n",
      "2020-05-31 08:38:47,569 : INFO : EPOCH 8 - PROGRESS: at 69.40% examples, 395228 words/s, in_qsize 15, out_qsize 0\n",
      "2020-05-31 08:38:48,637 : INFO : EPOCH 8 - PROGRESS: at 74.81% examples, 396722 words/s, in_qsize 15, out_qsize 0\n",
      "2020-05-31 08:38:49,681 : INFO : EPOCH 8 - PROGRESS: at 80.25% examples, 398592 words/s, in_qsize 15, out_qsize 0\n",
      "2020-05-31 08:38:50,695 : INFO : EPOCH 8 - PROGRESS: at 83.94% examples, 392829 words/s, in_qsize 15, out_qsize 3\n",
      "2020-05-31 08:38:51,710 : INFO : EPOCH 8 - PROGRESS: at 88.91% examples, 393411 words/s, in_qsize 16, out_qsize 0\n",
      "2020-05-31 08:38:52,715 : INFO : EPOCH 8 - PROGRESS: at 93.81% examples, 393659 words/s, in_qsize 14, out_qsize 1\n",
      "2020-05-31 08:38:53,676 : INFO : worker thread finished; awaiting finish of 7 more threads\n",
      "2020-05-31 08:38:53,681 : INFO : worker thread finished; awaiting finish of 6 more threads\n",
      "2020-05-31 08:38:53,710 : INFO : worker thread finished; awaiting finish of 5 more threads\n",
      "2020-05-31 08:38:53,714 : INFO : worker thread finished; awaiting finish of 4 more threads\n"
     ]
    },
    {
     "name": "stderr",
     "output_type": "stream",
     "text": [
      "2020-05-31 08:38:53,730 : INFO : EPOCH 8 - PROGRESS: at 99.67% examples, 397661 words/s, in_qsize 3, out_qsize 1\n",
      "2020-05-31 08:38:53,732 : INFO : worker thread finished; awaiting finish of 3 more threads\n",
      "2020-05-31 08:38:53,739 : INFO : worker thread finished; awaiting finish of 2 more threads\n",
      "2020-05-31 08:38:53,746 : INFO : worker thread finished; awaiting finish of 1 more threads\n",
      "2020-05-31 08:38:53,749 : INFO : worker thread finished; awaiting finish of 0 more threads\n",
      "2020-05-31 08:38:53,750 : INFO : EPOCH - 8 : training on 9227204 raw words (8222404 effective words) took 20.6s, 398576 effective words/s\n",
      "2020-05-31 08:38:54,895 : INFO : EPOCH 9 - PROGRESS: at 5.10% examples, 373287 words/s, in_qsize 15, out_qsize 2\n",
      "2020-05-31 08:38:56,016 : INFO : EPOCH 9 - PROGRESS: at 10.21% examples, 371113 words/s, in_qsize 15, out_qsize 0\n",
      "2020-05-31 08:38:57,019 : INFO : EPOCH 9 - PROGRESS: at 13.79% examples, 346965 words/s, in_qsize 13, out_qsize 0\n",
      "2020-05-31 08:38:58,047 : INFO : EPOCH 9 - PROGRESS: at 16.49% examples, 315674 words/s, in_qsize 14, out_qsize 2\n",
      "2020-05-31 08:38:59,125 : INFO : EPOCH 9 - PROGRESS: at 21.24% examples, 325341 words/s, in_qsize 15, out_qsize 1\n",
      "2020-05-31 08:39:00,133 : INFO : EPOCH 9 - PROGRESS: at 25.69% examples, 331201 words/s, in_qsize 15, out_qsize 0\n",
      "2020-05-31 08:39:01,142 : INFO : EPOCH 9 - PROGRESS: at 30.56% examples, 340225 words/s, in_qsize 15, out_qsize 0\n",
      "2020-05-31 08:39:02,238 : INFO : EPOCH 9 - PROGRESS: at 35.53% examples, 344576 words/s, in_qsize 15, out_qsize 0\n",
      "2020-05-31 08:39:03,271 : INFO : EPOCH 9 - PROGRESS: at 41.16% examples, 355846 words/s, in_qsize 15, out_qsize 0\n",
      "2020-05-31 08:39:04,329 : INFO : EPOCH 9 - PROGRESS: at 45.92% examples, 358360 words/s, in_qsize 15, out_qsize 3\n",
      "2020-05-31 08:39:05,349 : INFO : EPOCH 9 - PROGRESS: at 51.32% examples, 364847 words/s, in_qsize 16, out_qsize 1\n",
      "2020-05-31 08:39:06,426 : INFO : EPOCH 9 - PROGRESS: at 56.84% examples, 369218 words/s, in_qsize 15, out_qsize 0\n",
      "2020-05-31 08:39:07,439 : INFO : EPOCH 9 - PROGRESS: at 61.28% examples, 368586 words/s, in_qsize 16, out_qsize 0\n",
      "2020-05-31 08:39:08,480 : INFO : EPOCH 9 - PROGRESS: at 65.61% examples, 366709 words/s, in_qsize 16, out_qsize 0\n",
      "2020-05-31 08:39:09,481 : INFO : EPOCH 9 - PROGRESS: at 68.97% examples, 360930 words/s, in_qsize 15, out_qsize 2\n",
      "2020-05-31 08:39:10,504 : INFO : EPOCH 9 - PROGRESS: at 74.05% examples, 364122 words/s, in_qsize 15, out_qsize 7\n",
      "2020-05-31 08:39:11,526 : INFO : EPOCH 9 - PROGRESS: at 79.92% examples, 369988 words/s, in_qsize 15, out_qsize 0\n",
      "2020-05-31 08:39:12,550 : INFO : EPOCH 9 - PROGRESS: at 85.02% examples, 372134 words/s, in_qsize 16, out_qsize 1\n",
      "2020-05-31 08:39:13,620 : INFO : EPOCH 9 - PROGRESS: at 90.22% examples, 373579 words/s, in_qsize 13, out_qsize 2\n",
      "2020-05-31 08:39:14,637 : INFO : EPOCH 9 - PROGRESS: at 95.45% examples, 375849 words/s, in_qsize 15, out_qsize 0\n",
      "2020-05-31 08:39:15,336 : INFO : worker thread finished; awaiting finish of 7 more threads\n",
      "2020-05-31 08:39:15,338 : INFO : worker thread finished; awaiting finish of 6 more threads\n",
      "2020-05-31 08:39:15,340 : INFO : worker thread finished; awaiting finish of 5 more threads\n",
      "2020-05-31 08:39:15,345 : INFO : worker thread finished; awaiting finish of 4 more threads\n",
      "2020-05-31 08:39:15,350 : INFO : worker thread finished; awaiting finish of 3 more threads\n",
      "2020-05-31 08:39:15,365 : INFO : worker thread finished; awaiting finish of 2 more threads\n",
      "2020-05-31 08:39:15,380 : INFO : worker thread finished; awaiting finish of 1 more threads\n",
      "2020-05-31 08:39:15,381 : INFO : worker thread finished; awaiting finish of 0 more threads\n",
      "2020-05-31 08:39:15,382 : INFO : EPOCH - 9 : training on 9227204 raw words (8222230 effective words) took 21.6s, 380250 effective words/s\n",
      "2020-05-31 08:39:16,406 : INFO : EPOCH 10 - PROGRESS: at 4.34% examples, 351184 words/s, in_qsize 16, out_qsize 3\n",
      "2020-05-31 08:39:17,423 : INFO : EPOCH 10 - PROGRESS: at 9.77% examples, 394839 words/s, in_qsize 15, out_qsize 0\n",
      "2020-05-31 08:39:18,494 : INFO : EPOCH 10 - PROGRESS: at 14.33% examples, 379117 words/s, in_qsize 15, out_qsize 2\n",
      "2020-05-31 08:39:19,512 : INFO : EPOCH 10 - PROGRESS: at 18.86% examples, 376191 words/s, in_qsize 13, out_qsize 0\n",
      "2020-05-31 08:39:20,559 : INFO : EPOCH 10 - PROGRESS: at 22.98% examples, 365498 words/s, in_qsize 15, out_qsize 0\n",
      "2020-05-31 08:39:21,572 : INFO : EPOCH 10 - PROGRESS: at 28.50% examples, 379037 words/s, in_qsize 16, out_qsize 1\n",
      "2020-05-31 08:39:22,641 : INFO : EPOCH 10 - PROGRESS: at 34.03% examples, 385785 words/s, in_qsize 15, out_qsize 0\n",
      "2020-05-31 08:39:23,661 : INFO : EPOCH 10 - PROGRESS: at 39.54% examples, 393181 words/s, in_qsize 15, out_qsize 0\n",
      "2020-05-31 08:39:24,696 : INFO : EPOCH 10 - PROGRESS: at 45.05% examples, 398250 words/s, in_qsize 15, out_qsize 0\n",
      "2020-05-31 08:39:25,704 : INFO : EPOCH 10 - PROGRESS: at 50.45% examples, 402498 words/s, in_qsize 15, out_qsize 2\n",
      "2020-05-31 08:39:26,714 : INFO : EPOCH 10 - PROGRESS: at 55.75% examples, 405175 words/s, in_qsize 16, out_qsize 0\n",
      "2020-05-31 08:39:27,746 : INFO : EPOCH 10 - PROGRESS: at 61.50% examples, 409549 words/s, in_qsize 15, out_qsize 0\n",
      "2020-05-31 08:39:28,774 : INFO : EPOCH 10 - PROGRESS: at 66.69% examples, 410021 words/s, in_qsize 15, out_qsize 0\n",
      "2020-05-31 08:39:29,780 : INFO : EPOCH 10 - PROGRESS: at 71.13% examples, 406748 words/s, in_qsize 15, out_qsize 1\n",
      "2020-05-31 08:39:31,046 : INFO : EPOCH 10 - PROGRESS: at 75.24% examples, 395473 words/s, in_qsize 11, out_qsize 7\n",
      "2020-05-31 08:39:32,084 : INFO : EPOCH 10 - PROGRESS: at 81.01% examples, 399165 words/s, in_qsize 14, out_qsize 0\n",
      "2020-05-31 08:39:33,086 : INFO : EPOCH 10 - PROGRESS: at 85.34% examples, 396699 words/s, in_qsize 15, out_qsize 0\n",
      "2020-05-31 08:39:34,095 : INFO : EPOCH 10 - PROGRESS: at 90.43% examples, 397667 words/s, in_qsize 15, out_qsize 0\n",
      "2020-05-31 08:39:35,134 : INFO : EPOCH 10 - PROGRESS: at 95.88% examples, 399289 words/s, in_qsize 15, out_qsize 0\n",
      "2020-05-31 08:39:35,692 : INFO : worker thread finished; awaiting finish of 7 more threads\n",
      "2020-05-31 08:39:35,701 : INFO : worker thread finished; awaiting finish of 6 more threads\n",
      "2020-05-31 08:39:35,705 : INFO : worker thread finished; awaiting finish of 5 more threads\n",
      "2020-05-31 08:39:35,709 : INFO : worker thread finished; awaiting finish of 4 more threads\n",
      "2020-05-31 08:39:35,745 : INFO : worker thread finished; awaiting finish of 3 more threads\n",
      "2020-05-31 08:39:35,751 : INFO : worker thread finished; awaiting finish of 2 more threads\n",
      "2020-05-31 08:39:35,759 : INFO : worker thread finished; awaiting finish of 1 more threads\n",
      "2020-05-31 08:39:35,762 : INFO : worker thread finished; awaiting finish of 0 more threads\n",
      "2020-05-31 08:39:35,763 : INFO : EPOCH - 10 : training on 9227204 raw words (8221978 effective words) took 20.4s, 403617 effective words/s\n",
      "2020-05-31 08:39:36,783 : INFO : EPOCH 11 - PROGRESS: at 4.67% examples, 380496 words/s, in_qsize 15, out_qsize 0\n",
      "2020-05-31 08:39:37,790 : INFO : EPOCH 11 - PROGRESS: at 9.88% examples, 402492 words/s, in_qsize 15, out_qsize 3\n",
      "2020-05-31 08:39:38,865 : INFO : EPOCH 11 - PROGRESS: at 15.62% examples, 415277 words/s, in_qsize 15, out_qsize 0\n",
      "2020-05-31 08:39:39,936 : INFO : EPOCH 11 - PROGRESS: at 21.14% examples, 417537 words/s, in_qsize 15, out_qsize 0\n",
      "2020-05-31 08:39:40,963 : INFO : EPOCH 11 - PROGRESS: at 25.80% examples, 408769 words/s, in_qsize 14, out_qsize 1\n",
      "2020-05-31 08:39:41,983 : INFO : EPOCH 11 - PROGRESS: at 30.24% examples, 400437 words/s, in_qsize 15, out_qsize 0\n",
      "2020-05-31 08:39:43,005 : INFO : EPOCH 11 - PROGRESS: at 34.78% examples, 395590 words/s, in_qsize 15, out_qsize 0\n",
      "2020-05-31 08:39:44,142 : INFO : EPOCH 11 - PROGRESS: at 40.62% examples, 400825 words/s, in_qsize 15, out_qsize 3\n",
      "2020-05-31 08:39:45,148 : INFO : EPOCH 11 - PROGRESS: at 46.35% examples, 406795 words/s, in_qsize 13, out_qsize 3\n",
      "2020-05-31 08:39:46,153 : INFO : EPOCH 11 - PROGRESS: at 51.54% examples, 408678 words/s, in_qsize 15, out_qsize 3\n",
      "2020-05-31 08:39:47,199 : INFO : EPOCH 11 - PROGRESS: at 57.38% examples, 413388 words/s, in_qsize 15, out_qsize 0\n",
      "2020-05-31 08:39:48,222 : INFO : EPOCH 11 - PROGRESS: at 62.46% examples, 413060 words/s, in_qsize 12, out_qsize 3\n",
      "2020-05-31 08:39:49,289 : INFO : EPOCH 11 - PROGRESS: at 68.53% examples, 417365 words/s, in_qsize 16, out_qsize 0\n"
     ]
    },
    {
     "name": "stderr",
     "output_type": "stream",
     "text": [
      "2020-05-31 08:39:50,311 : INFO : EPOCH 11 - PROGRESS: at 72.97% examples, 413130 words/s, in_qsize 15, out_qsize 0\n",
      "2020-05-31 08:39:51,313 : INFO : EPOCH 11 - PROGRESS: at 76.55% examples, 405409 words/s, in_qsize 14, out_qsize 0\n",
      "2020-05-31 08:39:52,454 : INFO : EPOCH 11 - PROGRESS: at 80.68% examples, 397966 words/s, in_qsize 15, out_qsize 0\n",
      "2020-05-31 08:39:53,455 : INFO : EPOCH 11 - PROGRESS: at 84.04% examples, 391083 words/s, in_qsize 15, out_qsize 0\n",
      "2020-05-31 08:39:54,502 : INFO : EPOCH 11 - PROGRESS: at 89.13% examples, 391556 words/s, in_qsize 13, out_qsize 2\n",
      "2020-05-31 08:39:55,525 : INFO : EPOCH 11 - PROGRESS: at 94.91% examples, 395163 words/s, in_qsize 15, out_qsize 0\n",
      "2020-05-31 08:39:56,374 : INFO : worker thread finished; awaiting finish of 7 more threads\n",
      "2020-05-31 08:39:56,383 : INFO : worker thread finished; awaiting finish of 6 more threads\n",
      "2020-05-31 08:39:56,385 : INFO : worker thread finished; awaiting finish of 5 more threads\n",
      "2020-05-31 08:39:56,389 : INFO : worker thread finished; awaiting finish of 4 more threads\n",
      "2020-05-31 08:39:56,399 : INFO : worker thread finished; awaiting finish of 3 more threads\n",
      "2020-05-31 08:39:56,410 : INFO : worker thread finished; awaiting finish of 2 more threads\n",
      "2020-05-31 08:39:56,415 : INFO : worker thread finished; awaiting finish of 1 more threads\n",
      "2020-05-31 08:39:56,418 : INFO : worker thread finished; awaiting finish of 0 more threads\n",
      "2020-05-31 08:39:56,419 : INFO : EPOCH - 11 : training on 9227204 raw words (8223156 effective words) took 20.6s, 398360 effective words/s\n",
      "2020-05-31 08:39:57,523 : INFO : EPOCH 12 - PROGRESS: at 4.78% examples, 358369 words/s, in_qsize 16, out_qsize 0\n",
      "2020-05-31 08:39:58,530 : INFO : EPOCH 12 - PROGRESS: at 9.77% examples, 381751 words/s, in_qsize 14, out_qsize 1\n",
      "2020-05-31 08:39:59,543 : INFO : EPOCH 12 - PROGRESS: at 15.08% examples, 397670 words/s, in_qsize 13, out_qsize 2\n",
      "2020-05-31 08:40:00,700 : INFO : EPOCH 12 - PROGRESS: at 20.81% examples, 402080 words/s, in_qsize 11, out_qsize 7\n",
      "2020-05-31 08:40:01,687 : INFO : EPOCH 12 - PROGRESS: at 26.56% examples, 415098 words/s, in_qsize 16, out_qsize 1\n",
      "2020-05-31 08:40:02,735 : INFO : EPOCH 12 - PROGRESS: at 30.78% examples, 401228 words/s, in_qsize 14, out_qsize 1\n",
      "2020-05-31 08:40:03,747 : INFO : EPOCH 12 - PROGRESS: at 35.00% examples, 393202 words/s, in_qsize 14, out_qsize 0\n",
      "2020-05-31 08:40:04,777 : INFO : EPOCH 12 - PROGRESS: at 39.43% examples, 388422 words/s, in_qsize 15, out_qsize 0\n",
      "2020-05-31 08:40:05,789 : INFO : EPOCH 12 - PROGRESS: at 43.75% examples, 384539 words/s, in_qsize 15, out_qsize 0\n",
      "2020-05-31 08:40:06,844 : INFO : EPOCH 12 - PROGRESS: at 49.06% examples, 387479 words/s, in_qsize 15, out_qsize 0\n",
      "2020-05-31 08:40:07,875 : INFO : EPOCH 12 - PROGRESS: at 54.56% examples, 392328 words/s, in_qsize 15, out_qsize 0\n",
      "2020-05-31 08:40:08,885 : INFO : EPOCH 12 - PROGRESS: at 60.30% examples, 398422 words/s, in_qsize 15, out_qsize 0\n",
      "2020-05-31 08:40:09,892 : INFO : EPOCH 12 - PROGRESS: at 65.50% examples, 400379 words/s, in_qsize 15, out_qsize 0\n",
      "2020-05-31 08:40:10,897 : INFO : EPOCH 12 - PROGRESS: at 71.24% examples, 405196 words/s, in_qsize 16, out_qsize 0\n",
      "2020-05-31 08:40:11,981 : INFO : EPOCH 12 - PROGRESS: at 76.55% examples, 405710 words/s, in_qsize 13, out_qsize 5\n",
      "2020-05-31 08:40:13,087 : INFO : EPOCH 12 - PROGRESS: at 82.53% examples, 407561 words/s, in_qsize 16, out_qsize 0\n",
      "2020-05-31 08:40:14,193 : INFO : EPOCH 12 - PROGRESS: at 87.39% examples, 404722 words/s, in_qsize 16, out_qsize 0\n",
      "2020-05-31 08:40:15,262 : INFO : EPOCH 12 - PROGRESS: at 90.87% examples, 397869 words/s, in_qsize 16, out_qsize 6\n",
      "2020-05-31 08:40:16,239 : INFO : EPOCH 12 - PROGRESS: at 96.53% examples, 400956 words/s, in_qsize 15, out_qsize 0\n",
      "2020-05-31 08:40:16,740 : INFO : worker thread finished; awaiting finish of 7 more threads\n",
      "2020-05-31 08:40:16,753 : INFO : worker thread finished; awaiting finish of 6 more threads\n",
      "2020-05-31 08:40:16,760 : INFO : worker thread finished; awaiting finish of 5 more threads\n",
      "2020-05-31 08:40:16,773 : INFO : worker thread finished; awaiting finish of 4 more threads\n",
      "2020-05-31 08:40:16,782 : INFO : worker thread finished; awaiting finish of 3 more threads\n",
      "2020-05-31 08:40:16,798 : INFO : worker thread finished; awaiting finish of 2 more threads\n",
      "2020-05-31 08:40:16,799 : INFO : worker thread finished; awaiting finish of 1 more threads\n",
      "2020-05-31 08:40:16,804 : INFO : worker thread finished; awaiting finish of 0 more threads\n",
      "2020-05-31 08:40:16,805 : INFO : EPOCH - 12 : training on 9227204 raw words (8223459 effective words) took 20.4s, 403592 effective words/s\n",
      "2020-05-31 08:40:17,970 : INFO : EPOCH 13 - PROGRESS: at 4.67% examples, 344805 words/s, in_qsize 15, out_qsize 6\n",
      "2020-05-31 08:40:18,946 : INFO : EPOCH 13 - PROGRESS: at 10.64% examples, 409953 words/s, in_qsize 16, out_qsize 0\n",
      "2020-05-31 08:40:19,973 : INFO : EPOCH 13 - PROGRESS: at 15.84% examples, 411862 words/s, in_qsize 14, out_qsize 2\n",
      "2020-05-31 08:40:20,981 : INFO : EPOCH 13 - PROGRESS: at 21.35% examples, 421221 words/s, in_qsize 15, out_qsize 0\n",
      "2020-05-31 08:40:22,025 : INFO : EPOCH 13 - PROGRESS: at 26.34% examples, 415453 words/s, in_qsize 16, out_qsize 0\n",
      "2020-05-31 08:40:23,031 : INFO : EPOCH 13 - PROGRESS: at 31.54% examples, 417042 words/s, in_qsize 13, out_qsize 2\n",
      "2020-05-31 08:40:24,115 : INFO : EPOCH 13 - PROGRESS: at 36.51% examples, 411244 words/s, in_qsize 15, out_qsize 1\n",
      "2020-05-31 08:40:25,127 : INFO : EPOCH 13 - PROGRESS: at 41.48% examples, 410433 words/s, in_qsize 12, out_qsize 1\n",
      "2020-05-31 08:40:26,160 : INFO : EPOCH 13 - PROGRESS: at 45.70% examples, 403326 words/s, in_qsize 15, out_qsize 0\n",
      "2020-05-31 08:40:27,157 : INFO : EPOCH 13 - PROGRESS: at 50.35% examples, 400518 words/s, in_qsize 13, out_qsize 0\n",
      "2020-05-31 08:40:28,205 : INFO : EPOCH 13 - PROGRESS: at 55.32% examples, 399685 words/s, in_qsize 14, out_qsize 1\n",
      "2020-05-31 08:40:29,220 : INFO : EPOCH 13 - PROGRESS: at 60.85% examples, 403626 words/s, in_qsize 13, out_qsize 2\n",
      "2020-05-31 08:40:30,230 : INFO : EPOCH 13 - PROGRESS: at 66.37% examples, 407069 words/s, in_qsize 15, out_qsize 0\n",
      "2020-05-31 08:40:31,264 : INFO : EPOCH 13 - PROGRESS: at 71.35% examples, 406470 words/s, in_qsize 15, out_qsize 7\n",
      "2020-05-31 08:40:32,322 : INFO : EPOCH 13 - PROGRESS: at 77.20% examples, 409564 words/s, in_qsize 13, out_qsize 2\n",
      "2020-05-31 08:40:33,382 : INFO : EPOCH 13 - PROGRESS: at 82.75% examples, 410812 words/s, in_qsize 16, out_qsize 1\n",
      "2020-05-31 08:40:34,393 : INFO : EPOCH 13 - PROGRESS: at 88.59% examples, 414514 words/s, in_qsize 15, out_qsize 0\n",
      "2020-05-31 08:40:35,412 : INFO : EPOCH 13 - PROGRESS: at 93.48% examples, 413340 words/s, in_qsize 15, out_qsize 0\n",
      "2020-05-31 08:40:36,427 : INFO : EPOCH 13 - PROGRESS: at 97.93% examples, 410570 words/s, in_qsize 14, out_qsize 1\n",
      "2020-05-31 08:40:36,672 : INFO : worker thread finished; awaiting finish of 7 more threads\n",
      "2020-05-31 08:40:36,728 : INFO : worker thread finished; awaiting finish of 6 more threads\n",
      "2020-05-31 08:40:36,832 : INFO : worker thread finished; awaiting finish of 5 more threads\n",
      "2020-05-31 08:40:36,838 : INFO : worker thread finished; awaiting finish of 4 more threads\n",
      "2020-05-31 08:40:36,843 : INFO : worker thread finished; awaiting finish of 3 more threads\n",
      "2020-05-31 08:40:36,851 : INFO : worker thread finished; awaiting finish of 2 more threads\n",
      "2020-05-31 08:40:36,856 : INFO : worker thread finished; awaiting finish of 1 more threads\n",
      "2020-05-31 08:40:36,859 : INFO : worker thread finished; awaiting finish of 0 more threads\n",
      "2020-05-31 08:40:36,860 : INFO : EPOCH - 13 : training on 9227204 raw words (8222182 effective words) took 20.0s, 410192 effective words/s\n",
      "2020-05-31 08:40:37,899 : INFO : EPOCH 14 - PROGRESS: at 4.23% examples, 337768 words/s, in_qsize 16, out_qsize 0\n",
      "2020-05-31 08:40:38,920 : INFO : EPOCH 14 - PROGRESS: at 8.37% examples, 334625 words/s, in_qsize 15, out_qsize 0\n",
      "2020-05-31 08:40:39,988 : INFO : EPOCH 14 - PROGRESS: at 13.90% examples, 365693 words/s, in_qsize 15, out_qsize 0\n",
      "2020-05-31 08:40:41,043 : INFO : EPOCH 14 - PROGRESS: at 19.62% examples, 386373 words/s, in_qsize 15, out_qsize 0\n",
      "2020-05-31 08:40:42,054 : INFO : EPOCH 14 - PROGRESS: at 24.83% examples, 393498 words/s, in_qsize 14, out_qsize 1\n"
     ]
    },
    {
     "name": "stderr",
     "output_type": "stream",
     "text": [
      "2020-05-31 08:40:43,114 : INFO : EPOCH 14 - PROGRESS: at 30.24% examples, 398058 words/s, in_qsize 15, out_qsize 0\n",
      "2020-05-31 08:40:44,247 : INFO : EPOCH 14 - PROGRESS: at 36.18% examples, 403318 words/s, in_qsize 15, out_qsize 1\n",
      "2020-05-31 08:40:45,248 : INFO : EPOCH 14 - PROGRESS: at 41.80% examples, 410420 words/s, in_qsize 15, out_qsize 4\n",
      "2020-05-31 08:40:46,281 : INFO : EPOCH 14 - PROGRESS: at 46.99% examples, 410855 words/s, in_qsize 16, out_qsize 0\n",
      "2020-05-31 08:40:47,289 : INFO : EPOCH 14 - PROGRESS: at 51.64% examples, 407907 words/s, in_qsize 15, out_qsize 0\n",
      "2020-05-31 08:40:48,306 : INFO : EPOCH 14 - PROGRESS: at 55.21% examples, 397325 words/s, in_qsize 15, out_qsize 0\n",
      "2020-05-31 08:40:49,395 : INFO : EPOCH 14 - PROGRESS: at 60.96% examples, 400477 words/s, in_qsize 15, out_qsize 0\n",
      "2020-05-31 08:40:50,435 : INFO : EPOCH 14 - PROGRESS: at 65.38% examples, 396675 words/s, in_qsize 15, out_qsize 0\n",
      "2020-05-31 08:40:51,517 : INFO : EPOCH 14 - PROGRESS: at 69.94% examples, 392923 words/s, in_qsize 15, out_qsize 0\n",
      "2020-05-31 08:40:52,591 : INFO : EPOCH 14 - PROGRESS: at 74.16% examples, 388154 words/s, in_qsize 15, out_qsize 0\n",
      "2020-05-31 08:40:53,613 : INFO : EPOCH 14 - PROGRESS: at 80.03% examples, 393182 words/s, in_qsize 14, out_qsize 1\n",
      "2020-05-31 08:40:54,622 : INFO : EPOCH 14 - PROGRESS: at 85.13% examples, 394432 words/s, in_qsize 16, out_qsize 0\n",
      "2020-05-31 08:40:55,631 : INFO : EPOCH 14 - PROGRESS: at 90.54% examples, 396951 words/s, in_qsize 16, out_qsize 0\n",
      "2020-05-31 08:40:56,764 : INFO : EPOCH 14 - PROGRESS: at 96.21% examples, 398124 words/s, in_qsize 15, out_qsize 3\n",
      "2020-05-31 08:40:57,254 : INFO : worker thread finished; awaiting finish of 7 more threads\n",
      "2020-05-31 08:40:57,285 : INFO : worker thread finished; awaiting finish of 6 more threads\n",
      "2020-05-31 08:40:57,290 : INFO : worker thread finished; awaiting finish of 5 more threads\n",
      "2020-05-31 08:40:57,313 : INFO : worker thread finished; awaiting finish of 4 more threads\n",
      "2020-05-31 08:40:57,343 : INFO : worker thread finished; awaiting finish of 3 more threads\n",
      "2020-05-31 08:40:57,359 : INFO : worker thread finished; awaiting finish of 2 more threads\n",
      "2020-05-31 08:40:57,377 : INFO : worker thread finished; awaiting finish of 1 more threads\n",
      "2020-05-31 08:40:57,405 : INFO : worker thread finished; awaiting finish of 0 more threads\n",
      "2020-05-31 08:40:57,409 : INFO : EPOCH - 14 : training on 9227204 raw words (8222883 effective words) took 20.5s, 400372 effective words/s\n",
      "2020-05-31 08:40:58,489 : INFO : EPOCH 15 - PROGRESS: at 4.01% examples, 310248 words/s, in_qsize 15, out_qsize 0\n",
      "2020-05-31 08:40:59,525 : INFO : EPOCH 15 - PROGRESS: at 7.49% examples, 292816 words/s, in_qsize 12, out_qsize 5\n",
      "2020-05-31 08:41:00,526 : INFO : EPOCH 15 - PROGRESS: at 12.93% examples, 341974 words/s, in_qsize 15, out_qsize 0\n",
      "2020-05-31 08:41:01,535 : INFO : EPOCH 15 - PROGRESS: at 18.43% examples, 368412 words/s, in_qsize 14, out_qsize 0\n",
      "2020-05-31 08:41:02,601 : INFO : EPOCH 15 - PROGRESS: at 23.20% examples, 368345 words/s, in_qsize 13, out_qsize 2\n",
      "2020-05-31 08:41:03,620 : INFO : EPOCH 15 - PROGRESS: at 28.94% examples, 384001 words/s, in_qsize 15, out_qsize 0\n",
      "2020-05-31 08:41:04,649 : INFO : EPOCH 15 - PROGRESS: at 34.24% examples, 389725 words/s, in_qsize 15, out_qsize 1\n",
      "2020-05-31 08:41:05,751 : INFO : EPOCH 15 - PROGRESS: at 39.97% examples, 395691 words/s, in_qsize 15, out_qsize 1\n",
      "2020-05-31 08:41:06,783 : INFO : EPOCH 15 - PROGRESS: at 45.37% examples, 399623 words/s, in_qsize 15, out_qsize 0\n",
      "2020-05-31 08:41:07,784 : INFO : EPOCH 15 - PROGRESS: at 50.99% examples, 405059 words/s, in_qsize 15, out_qsize 0\n",
      "2020-05-31 08:41:08,789 : INFO : EPOCH 15 - PROGRESS: at 55.21% examples, 399802 words/s, in_qsize 12, out_qsize 3\n",
      "2020-05-31 08:41:09,840 : INFO : EPOCH 15 - PROGRESS: at 59.55% examples, 394972 words/s, in_qsize 15, out_qsize 2\n",
      "2020-05-31 08:41:10,839 : INFO : EPOCH 15 - PROGRESS: at 63.44% examples, 389192 words/s, in_qsize 13, out_qsize 2\n",
      "2020-05-31 08:41:11,863 : INFO : EPOCH 15 - PROGRESS: at 67.77% examples, 386250 words/s, in_qsize 13, out_qsize 2\n",
      "2020-05-31 08:41:12,868 : INFO : EPOCH 15 - PROGRESS: at 72.75% examples, 387636 words/s, in_qsize 15, out_qsize 3\n",
      "2020-05-31 08:41:13,874 : INFO : EPOCH 15 - PROGRESS: at 78.51% examples, 392613 words/s, in_qsize 16, out_qsize 0\n",
      "2020-05-31 08:41:14,876 : INFO : EPOCH 15 - PROGRESS: at 83.50% examples, 393543 words/s, in_qsize 15, out_qsize 0\n",
      "2020-05-31 08:41:15,887 : INFO : EPOCH 15 - PROGRESS: at 89.13% examples, 397075 words/s, in_qsize 15, out_qsize 0\n",
      "2020-05-31 08:41:16,889 : INFO : EPOCH 15 - PROGRESS: at 94.79% examples, 400425 words/s, in_qsize 16, out_qsize 0\n",
      "2020-05-31 08:41:17,789 : INFO : worker thread finished; awaiting finish of 7 more threads\n",
      "2020-05-31 08:41:17,795 : INFO : worker thread finished; awaiting finish of 6 more threads\n",
      "2020-05-31 08:41:17,800 : INFO : worker thread finished; awaiting finish of 5 more threads\n",
      "2020-05-31 08:41:17,801 : INFO : worker thread finished; awaiting finish of 4 more threads\n",
      "2020-05-31 08:41:17,812 : INFO : worker thread finished; awaiting finish of 3 more threads\n",
      "2020-05-31 08:41:17,818 : INFO : worker thread finished; awaiting finish of 2 more threads\n",
      "2020-05-31 08:41:17,828 : INFO : worker thread finished; awaiting finish of 1 more threads\n",
      "2020-05-31 08:41:17,835 : INFO : worker thread finished; awaiting finish of 0 more threads\n",
      "2020-05-31 08:41:17,836 : INFO : EPOCH - 15 : training on 9227204 raw words (8221728 effective words) took 20.4s, 402847 effective words/s\n",
      "2020-05-31 08:41:18,901 : INFO : EPOCH 16 - PROGRESS: at 4.02% examples, 312298 words/s, in_qsize 13, out_qsize 4\n",
      "2020-05-31 08:41:19,958 : INFO : EPOCH 16 - PROGRESS: at 9.01% examples, 350167 words/s, in_qsize 16, out_qsize 1\n",
      "2020-05-31 08:41:20,969 : INFO : EPOCH 16 - PROGRESS: at 13.36% examples, 350857 words/s, in_qsize 15, out_qsize 0\n",
      "2020-05-31 08:41:21,979 : INFO : EPOCH 16 - PROGRESS: at 18.65% examples, 370686 words/s, in_qsize 13, out_qsize 3\n",
      "2020-05-31 08:41:22,983 : INFO : EPOCH 16 - PROGRESS: at 23.84% examples, 381627 words/s, in_qsize 14, out_qsize 1\n",
      "2020-05-31 08:41:24,001 : INFO : EPOCH 16 - PROGRESS: at 29.70% examples, 396636 words/s, in_qsize 15, out_qsize 0\n",
      "2020-05-31 08:41:25,006 : INFO : EPOCH 16 - PROGRESS: at 35.32% examples, 405661 words/s, in_qsize 15, out_qsize 0\n",
      "2020-05-31 08:41:26,042 : INFO : EPOCH 16 - PROGRESS: at 40.41% examples, 405483 words/s, in_qsize 15, out_qsize 0\n",
      "2020-05-31 08:41:27,083 : INFO : EPOCH 16 - PROGRESS: at 46.24% examples, 411847 words/s, in_qsize 15, out_qsize 0\n",
      "2020-05-31 08:41:28,215 : INFO : EPOCH 16 - PROGRESS: at 51.75% examples, 410723 words/s, in_qsize 14, out_qsize 1\n",
      "2020-05-31 08:41:29,238 : INFO : EPOCH 16 - PROGRESS: at 57.16% examples, 412960 words/s, in_qsize 15, out_qsize 0\n",
      "2020-05-31 08:41:30,274 : INFO : EPOCH 16 - PROGRESS: at 61.60% examples, 408697 words/s, in_qsize 10, out_qsize 5\n",
      "2020-05-31 08:41:31,273 : INFO : EPOCH 16 - PROGRESS: at 65.50% examples, 401454 words/s, in_qsize 12, out_qsize 1\n",
      "2020-05-31 08:41:32,280 : INFO : EPOCH 16 - PROGRESS: at 70.69% examples, 403076 words/s, in_qsize 15, out_qsize 0\n",
      "2020-05-31 08:41:33,293 : INFO : EPOCH 16 - PROGRESS: at 76.11% examples, 405462 words/s, in_qsize 15, out_qsize 0\n",
      "2020-05-31 08:41:34,388 : INFO : EPOCH 16 - PROGRESS: at 81.88% examples, 407180 words/s, in_qsize 15, out_qsize 0\n",
      "2020-05-31 08:41:35,403 : INFO : EPOCH 16 - PROGRESS: at 87.62% examples, 410515 words/s, in_qsize 14, out_qsize 0\n",
      "2020-05-31 08:41:36,437 : INFO : EPOCH 16 - PROGRESS: at 92.72% examples, 410186 words/s, in_qsize 14, out_qsize 1\n",
      "2020-05-31 08:41:37,440 : INFO : EPOCH 16 - PROGRESS: at 98.36% examples, 412823 words/s, in_qsize 15, out_qsize 0\n",
      "2020-05-31 08:41:37,645 : INFO : worker thread finished; awaiting finish of 7 more threads\n",
      "2020-05-31 08:41:37,655 : INFO : worker thread finished; awaiting finish of 6 more threads\n",
      "2020-05-31 08:41:37,659 : INFO : worker thread finished; awaiting finish of 5 more threads\n",
      "2020-05-31 08:41:37,664 : INFO : worker thread finished; awaiting finish of 4 more threads\n",
      "2020-05-31 08:41:37,669 : INFO : worker thread finished; awaiting finish of 3 more threads\n",
      "2020-05-31 08:41:37,691 : INFO : worker thread finished; awaiting finish of 2 more threads\n"
     ]
    },
    {
     "name": "stderr",
     "output_type": "stream",
     "text": [
      "2020-05-31 08:41:37,704 : INFO : worker thread finished; awaiting finish of 1 more threads\n",
      "2020-05-31 08:41:37,707 : INFO : worker thread finished; awaiting finish of 0 more threads\n",
      "2020-05-31 08:41:37,708 : INFO : EPOCH - 16 : training on 9227204 raw words (8223472 effective words) took 19.9s, 414037 effective words/s\n",
      "2020-05-31 08:41:38,729 : INFO : EPOCH 17 - PROGRESS: at 4.56% examples, 369889 words/s, in_qsize 12, out_qsize 2\n",
      "2020-05-31 08:41:39,740 : INFO : EPOCH 17 - PROGRESS: at 10.21% examples, 414120 words/s, in_qsize 15, out_qsize 1\n",
      "2020-05-31 08:41:40,750 : INFO : EPOCH 17 - PROGRESS: at 14.86% examples, 402402 words/s, in_qsize 15, out_qsize 0\n",
      "2020-05-31 08:41:41,761 : INFO : EPOCH 17 - PROGRESS: at 19.19% examples, 389814 words/s, in_qsize 15, out_qsize 0\n",
      "2020-05-31 08:41:42,790 : INFO : EPOCH 17 - PROGRESS: at 22.98% examples, 372285 words/s, in_qsize 15, out_qsize 0\n",
      "2020-05-31 08:41:43,792 : INFO : EPOCH 17 - PROGRESS: at 27.86% examples, 376845 words/s, in_qsize 13, out_qsize 4\n",
      "2020-05-31 08:41:44,806 : INFO : EPOCH 17 - PROGRESS: at 32.30% examples, 374476 words/s, in_qsize 15, out_qsize 0\n",
      "2020-05-31 08:41:45,898 : INFO : EPOCH 17 - PROGRESS: at 37.81% examples, 380031 words/s, in_qsize 15, out_qsize 0\n",
      "2020-05-31 08:41:46,905 : INFO : EPOCH 17 - PROGRESS: at 43.43% examples, 388806 words/s, in_qsize 14, out_qsize 1\n",
      "2020-05-31 08:41:47,982 : INFO : EPOCH 17 - PROGRESS: at 48.83% examples, 391450 words/s, in_qsize 16, out_qsize 1\n",
      "2020-05-31 08:41:49,094 : INFO : EPOCH 17 - PROGRESS: at 54.89% examples, 397595 words/s, in_qsize 15, out_qsize 2\n",
      "2020-05-31 08:41:50,151 : INFO : EPOCH 17 - PROGRESS: at 60.20% examples, 398433 words/s, in_qsize 16, out_qsize 0\n",
      "2020-05-31 08:41:51,242 : INFO : EPOCH 17 - PROGRESS: at 64.40% examples, 391969 words/s, in_qsize 15, out_qsize 0\n",
      "2020-05-31 08:41:52,261 : INFO : EPOCH 17 - PROGRESS: at 69.07% examples, 390835 words/s, in_qsize 15, out_qsize 0\n",
      "2020-05-31 08:41:53,285 : INFO : EPOCH 17 - PROGRESS: at 72.32% examples, 382294 words/s, in_qsize 13, out_qsize 2\n",
      "2020-05-31 08:41:54,295 : INFO : EPOCH 17 - PROGRESS: at 76.11% examples, 377788 words/s, in_qsize 15, out_qsize 0\n",
      "2020-05-31 08:41:55,308 : INFO : EPOCH 17 - PROGRESS: at 81.34% examples, 380340 words/s, in_qsize 13, out_qsize 3\n",
      "2020-05-31 08:41:56,317 : INFO : EPOCH 17 - PROGRESS: at 87.29% examples, 386040 words/s, in_qsize 16, out_qsize 0\n",
      "2020-05-31 08:41:57,319 : INFO : EPOCH 17 - PROGRESS: at 91.85% examples, 385377 words/s, in_qsize 15, out_qsize 0\n",
      "2020-05-31 08:41:58,409 : INFO : EPOCH 17 - PROGRESS: at 97.40% examples, 387295 words/s, in_qsize 11, out_qsize 7\n",
      "2020-05-31 08:41:58,678 : INFO : worker thread finished; awaiting finish of 7 more threads\n",
      "2020-05-31 08:41:58,690 : INFO : worker thread finished; awaiting finish of 6 more threads\n",
      "2020-05-31 08:41:58,723 : INFO : worker thread finished; awaiting finish of 5 more threads\n",
      "2020-05-31 08:41:58,756 : INFO : worker thread finished; awaiting finish of 4 more threads\n",
      "2020-05-31 08:41:58,760 : INFO : worker thread finished; awaiting finish of 3 more threads\n",
      "2020-05-31 08:41:58,763 : INFO : worker thread finished; awaiting finish of 2 more threads\n",
      "2020-05-31 08:41:58,765 : INFO : worker thread finished; awaiting finish of 1 more threads\n",
      "2020-05-31 08:41:58,767 : INFO : worker thread finished; awaiting finish of 0 more threads\n",
      "2020-05-31 08:41:58,767 : INFO : EPOCH - 17 : training on 9227204 raw words (8222481 effective words) took 21.0s, 390631 effective words/s\n",
      "2020-05-31 08:41:59,820 : INFO : EPOCH 18 - PROGRESS: at 4.78% examples, 376085 words/s, in_qsize 15, out_qsize 0\n",
      "2020-05-31 08:42:00,840 : INFO : EPOCH 18 - PROGRESS: at 10.42% examples, 414850 words/s, in_qsize 16, out_qsize 0\n",
      "2020-05-31 08:42:01,857 : INFO : EPOCH 18 - PROGRESS: at 15.62% examples, 416628 words/s, in_qsize 13, out_qsize 3\n",
      "2020-05-31 08:42:02,929 : INFO : EPOCH 18 - PROGRESS: at 20.27% examples, 401260 words/s, in_qsize 16, out_qsize 1\n",
      "2020-05-31 08:42:03,944 : INFO : EPOCH 18 - PROGRESS: at 24.61% examples, 391478 words/s, in_qsize 15, out_qsize 1\n",
      "2020-05-31 08:42:04,947 : INFO : EPOCH 18 - PROGRESS: at 28.61% examples, 381286 words/s, in_qsize 15, out_qsize 0\n",
      "2020-05-31 08:42:06,064 : INFO : EPOCH 18 - PROGRESS: at 34.24% examples, 388040 words/s, in_qsize 15, out_qsize 4\n",
      "2020-05-31 08:42:07,052 : INFO : EPOCH 18 - PROGRESS: at 39.65% examples, 394070 words/s, in_qsize 14, out_qsize 1\n",
      "2020-05-31 08:42:08,054 : INFO : EPOCH 18 - PROGRESS: at 45.37% examples, 402395 words/s, in_qsize 15, out_qsize 0\n",
      "2020-05-31 08:42:09,074 : INFO : EPOCH 18 - PROGRESS: at 50.45% examples, 403233 words/s, in_qsize 15, out_qsize 1\n",
      "2020-05-31 08:42:10,103 : INFO : EPOCH 18 - PROGRESS: at 55.97% examples, 406695 words/s, in_qsize 14, out_qsize 1\n",
      "2020-05-31 08:42:11,186 : INFO : EPOCH 18 - PROGRESS: at 61.60% examples, 408558 words/s, in_qsize 15, out_qsize 0\n",
      "2020-05-31 08:42:12,187 : INFO : EPOCH 18 - PROGRESS: at 67.24% examples, 412586 words/s, in_qsize 16, out_qsize 0\n",
      "2020-05-31 08:42:13,234 : INFO : EPOCH 18 - PROGRESS: at 72.32% examples, 411663 words/s, in_qsize 15, out_qsize 0\n",
      "2020-05-31 08:42:14,258 : INFO : EPOCH 18 - PROGRESS: at 76.55% examples, 406823 words/s, in_qsize 15, out_qsize 0\n",
      "2020-05-31 08:42:15,351 : INFO : EPOCH 18 - PROGRESS: at 80.68% examples, 401472 words/s, in_qsize 15, out_qsize 1\n",
      "2020-05-31 08:42:16,434 : INFO : EPOCH 18 - PROGRESS: at 86.21% examples, 401590 words/s, in_qsize 14, out_qsize 4\n",
      "2020-05-31 08:42:17,473 : INFO : EPOCH 18 - PROGRESS: at 90.87% examples, 399740 words/s, in_qsize 15, out_qsize 0\n",
      "2020-05-31 08:42:18,499 : INFO : EPOCH 18 - PROGRESS: at 96.10% examples, 400620 words/s, in_qsize 16, out_qsize 2\n",
      "2020-05-31 08:42:18,972 : INFO : worker thread finished; awaiting finish of 7 more threads\n",
      "2020-05-31 08:42:18,994 : INFO : worker thread finished; awaiting finish of 6 more threads\n",
      "2020-05-31 08:42:19,003 : INFO : worker thread finished; awaiting finish of 5 more threads\n",
      "2020-05-31 08:42:19,010 : INFO : worker thread finished; awaiting finish of 4 more threads\n",
      "2020-05-31 08:42:19,044 : INFO : worker thread finished; awaiting finish of 3 more threads\n",
      "2020-05-31 08:42:19,062 : INFO : worker thread finished; awaiting finish of 2 more threads\n",
      "2020-05-31 08:42:19,070 : INFO : worker thread finished; awaiting finish of 1 more threads\n",
      "2020-05-31 08:42:19,074 : INFO : worker thread finished; awaiting finish of 0 more threads\n",
      "2020-05-31 08:42:19,075 : INFO : EPOCH - 18 : training on 9227204 raw words (8222152 effective words) took 20.3s, 405098 effective words/s\n",
      "2020-05-31 08:42:20,093 : INFO : EPOCH 19 - PROGRESS: at 5.10% examples, 415191 words/s, in_qsize 16, out_qsize 0\n",
      "2020-05-31 08:42:21,130 : INFO : EPOCH 19 - PROGRESS: at 10.31% examples, 413878 words/s, in_qsize 15, out_qsize 0\n",
      "2020-05-31 08:42:22,132 : INFO : EPOCH 19 - PROGRESS: at 15.95% examples, 429764 words/s, in_qsize 15, out_qsize 0\n",
      "2020-05-31 08:42:23,148 : INFO : EPOCH 19 - PROGRESS: at 21.68% examples, 438509 words/s, in_qsize 16, out_qsize 0\n",
      "2020-05-31 08:42:24,175 : INFO : EPOCH 19 - PROGRESS: at 26.78% examples, 432247 words/s, in_qsize 13, out_qsize 2\n",
      "2020-05-31 08:42:25,232 : INFO : EPOCH 19 - PROGRESS: at 31.75% examples, 424647 words/s, in_qsize 15, out_qsize 0\n",
      "2020-05-31 08:42:26,385 : INFO : EPOCH 19 - PROGRESS: at 36.29% examples, 408844 words/s, in_qsize 11, out_qsize 5\n",
      "2020-05-31 08:42:27,426 : INFO : EPOCH 19 - PROGRESS: at 41.26% examples, 406922 words/s, in_qsize 16, out_qsize 0\n",
      "2020-05-31 08:42:28,439 : INFO : EPOCH 19 - PROGRESS: at 46.46% examples, 408550 words/s, in_qsize 15, out_qsize 0\n",
      "2020-05-31 08:42:29,455 : INFO : EPOCH 19 - PROGRESS: at 51.97% examples, 412353 words/s, in_qsize 14, out_qsize 1\n",
      "2020-05-31 08:42:30,461 : INFO : EPOCH 19 - PROGRESS: at 56.62% examples, 409597 words/s, in_qsize 13, out_qsize 2\n",
      "2020-05-31 08:42:31,464 : INFO : EPOCH 19 - PROGRESS: at 62.36% examples, 414586 words/s, in_qsize 15, out_qsize 0\n",
      "2020-05-31 08:42:32,496 : INFO : EPOCH 19 - PROGRESS: at 67.66% examples, 415235 words/s, in_qsize 15, out_qsize 0\n",
      "2020-05-31 08:42:33,503 : INFO : EPOCH 19 - PROGRESS: at 72.75% examples, 415231 words/s, in_qsize 15, out_qsize 0\n",
      "2020-05-31 08:42:34,564 : INFO : EPOCH 19 - PROGRESS: at 78.51% examples, 417271 words/s, in_qsize 15, out_qsize 0\n"
     ]
    },
    {
     "name": "stderr",
     "output_type": "stream",
     "text": [
      "2020-05-31 08:42:35,597 : INFO : EPOCH 19 - PROGRESS: at 83.61% examples, 416531 words/s, in_qsize 12, out_qsize 3\n",
      "2020-05-31 08:42:36,650 : INFO : EPOCH 19 - PROGRESS: at 88.16% examples, 412818 words/s, in_qsize 13, out_qsize 2\n",
      "2020-05-31 08:42:37,683 : INFO : EPOCH 19 - PROGRESS: at 92.06% examples, 407124 words/s, in_qsize 16, out_qsize 0\n",
      "2020-05-31 08:42:38,688 : INFO : EPOCH 19 - PROGRESS: at 97.61% examples, 409429 words/s, in_qsize 14, out_qsize 2\n",
      "2020-05-31 08:42:38,931 : INFO : worker thread finished; awaiting finish of 7 more threads\n",
      "2020-05-31 08:42:38,971 : INFO : worker thread finished; awaiting finish of 6 more threads\n",
      "2020-05-31 08:42:38,973 : INFO : worker thread finished; awaiting finish of 5 more threads\n",
      "2020-05-31 08:42:38,976 : INFO : worker thread finished; awaiting finish of 4 more threads\n",
      "2020-05-31 08:42:39,016 : INFO : worker thread finished; awaiting finish of 3 more threads\n",
      "2020-05-31 08:42:39,018 : INFO : worker thread finished; awaiting finish of 2 more threads\n",
      "2020-05-31 08:42:39,024 : INFO : worker thread finished; awaiting finish of 1 more threads\n",
      "2020-05-31 08:42:39,027 : INFO : worker thread finished; awaiting finish of 0 more threads\n",
      "2020-05-31 08:42:39,028 : INFO : EPOCH - 19 : training on 9227204 raw words (8222869 effective words) took 19.9s, 412333 effective words/s\n",
      "2020-05-31 08:42:40,077 : INFO : EPOCH 20 - PROGRESS: at 5.11% examples, 402324 words/s, in_qsize 15, out_qsize 0\n",
      "2020-05-31 08:42:41,102 : INFO : EPOCH 20 - PROGRESS: at 10.53% examples, 418442 words/s, in_qsize 14, out_qsize 0\n",
      "2020-05-31 08:42:42,152 : INFO : EPOCH 20 - PROGRESS: at 16.16% examples, 426010 words/s, in_qsize 15, out_qsize 0\n",
      "2020-05-31 08:42:43,189 : INFO : EPOCH 20 - PROGRESS: at 21.68% examples, 429047 words/s, in_qsize 14, out_qsize 2\n",
      "2020-05-31 08:42:44,203 : INFO : EPOCH 20 - PROGRESS: at 27.53% examples, 437953 words/s, in_qsize 16, out_qsize 1\n",
      "2020-05-31 08:42:45,205 : INFO : EPOCH 20 - PROGRESS: at 32.52% examples, 433342 words/s, in_qsize 14, out_qsize 1\n",
      "2020-05-31 08:42:46,239 : INFO : EPOCH 20 - PROGRESS: at 38.35% examples, 437887 words/s, in_qsize 15, out_qsize 0\n",
      "2020-05-31 08:42:47,260 : INFO : EPOCH 20 - PROGRESS: at 42.78% examples, 427950 words/s, in_qsize 14, out_qsize 1\n",
      "2020-05-31 08:42:48,296 : INFO : EPOCH 20 - PROGRESS: at 47.00% examples, 417605 words/s, in_qsize 15, out_qsize 0\n",
      "2020-05-31 08:42:49,318 : INFO : EPOCH 20 - PROGRESS: at 51.64% examples, 413385 words/s, in_qsize 16, out_qsize 2\n",
      "2020-05-31 08:42:50,332 : INFO : EPOCH 20 - PROGRESS: at 55.53% examples, 404687 words/s, in_qsize 13, out_qsize 4\n",
      "2020-05-31 08:42:51,395 : INFO : EPOCH 20 - PROGRESS: at 59.66% examples, 397287 words/s, in_qsize 16, out_qsize 0\n",
      "2020-05-31 08:42:52,511 : INFO : EPOCH 20 - PROGRESS: at 63.54% examples, 388170 words/s, in_qsize 15, out_qsize 0\n",
      "2020-05-31 08:42:53,631 : INFO : EPOCH 20 - PROGRESS: at 69.40% examples, 391320 words/s, in_qsize 12, out_qsize 3\n",
      "2020-05-31 08:42:54,648 : INFO : EPOCH 20 - PROGRESS: at 75.24% examples, 396634 words/s, in_qsize 15, out_qsize 0\n",
      "2020-05-31 08:42:55,733 : INFO : EPOCH 20 - PROGRESS: at 80.47% examples, 396465 words/s, in_qsize 15, out_qsize 0\n",
      "2020-05-31 08:42:56,761 : INFO : EPOCH 20 - PROGRESS: at 85.98% examples, 399075 words/s, in_qsize 14, out_qsize 1\n",
      "2020-05-31 08:42:57,844 : INFO : EPOCH 20 - PROGRESS: at 90.54% examples, 395981 words/s, in_qsize 15, out_qsize 0\n",
      "2020-05-31 08:42:58,852 : INFO : EPOCH 20 - PROGRESS: at 95.12% examples, 394696 words/s, in_qsize 15, out_qsize 0\n",
      "2020-05-31 08:42:59,962 : INFO : EPOCH 20 - PROGRESS: at 98.25% examples, 386110 words/s, in_qsize 11, out_qsize 4\n",
      "2020-05-31 08:43:00,128 : INFO : worker thread finished; awaiting finish of 7 more threads\n",
      "2020-05-31 08:43:00,137 : INFO : worker thread finished; awaiting finish of 6 more threads\n",
      "2020-05-31 08:43:00,146 : INFO : worker thread finished; awaiting finish of 5 more threads\n",
      "2020-05-31 08:43:00,150 : INFO : worker thread finished; awaiting finish of 4 more threads\n",
      "2020-05-31 08:43:00,155 : INFO : worker thread finished; awaiting finish of 3 more threads\n",
      "2020-05-31 08:43:00,162 : INFO : worker thread finished; awaiting finish of 2 more threads\n",
      "2020-05-31 08:43:00,164 : INFO : worker thread finished; awaiting finish of 1 more threads\n",
      "2020-05-31 08:43:00,179 : INFO : worker thread finished; awaiting finish of 0 more threads\n",
      "2020-05-31 08:43:00,180 : INFO : EPOCH - 20 : training on 9227204 raw words (8222761 effective words) took 21.1s, 388919 effective words/s\n",
      "2020-05-31 08:43:01,200 : INFO : EPOCH 21 - PROGRESS: at 4.01% examples, 326083 words/s, in_qsize 13, out_qsize 6\n",
      "2020-05-31 08:43:02,205 : INFO : EPOCH 21 - PROGRESS: at 9.66% examples, 393494 words/s, in_qsize 14, out_qsize 0\n",
      "2020-05-31 08:43:03,213 : INFO : EPOCH 21 - PROGRESS: at 14.76% examples, 400740 words/s, in_qsize 13, out_qsize 2\n",
      "2020-05-31 08:43:04,233 : INFO : EPOCH 21 - PROGRESS: at 19.95% examples, 405257 words/s, in_qsize 15, out_qsize 0\n",
      "2020-05-31 08:43:05,371 : INFO : EPOCH 21 - PROGRESS: at 25.48% examples, 404010 words/s, in_qsize 14, out_qsize 1\n",
      "2020-05-31 08:43:06,378 : INFO : EPOCH 21 - PROGRESS: at 31.10% examples, 413175 words/s, in_qsize 15, out_qsize 0\n",
      "2020-05-31 08:43:07,503 : INFO : EPOCH 21 - PROGRESS: at 36.83% examples, 414133 words/s, in_qsize 15, out_qsize 0\n",
      "2020-05-31 08:43:08,551 : INFO : EPOCH 21 - PROGRESS: at 42.68% examples, 419719 words/s, in_qsize 15, out_qsize 0\n",
      "2020-05-31 08:43:09,668 : INFO : EPOCH 21 - PROGRESS: at 47.32% examples, 410681 words/s, in_qsize 15, out_qsize 1\n",
      "2020-05-31 08:43:10,673 : INFO : EPOCH 21 - PROGRESS: at 51.53% examples, 404496 words/s, in_qsize 15, out_qsize 0\n",
      "2020-05-31 08:43:11,714 : INFO : EPOCH 21 - PROGRESS: at 57.06% examples, 407428 words/s, in_qsize 14, out_qsize 0\n",
      "2020-05-31 08:43:12,755 : INFO : EPOCH 21 - PROGRESS: at 62.47% examples, 409104 words/s, in_qsize 15, out_qsize 0\n",
      "2020-05-31 08:43:13,758 : INFO : EPOCH 21 - PROGRESS: at 68.43% examples, 414968 words/s, in_qsize 16, out_qsize 0\n",
      "2020-05-31 08:43:14,789 : INFO : EPOCH 21 - PROGRESS: at 73.94% examples, 416761 words/s, in_qsize 15, out_qsize 0\n",
      "2020-05-31 08:43:15,819 : INFO : EPOCH 21 - PROGRESS: at 79.59% examples, 418926 words/s, in_qsize 13, out_qsize 2\n",
      "2020-05-31 08:43:16,853 : INFO : EPOCH 21 - PROGRESS: at 84.80% examples, 418596 words/s, in_qsize 15, out_qsize 6\n",
      "2020-05-31 08:43:17,876 : INFO : EPOCH 21 - PROGRESS: at 90.87% examples, 422546 words/s, in_qsize 15, out_qsize 0\n",
      "2020-05-31 08:43:18,885 : INFO : EPOCH 21 - PROGRESS: at 95.99% examples, 422132 words/s, in_qsize 16, out_qsize 1\n",
      "2020-05-31 08:43:19,412 : INFO : worker thread finished; awaiting finish of 7 more threads\n",
      "2020-05-31 08:43:19,417 : INFO : worker thread finished; awaiting finish of 6 more threads\n",
      "2020-05-31 08:43:19,423 : INFO : worker thread finished; awaiting finish of 5 more threads\n",
      "2020-05-31 08:43:19,428 : INFO : worker thread finished; awaiting finish of 4 more threads\n",
      "2020-05-31 08:43:19,450 : INFO : worker thread finished; awaiting finish of 3 more threads\n",
      "2020-05-31 08:43:19,452 : INFO : worker thread finished; awaiting finish of 2 more threads\n",
      "2020-05-31 08:43:19,473 : INFO : worker thread finished; awaiting finish of 1 more threads\n",
      "2020-05-31 08:43:19,476 : INFO : worker thread finished; awaiting finish of 0 more threads\n",
      "2020-05-31 08:43:19,477 : INFO : EPOCH - 21 : training on 9227204 raw words (8222449 effective words) took 19.3s, 426319 effective words/s\n",
      "2020-05-31 08:43:20,522 : INFO : EPOCH 22 - PROGRESS: at 3.91% examples, 310754 words/s, in_qsize 15, out_qsize 2\n",
      "2020-05-31 08:43:21,621 : INFO : EPOCH 22 - PROGRESS: at 7.82% examples, 301110 words/s, in_qsize 15, out_qsize 0\n",
      "2020-05-31 08:43:22,719 : INFO : EPOCH 22 - PROGRESS: at 13.68% examples, 347696 words/s, in_qsize 15, out_qsize 0\n",
      "2020-05-31 08:43:23,733 : INFO : EPOCH 22 - PROGRESS: at 18.32% examples, 354768 words/s, in_qsize 15, out_qsize 1\n",
      "2020-05-31 08:43:24,776 : INFO : EPOCH 22 - PROGRESS: at 23.85% examples, 370808 words/s, in_qsize 15, out_qsize 2\n",
      "2020-05-31 08:43:25,823 : INFO : EPOCH 22 - PROGRESS: at 29.91% examples, 388345 words/s, in_qsize 16, out_qsize 0\n",
      "2020-05-31 08:43:26,907 : INFO : EPOCH 22 - PROGRESS: at 35.53% examples, 394012 words/s, in_qsize 15, out_qsize 0\n"
     ]
    },
    {
     "name": "stderr",
     "output_type": "stream",
     "text": [
      "2020-05-31 08:43:27,931 : INFO : EPOCH 22 - PROGRESS: at 41.05% examples, 400021 words/s, in_qsize 16, out_qsize 0\n",
      "2020-05-31 08:43:28,951 : INFO : EPOCH 22 - PROGRESS: at 46.57% examples, 404942 words/s, in_qsize 16, out_qsize 0\n",
      "2020-05-31 08:43:30,035 : INFO : EPOCH 22 - PROGRESS: at 51.64% examples, 404523 words/s, in_qsize 14, out_qsize 6\n",
      "2020-05-31 08:43:31,004 : INFO : EPOCH 22 - PROGRESS: at 56.84% examples, 406302 words/s, in_qsize 14, out_qsize 3\n",
      "2020-05-31 08:43:32,011 : INFO : EPOCH 22 - PROGRESS: at 61.39% examples, 403499 words/s, in_qsize 16, out_qsize 0\n",
      "2020-05-31 08:43:33,032 : INFO : EPOCH 22 - PROGRESS: at 64.84% examples, 394115 words/s, in_qsize 15, out_qsize 0\n",
      "2020-05-31 08:43:34,038 : INFO : EPOCH 22 - PROGRESS: at 70.59% examples, 399329 words/s, in_qsize 15, out_qsize 0\n",
      "2020-05-31 08:43:35,096 : INFO : EPOCH 22 - PROGRESS: at 75.89% examples, 400185 words/s, in_qsize 15, out_qsize 0\n",
      "2020-05-31 08:43:36,173 : INFO : EPOCH 22 - PROGRESS: at 81.66% examples, 402645 words/s, in_qsize 15, out_qsize 0\n",
      "2020-05-31 08:43:37,216 : INFO : EPOCH 22 - PROGRESS: at 87.51% examples, 406097 words/s, in_qsize 15, out_qsize 0\n",
      "2020-05-31 08:43:38,263 : INFO : EPOCH 22 - PROGRESS: at 93.05% examples, 407617 words/s, in_qsize 13, out_qsize 2\n",
      "2020-05-31 08:43:39,278 : INFO : EPOCH 22 - PROGRESS: at 98.79% examples, 410543 words/s, in_qsize 12, out_qsize 0\n",
      "2020-05-31 08:43:39,413 : INFO : worker thread finished; awaiting finish of 7 more threads\n",
      "2020-05-31 08:43:39,415 : INFO : worker thread finished; awaiting finish of 6 more threads\n",
      "2020-05-31 08:43:39,436 : INFO : worker thread finished; awaiting finish of 5 more threads\n",
      "2020-05-31 08:43:39,439 : INFO : worker thread finished; awaiting finish of 4 more threads\n",
      "2020-05-31 08:43:39,443 : INFO : worker thread finished; awaiting finish of 3 more threads\n",
      "2020-05-31 08:43:39,450 : INFO : worker thread finished; awaiting finish of 2 more threads\n",
      "2020-05-31 08:43:39,467 : INFO : worker thread finished; awaiting finish of 1 more threads\n",
      "2020-05-31 08:43:39,474 : INFO : worker thread finished; awaiting finish of 0 more threads\n",
      "2020-05-31 08:43:39,474 : INFO : EPOCH - 22 : training on 9227204 raw words (8222664 effective words) took 20.0s, 411477 effective words/s\n",
      "2020-05-31 08:43:40,603 : INFO : EPOCH 23 - PROGRESS: at 5.21% examples, 382683 words/s, in_qsize 15, out_qsize 1\n",
      "2020-05-31 08:43:41,613 : INFO : EPOCH 23 - PROGRESS: at 10.86% examples, 418667 words/s, in_qsize 15, out_qsize 0\n",
      "2020-05-31 08:43:42,633 : INFO : EPOCH 23 - PROGRESS: at 15.19% examples, 396080 words/s, in_qsize 15, out_qsize 0\n",
      "2020-05-31 08:43:43,745 : INFO : EPOCH 23 - PROGRESS: at 20.05% examples, 386763 words/s, in_qsize 12, out_qsize 3\n",
      "2020-05-31 08:43:44,769 : INFO : EPOCH 23 - PROGRESS: at 25.04% examples, 389479 words/s, in_qsize 13, out_qsize 2\n",
      "2020-05-31 08:43:45,775 : INFO : EPOCH 23 - PROGRESS: at 30.34% examples, 396642 words/s, in_qsize 13, out_qsize 2\n",
      "2020-05-31 08:43:46,810 : INFO : EPOCH 23 - PROGRESS: at 35.97% examples, 404441 words/s, in_qsize 15, out_qsize 3\n",
      "2020-05-31 08:43:47,839 : INFO : EPOCH 23 - PROGRESS: at 41.80% examples, 411642 words/s, in_qsize 15, out_qsize 0\n",
      "2020-05-31 08:43:48,850 : INFO : EPOCH 23 - PROGRESS: at 47.32% examples, 415690 words/s, in_qsize 15, out_qsize 0\n",
      "2020-05-31 08:43:49,944 : INFO : EPOCH 23 - PROGRESS: at 53.05% examples, 417980 words/s, in_qsize 15, out_qsize 2\n",
      "2020-05-31 08:43:50,937 : INFO : EPOCH 23 - PROGRESS: at 56.19% examples, 403793 words/s, in_qsize 12, out_qsize 4\n",
      "2020-05-31 08:43:51,940 : INFO : EPOCH 23 - PROGRESS: at 61.93% examples, 409184 words/s, in_qsize 14, out_qsize 0\n",
      "2020-05-31 08:43:53,166 : INFO : EPOCH 23 - PROGRESS: at 66.91% examples, 402471 words/s, in_qsize 14, out_qsize 1\n",
      "2020-05-31 08:43:54,186 : INFO : EPOCH 23 - PROGRESS: at 70.80% examples, 396366 words/s, in_qsize 15, out_qsize 0\n",
      "2020-05-31 08:43:55,200 : INFO : EPOCH 23 - PROGRESS: at 75.14% examples, 393469 words/s, in_qsize 14, out_qsize 0\n",
      "2020-05-31 08:43:56,214 : INFO : EPOCH 23 - PROGRESS: at 79.05% examples, 388778 words/s, in_qsize 15, out_qsize 0\n",
      "2020-05-31 08:43:57,258 : INFO : EPOCH 23 - PROGRESS: at 83.72% examples, 387509 words/s, in_qsize 16, out_qsize 0\n",
      "2020-05-31 08:43:58,259 : INFO : EPOCH 23 - PROGRESS: at 88.80% examples, 389127 words/s, in_qsize 15, out_qsize 1\n",
      "2020-05-31 08:43:59,290 : INFO : EPOCH 23 - PROGRESS: at 94.58% examples, 392690 words/s, in_qsize 16, out_qsize 1\n",
      "2020-05-31 08:44:00,197 : INFO : worker thread finished; awaiting finish of 7 more threads\n",
      "2020-05-31 08:44:00,201 : INFO : worker thread finished; awaiting finish of 6 more threads\n",
      "2020-05-31 08:44:00,232 : INFO : worker thread finished; awaiting finish of 5 more threads\n",
      "2020-05-31 08:44:00,236 : INFO : worker thread finished; awaiting finish of 4 more threads\n",
      "2020-05-31 08:44:00,237 : INFO : worker thread finished; awaiting finish of 3 more threads\n",
      "2020-05-31 08:44:00,251 : INFO : worker thread finished; awaiting finish of 2 more threads\n",
      "2020-05-31 08:44:00,263 : INFO : worker thread finished; awaiting finish of 1 more threads\n",
      "2020-05-31 08:44:00,265 : INFO : worker thread finished; awaiting finish of 0 more threads\n",
      "2020-05-31 08:44:00,266 : INFO : EPOCH - 23 : training on 9227204 raw words (8223243 effective words) took 20.8s, 395721 effective words/s\n",
      "2020-05-31 08:44:01,280 : INFO : EPOCH 24 - PROGRESS: at 4.78% examples, 390319 words/s, in_qsize 13, out_qsize 2\n",
      "2020-05-31 08:44:02,295 : INFO : EPOCH 24 - PROGRESS: at 9.88% examples, 401607 words/s, in_qsize 15, out_qsize 0\n",
      "2020-05-31 08:44:03,299 : INFO : EPOCH 24 - PROGRESS: at 15.08% examples, 409657 words/s, in_qsize 15, out_qsize 2\n",
      "2020-05-31 08:44:04,343 : INFO : EPOCH 24 - PROGRESS: at 19.73% examples, 398690 words/s, in_qsize 13, out_qsize 2\n",
      "2020-05-31 08:44:05,356 : INFO : EPOCH 24 - PROGRESS: at 24.07% examples, 389367 words/s, in_qsize 16, out_qsize 1\n",
      "2020-05-31 08:44:06,408 : INFO : EPOCH 24 - PROGRESS: at 28.51% examples, 382113 words/s, in_qsize 14, out_qsize 5\n",
      "2020-05-31 08:44:07,427 : INFO : EPOCH 24 - PROGRESS: at 34.57% examples, 397440 words/s, in_qsize 15, out_qsize 0\n",
      "2020-05-31 08:44:08,474 : INFO : EPOCH 24 - PROGRESS: at 39.76% examples, 400102 words/s, in_qsize 13, out_qsize 4\n",
      "2020-05-31 08:44:09,525 : INFO : EPOCH 24 - PROGRESS: at 45.37% examples, 403611 words/s, in_qsize 14, out_qsize 1\n",
      "2020-05-31 08:44:10,562 : INFO : EPOCH 24 - PROGRESS: at 50.99% examples, 408007 words/s, in_qsize 15, out_qsize 0\n",
      "2020-05-31 08:44:11,621 : INFO : EPOCH 24 - PROGRESS: at 56.73% examples, 411581 words/s, in_qsize 16, out_qsize 0\n",
      "2020-05-31 08:44:12,684 : INFO : EPOCH 24 - PROGRESS: at 62.25% examples, 412909 words/s, in_qsize 13, out_qsize 2\n",
      "2020-05-31 08:44:13,749 : INFO : EPOCH 24 - PROGRESS: at 68.10% examples, 415980 words/s, in_qsize 16, out_qsize 0\n",
      "2020-05-31 08:44:14,847 : INFO : EPOCH 24 - PROGRESS: at 73.62% examples, 415786 words/s, in_qsize 16, out_qsize 0\n",
      "2020-05-31 08:44:15,860 : INFO : EPOCH 24 - PROGRESS: at 78.40% examples, 413879 words/s, in_qsize 15, out_qsize 0\n",
      "2020-05-31 08:44:16,872 : INFO : EPOCH 24 - PROGRESS: at 81.99% examples, 406365 words/s, in_qsize 14, out_qsize 1\n",
      "2020-05-31 08:44:17,919 : INFO : EPOCH 24 - PROGRESS: at 86.96% examples, 405573 words/s, in_qsize 15, out_qsize 1\n",
      "2020-05-31 08:44:18,959 : INFO : EPOCH 24 - PROGRESS: at 92.50% examples, 407204 words/s, in_qsize 14, out_qsize 3\n",
      "2020-05-31 08:44:19,982 : INFO : EPOCH 24 - PROGRESS: at 98.04% examples, 409113 words/s, in_qsize 15, out_qsize 0\n",
      "2020-05-31 08:44:20,188 : INFO : worker thread finished; awaiting finish of 7 more threads\n",
      "2020-05-31 08:44:20,200 : INFO : worker thread finished; awaiting finish of 6 more threads\n",
      "2020-05-31 08:44:20,212 : INFO : worker thread finished; awaiting finish of 5 more threads\n",
      "2020-05-31 08:44:20,229 : INFO : worker thread finished; awaiting finish of 4 more threads\n",
      "2020-05-31 08:44:20,241 : INFO : worker thread finished; awaiting finish of 3 more threads\n",
      "2020-05-31 08:44:20,244 : INFO : worker thread finished; awaiting finish of 2 more threads\n",
      "2020-05-31 08:44:20,249 : INFO : worker thread finished; awaiting finish of 1 more threads\n",
      "2020-05-31 08:44:20,252 : INFO : worker thread finished; awaiting finish of 0 more threads\n"
     ]
    },
    {
     "name": "stderr",
     "output_type": "stream",
     "text": [
      "2020-05-31 08:44:20,253 : INFO : EPOCH - 24 : training on 9227204 raw words (8223038 effective words) took 20.0s, 411621 effective words/s\n",
      "2020-05-31 08:44:21,393 : INFO : EPOCH 25 - PROGRESS: at 5.00% examples, 362427 words/s, in_qsize 14, out_qsize 4\n",
      "2020-05-31 08:44:22,518 : INFO : EPOCH 25 - PROGRESS: at 10.97% examples, 399184 words/s, in_qsize 15, out_qsize 0\n",
      "2020-05-31 08:44:23,538 : INFO : EPOCH 25 - PROGRESS: at 16.16% examples, 407523 words/s, in_qsize 16, out_qsize 4\n",
      "2020-05-31 08:44:24,529 : INFO : EPOCH 25 - PROGRESS: at 21.90% examples, 421788 words/s, in_qsize 14, out_qsize 0\n",
      "2020-05-31 08:44:25,556 : INFO : EPOCH 25 - PROGRESS: at 27.10% examples, 420746 words/s, in_qsize 13, out_qsize 2\n",
      "2020-05-31 08:44:26,583 : INFO : EPOCH 25 - PROGRESS: at 31.32% examples, 407289 words/s, in_qsize 15, out_qsize 0\n",
      "2020-05-31 08:44:27,606 : INFO : EPOCH 25 - PROGRESS: at 35.75% examples, 400299 words/s, in_qsize 15, out_qsize 0\n",
      "2020-05-31 08:44:28,682 : INFO : EPOCH 25 - PROGRESS: at 40.19% examples, 392550 words/s, in_qsize 15, out_qsize 0\n",
      "2020-05-31 08:44:29,692 : INFO : EPOCH 25 - PROGRESS: at 44.73% examples, 390119 words/s, in_qsize 15, out_qsize 0\n",
      "2020-05-31 08:44:30,699 : INFO : EPOCH 25 - PROGRESS: at 50.35% examples, 396902 words/s, in_qsize 12, out_qsize 0\n",
      "2020-05-31 08:44:31,774 : INFO : EPOCH 25 - PROGRESS: at 55.42% examples, 396237 words/s, in_qsize 16, out_qsize 1\n",
      "2020-05-31 08:44:32,853 : INFO : EPOCH 25 - PROGRESS: at 61.28% examples, 400490 words/s, in_qsize 14, out_qsize 1\n",
      "2020-05-31 08:44:33,862 : INFO : EPOCH 25 - PROGRESS: at 66.69% examples, 403500 words/s, in_qsize 15, out_qsize 0\n",
      "2020-05-31 08:44:34,869 : INFO : EPOCH 25 - PROGRESS: at 72.43% examples, 408000 words/s, in_qsize 15, out_qsize 0\n",
      "2020-05-31 08:44:35,907 : INFO : EPOCH 25 - PROGRESS: at 77.64% examples, 408254 words/s, in_qsize 15, out_qsize 0\n",
      "2020-05-31 08:44:36,939 : INFO : EPOCH 25 - PROGRESS: at 83.07% examples, 409705 words/s, in_qsize 13, out_qsize 4\n",
      "2020-05-31 08:44:37,966 : INFO : EPOCH 25 - PROGRESS: at 88.16% examples, 409561 words/s, in_qsize 16, out_qsize 0\n",
      "2020-05-31 08:44:39,105 : INFO : EPOCH 25 - PROGRESS: at 91.85% examples, 400861 words/s, in_qsize 16, out_qsize 0\n",
      "2020-05-31 08:44:40,122 : INFO : EPOCH 25 - PROGRESS: at 97.71% examples, 404551 words/s, in_qsize 15, out_qsize 0\n",
      "2020-05-31 08:44:40,372 : INFO : worker thread finished; awaiting finish of 7 more threads\n",
      "2020-05-31 08:44:40,388 : INFO : worker thread finished; awaiting finish of 6 more threads\n",
      "2020-05-31 08:44:40,405 : INFO : worker thread finished; awaiting finish of 5 more threads\n",
      "2020-05-31 08:44:40,423 : INFO : worker thread finished; awaiting finish of 4 more threads\n",
      "2020-05-31 08:44:40,427 : INFO : worker thread finished; awaiting finish of 3 more threads\n",
      "2020-05-31 08:44:40,431 : INFO : worker thread finished; awaiting finish of 2 more threads\n",
      "2020-05-31 08:44:40,435 : INFO : worker thread finished; awaiting finish of 1 more threads\n",
      "2020-05-31 08:44:40,440 : INFO : worker thread finished; awaiting finish of 0 more threads\n",
      "2020-05-31 08:44:40,441 : INFO : EPOCH - 25 : training on 9227204 raw words (8221987 effective words) took 20.2s, 407490 effective words/s\n",
      "2020-05-31 08:44:41,453 : INFO : EPOCH 26 - PROGRESS: at 4.89% examples, 399991 words/s, in_qsize 16, out_qsize 0\n",
      "2020-05-31 08:44:42,505 : INFO : EPOCH 26 - PROGRESS: at 10.42% examples, 422100 words/s, in_qsize 12, out_qsize 4\n",
      "2020-05-31 08:44:43,490 : INFO : EPOCH 26 - PROGRESS: at 16.16% examples, 437702 words/s, in_qsize 12, out_qsize 2\n",
      "2020-05-31 08:44:44,488 : INFO : EPOCH 26 - PROGRESS: at 21.79% examples, 443388 words/s, in_qsize 15, out_qsize 0\n",
      "2020-05-31 08:44:45,529 : INFO : EPOCH 26 - PROGRESS: at 27.21% examples, 440295 words/s, in_qsize 15, out_qsize 0\n",
      "2020-05-31 08:44:46,534 : INFO : EPOCH 26 - PROGRESS: at 32.84% examples, 443714 words/s, in_qsize 16, out_qsize 0\n",
      "2020-05-31 08:44:47,542 : INFO : EPOCH 26 - PROGRESS: at 37.70% examples, 437188 words/s, in_qsize 16, out_qsize 1\n",
      "2020-05-31 08:44:48,561 : INFO : EPOCH 26 - PROGRESS: at 42.78% examples, 433896 words/s, in_qsize 16, out_qsize 0\n",
      "2020-05-31 08:44:49,651 : INFO : EPOCH 26 - PROGRESS: at 47.21% examples, 422172 words/s, in_qsize 16, out_qsize 0\n",
      "2020-05-31 08:44:50,675 : INFO : EPOCH 26 - PROGRESS: at 50.13% examples, 403455 words/s, in_qsize 15, out_qsize 0\n",
      "2020-05-31 08:44:51,676 : INFO : EPOCH 26 - PROGRESS: at 54.78% examples, 401607 words/s, in_qsize 15, out_qsize 0\n",
      "2020-05-31 08:44:52,738 : INFO : EPOCH 26 - PROGRESS: at 60.31% examples, 403874 words/s, in_qsize 12, out_qsize 5\n",
      "2020-05-31 08:44:53,844 : INFO : EPOCH 26 - PROGRESS: at 64.40% examples, 395795 words/s, in_qsize 15, out_qsize 0\n",
      "2020-05-31 08:44:54,882 : INFO : EPOCH 26 - PROGRESS: at 69.94% examples, 398833 words/s, in_qsize 16, out_qsize 0\n",
      "2020-05-31 08:44:55,907 : INFO : EPOCH 26 - PROGRESS: at 75.24% examples, 400613 words/s, in_qsize 13, out_qsize 2\n",
      "2020-05-31 08:44:56,931 : INFO : EPOCH 26 - PROGRESS: at 80.90% examples, 403793 words/s, in_qsize 15, out_qsize 0\n",
      "2020-05-31 08:44:57,990 : INFO : EPOCH 26 - PROGRESS: at 86.31% examples, 404807 words/s, in_qsize 15, out_qsize 1\n",
      "2020-05-31 08:44:59,162 : INFO : EPOCH 26 - PROGRESS: at 91.74% examples, 405350 words/s, in_qsize 15, out_qsize 2\n",
      "2020-05-31 08:45:00,140 : INFO : EPOCH 26 - PROGRESS: at 95.88% examples, 400409 words/s, in_qsize 11, out_qsize 6\n",
      "2020-05-31 08:45:00,811 : INFO : worker thread finished; awaiting finish of 7 more threads\n",
      "2020-05-31 08:45:00,815 : INFO : worker thread finished; awaiting finish of 6 more threads\n",
      "2020-05-31 08:45:00,816 : INFO : worker thread finished; awaiting finish of 5 more threads\n",
      "2020-05-31 08:45:00,846 : INFO : worker thread finished; awaiting finish of 4 more threads\n",
      "2020-05-31 08:45:00,909 : INFO : worker thread finished; awaiting finish of 3 more threads\n",
      "2020-05-31 08:45:00,922 : INFO : worker thread finished; awaiting finish of 2 more threads\n",
      "2020-05-31 08:45:00,925 : INFO : worker thread finished; awaiting finish of 1 more threads\n",
      "2020-05-31 08:45:00,933 : INFO : worker thread finished; awaiting finish of 0 more threads\n",
      "2020-05-31 08:45:00,935 : INFO : EPOCH - 26 : training on 9227204 raw words (8223169 effective words) took 20.5s, 401446 effective words/s\n",
      "2020-05-31 08:45:01,972 : INFO : EPOCH 27 - PROGRESS: at 3.80% examples, 304075 words/s, in_qsize 12, out_qsize 3\n",
      "2020-05-31 08:45:03,076 : INFO : EPOCH 27 - PROGRESS: at 8.47% examples, 326357 words/s, in_qsize 14, out_qsize 1\n",
      "2020-05-31 08:45:04,076 : INFO : EPOCH 27 - PROGRESS: at 14.00% examples, 367162 words/s, in_qsize 15, out_qsize 0\n",
      "2020-05-31 08:45:05,087 : INFO : EPOCH 27 - PROGRESS: at 19.73% examples, 391560 words/s, in_qsize 15, out_qsize 0\n",
      "2020-05-31 08:45:06,227 : INFO : EPOCH 27 - PROGRESS: at 25.15% examples, 391458 words/s, in_qsize 16, out_qsize 0\n",
      "2020-05-31 08:45:07,230 : INFO : EPOCH 27 - PROGRESS: at 30.24% examples, 395604 words/s, in_qsize 12, out_qsize 3\n",
      "2020-05-31 08:45:08,251 : INFO : EPOCH 27 - PROGRESS: at 35.87% examples, 403714 words/s, in_qsize 16, out_qsize 0\n",
      "2020-05-31 08:45:09,264 : INFO : EPOCH 27 - PROGRESS: at 41.70% examples, 412371 words/s, in_qsize 16, out_qsize 0\n",
      "2020-05-31 08:45:10,264 : INFO : EPOCH 27 - PROGRESS: at 46.67% examples, 412089 words/s, in_qsize 15, out_qsize 0\n",
      "2020-05-31 08:45:11,276 : INFO : EPOCH 27 - PROGRESS: at 51.32% examples, 408831 words/s, in_qsize 14, out_qsize 1\n",
      "2020-05-31 08:45:12,311 : INFO : EPOCH 27 - PROGRESS: at 55.21% examples, 399839 words/s, in_qsize 13, out_qsize 0\n",
      "2020-05-31 08:45:13,336 : INFO : EPOCH 27 - PROGRESS: at 60.63% examples, 402743 words/s, in_qsize 14, out_qsize 1\n",
      "2020-05-31 08:45:14,402 : INFO : EPOCH 27 - PROGRESS: at 66.15% examples, 404576 words/s, in_qsize 12, out_qsize 3\n",
      "2020-05-31 08:45:15,416 : INFO : EPOCH 27 - PROGRESS: at 71.89% examples, 408868 words/s, in_qsize 15, out_qsize 3\n",
      "2020-05-31 08:45:16,435 : INFO : EPOCH 27 - PROGRESS: at 77.31% examples, 410690 words/s, in_qsize 14, out_qsize 2\n",
      "2020-05-31 08:45:17,460 : INFO : EPOCH 27 - PROGRESS: at 82.85% examples, 413277 words/s, in_qsize 15, out_qsize 4\n",
      "2020-05-31 08:45:18,440 : INFO : EPOCH 27 - PROGRESS: at 88.48% examples, 416072 words/s, in_qsize 13, out_qsize 2\n"
     ]
    },
    {
     "name": "stderr",
     "output_type": "stream",
     "text": [
      "2020-05-31 08:45:19,448 : INFO : EPOCH 27 - PROGRESS: at 94.25% examples, 418887 words/s, in_qsize 16, out_qsize 0\n",
      "2020-05-31 08:45:20,371 : INFO : worker thread finished; awaiting finish of 7 more threads\n",
      "2020-05-31 08:45:20,388 : INFO : worker thread finished; awaiting finish of 6 more threads\n",
      "2020-05-31 08:45:20,406 : INFO : worker thread finished; awaiting finish of 5 more threads\n",
      "2020-05-31 08:45:20,427 : INFO : worker thread finished; awaiting finish of 4 more threads\n",
      "2020-05-31 08:45:20,431 : INFO : worker thread finished; awaiting finish of 3 more threads\n",
      "2020-05-31 08:45:20,432 : INFO : worker thread finished; awaiting finish of 2 more threads\n",
      "2020-05-31 08:45:20,437 : INFO : worker thread finished; awaiting finish of 1 more threads\n",
      "2020-05-31 08:45:20,439 : INFO : worker thread finished; awaiting finish of 0 more threads\n",
      "2020-05-31 08:45:20,440 : INFO : EPOCH - 27 : training on 9227204 raw words (8222974 effective words) took 19.5s, 421834 effective words/s\n",
      "2020-05-31 08:45:21,456 : INFO : EPOCH 28 - PROGRESS: at 4.23% examples, 345237 words/s, in_qsize 16, out_qsize 0\n",
      "2020-05-31 08:45:22,513 : INFO : EPOCH 28 - PROGRESS: at 8.80% examples, 349840 words/s, in_qsize 16, out_qsize 1\n",
      "2020-05-31 08:45:23,528 : INFO : EPOCH 28 - PROGRESS: at 12.39% examples, 329917 words/s, in_qsize 10, out_qsize 5\n",
      "2020-05-31 08:45:24,655 : INFO : EPOCH 28 - PROGRESS: at 18.32% examples, 357975 words/s, in_qsize 14, out_qsize 1\n",
      "2020-05-31 08:45:25,665 : INFO : EPOCH 28 - PROGRESS: at 23.95% examples, 377771 words/s, in_qsize 15, out_qsize 2\n",
      "2020-05-31 08:45:26,679 : INFO : EPOCH 28 - PROGRESS: at 29.70% examples, 391828 words/s, in_qsize 15, out_qsize 2\n",
      "2020-05-31 08:45:27,685 : INFO : EPOCH 28 - PROGRESS: at 34.78% examples, 395229 words/s, in_qsize 16, out_qsize 0\n",
      "2020-05-31 08:45:28,707 : INFO : EPOCH 28 - PROGRESS: at 40.19% examples, 400215 words/s, in_qsize 15, out_qsize 0\n",
      "2020-05-31 08:45:29,735 : INFO : EPOCH 28 - PROGRESS: at 46.03% examples, 407724 words/s, in_qsize 15, out_qsize 3\n",
      "2020-05-31 08:45:30,742 : INFO : EPOCH 28 - PROGRESS: at 51.75% examples, 413718 words/s, in_qsize 15, out_qsize 0\n",
      "2020-05-31 08:45:31,748 : INFO : EPOCH 28 - PROGRESS: at 57.06% examples, 415542 words/s, in_qsize 16, out_qsize 0\n",
      "2020-05-31 08:45:32,781 : INFO : EPOCH 28 - PROGRESS: at 61.39% examples, 409630 words/s, in_qsize 16, out_qsize 0\n",
      "2020-05-31 08:45:33,897 : INFO : EPOCH 28 - PROGRESS: at 65.83% examples, 402774 words/s, in_qsize 15, out_qsize 0\n",
      "2020-05-31 08:45:34,902 : INFO : EPOCH 28 - PROGRESS: at 70.59% examples, 401865 words/s, in_qsize 15, out_qsize 0\n",
      "2020-05-31 08:45:35,909 : INFO : EPOCH 28 - PROGRESS: at 74.81% examples, 398174 words/s, in_qsize 14, out_qsize 1\n",
      "2020-05-31 08:45:36,928 : INFO : EPOCH 28 - PROGRESS: at 80.68% examples, 402742 words/s, in_qsize 14, out_qsize 1\n",
      "2020-05-31 08:45:37,982 : INFO : EPOCH 28 - PROGRESS: at 85.98% examples, 403405 words/s, in_qsize 14, out_qsize 1\n",
      "2020-05-31 08:45:39,013 : INFO : EPOCH 28 - PROGRESS: at 91.52% examples, 405467 words/s, in_qsize 15, out_qsize 0\n",
      "2020-05-31 08:45:40,093 : INFO : EPOCH 28 - PROGRESS: at 97.07% examples, 406283 words/s, in_qsize 16, out_qsize 0\n",
      "2020-05-31 08:45:40,411 : INFO : worker thread finished; awaiting finish of 7 more threads\n",
      "2020-05-31 08:45:40,446 : INFO : worker thread finished; awaiting finish of 6 more threads\n",
      "2020-05-31 08:45:40,450 : INFO : worker thread finished; awaiting finish of 5 more threads\n",
      "2020-05-31 08:45:40,454 : INFO : worker thread finished; awaiting finish of 4 more threads\n",
      "2020-05-31 08:45:40,471 : INFO : worker thread finished; awaiting finish of 3 more threads\n",
      "2020-05-31 08:45:40,479 : INFO : worker thread finished; awaiting finish of 2 more threads\n",
      "2020-05-31 08:45:40,488 : INFO : worker thread finished; awaiting finish of 1 more threads\n",
      "2020-05-31 08:45:40,492 : INFO : worker thread finished; awaiting finish of 0 more threads\n",
      "2020-05-31 08:45:40,492 : INFO : EPOCH - 28 : training on 9227204 raw words (8222312 effective words) took 20.0s, 410245 effective words/s\n",
      "2020-05-31 08:45:41,530 : INFO : EPOCH 29 - PROGRESS: at 4.89% examples, 390005 words/s, in_qsize 15, out_qsize 0\n",
      "2020-05-31 08:45:42,593 : INFO : EPOCH 29 - PROGRESS: at 10.21% examples, 400528 words/s, in_qsize 15, out_qsize 0\n",
      "2020-05-31 08:45:43,600 : INFO : EPOCH 29 - PROGRESS: at 15.08% examples, 399730 words/s, in_qsize 12, out_qsize 3\n",
      "2020-05-31 08:45:44,670 : INFO : EPOCH 29 - PROGRESS: at 19.51% examples, 384595 words/s, in_qsize 15, out_qsize 0\n",
      "2020-05-31 08:45:45,673 : INFO : EPOCH 29 - PROGRESS: at 23.52% examples, 373779 words/s, in_qsize 15, out_qsize 0\n",
      "2020-05-31 08:45:46,735 : INFO : EPOCH 29 - PROGRESS: at 29.27% examples, 385810 words/s, in_qsize 14, out_qsize 1\n",
      "2020-05-31 08:45:47,841 : INFO : EPOCH 29 - PROGRESS: at 35.10% examples, 393251 words/s, in_qsize 14, out_qsize 1\n",
      "2020-05-31 08:45:48,852 : INFO : EPOCH 29 - PROGRESS: at 40.94% examples, 403241 words/s, in_qsize 15, out_qsize 1\n",
      "2020-05-31 08:45:49,862 : INFO : EPOCH 29 - PROGRESS: at 46.67% examples, 410157 words/s, in_qsize 15, out_qsize 0\n",
      "2020-05-31 08:45:50,888 : INFO : EPOCH 29 - PROGRESS: at 49.70% examples, 393705 words/s, in_qsize 16, out_qsize 2\n",
      "2020-05-31 08:45:51,890 : INFO : EPOCH 29 - PROGRESS: at 55.21% examples, 398965 words/s, in_qsize 16, out_qsize 0\n",
      "2020-05-31 08:45:52,951 : INFO : EPOCH 29 - PROGRESS: at 60.52% examples, 400041 words/s, in_qsize 9, out_qsize 6\n",
      "2020-05-31 08:45:53,956 : INFO : EPOCH 29 - PROGRESS: at 66.47% examples, 406566 words/s, in_qsize 15, out_qsize 0\n",
      "2020-05-31 08:45:54,960 : INFO : EPOCH 29 - PROGRESS: at 70.70% examples, 402368 words/s, in_qsize 15, out_qsize 0\n",
      "2020-05-31 08:45:56,053 : INFO : EPOCH 29 - PROGRESS: at 74.59% examples, 394701 words/s, in_qsize 15, out_qsize 0\n",
      "2020-05-31 08:45:57,138 : INFO : EPOCH 29 - PROGRESS: at 77.74% examples, 384479 words/s, in_qsize 15, out_qsize 2\n",
      "2020-05-31 08:45:58,164 : INFO : EPOCH 29 - PROGRESS: at 83.18% examples, 387383 words/s, in_qsize 14, out_qsize 2\n",
      "2020-05-31 08:45:59,213 : INFO : EPOCH 29 - PROGRESS: at 88.69% examples, 389931 words/s, in_qsize 16, out_qsize 0\n",
      "2020-05-31 08:46:00,230 : INFO : EPOCH 29 - PROGRESS: at 94.14% examples, 392383 words/s, in_qsize 16, out_qsize 0\n",
      "2020-05-31 08:46:01,179 : INFO : worker thread finished; awaiting finish of 7 more threads\n",
      "2020-05-31 08:46:01,202 : INFO : worker thread finished; awaiting finish of 6 more threads\n",
      "2020-05-31 08:46:01,252 : INFO : EPOCH 29 - PROGRESS: at 99.45% examples, 394129 words/s, in_qsize 5, out_qsize 1\n",
      "2020-05-31 08:46:01,256 : INFO : worker thread finished; awaiting finish of 5 more threads\n",
      "2020-05-31 08:46:01,258 : INFO : worker thread finished; awaiting finish of 4 more threads\n",
      "2020-05-31 08:46:01,276 : INFO : worker thread finished; awaiting finish of 3 more threads\n",
      "2020-05-31 08:46:01,280 : INFO : worker thread finished; awaiting finish of 2 more threads\n",
      "2020-05-31 08:46:01,288 : INFO : worker thread finished; awaiting finish of 1 more threads\n",
      "2020-05-31 08:46:01,290 : INFO : worker thread finished; awaiting finish of 0 more threads\n",
      "2020-05-31 08:46:01,291 : INFO : EPOCH - 29 : training on 9227204 raw words (8222705 effective words) took 20.8s, 395539 effective words/s\n",
      "2020-05-31 08:46:02,306 : INFO : EPOCH 30 - PROGRESS: at 4.67% examples, 381021 words/s, in_qsize 15, out_qsize 0\n",
      "2020-05-31 08:46:03,332 : INFO : EPOCH 30 - PROGRESS: at 10.53% examples, 425325 words/s, in_qsize 14, out_qsize 1\n",
      "2020-05-31 08:46:04,343 : INFO : EPOCH 30 - PROGRESS: at 15.30% examples, 412862 words/s, in_qsize 12, out_qsize 3\n",
      "2020-05-31 08:46:05,343 : INFO : EPOCH 30 - PROGRESS: at 20.81% examples, 423033 words/s, in_qsize 15, out_qsize 0\n",
      "2020-05-31 08:46:06,346 : INFO : EPOCH 30 - PROGRESS: at 25.15% examples, 409541 words/s, in_qsize 15, out_qsize 0\n",
      "2020-05-31 08:46:07,351 : INFO : EPOCH 30 - PROGRESS: at 28.72% examples, 390143 words/s, in_qsize 13, out_qsize 0\n",
      "2020-05-31 08:46:08,362 : INFO : EPOCH 30 - PROGRESS: at 33.70% examples, 392269 words/s, in_qsize 13, out_qsize 0\n",
      "2020-05-31 08:46:09,401 : INFO : EPOCH 30 - PROGRESS: at 39.11% examples, 396919 words/s, in_qsize 15, out_qsize 0\n",
      "2020-05-31 08:46:10,456 : INFO : EPOCH 30 - PROGRESS: at 44.51% examples, 399826 words/s, in_qsize 15, out_qsize 0\n"
     ]
    },
    {
     "name": "stderr",
     "output_type": "stream",
     "text": [
      "2020-05-31 08:46:11,460 : INFO : EPOCH 30 - PROGRESS: at 50.13% examples, 405957 words/s, in_qsize 16, out_qsize 0\n",
      "2020-05-31 08:46:12,465 : INFO : EPOCH 30 - PROGRESS: at 55.21% examples, 406933 words/s, in_qsize 11, out_qsize 4\n",
      "2020-05-31 08:46:13,472 : INFO : EPOCH 30 - PROGRESS: at 60.74% examples, 410630 words/s, in_qsize 15, out_qsize 0\n",
      "2020-05-31 08:46:14,499 : INFO : EPOCH 30 - PROGRESS: at 65.93% examples, 411626 words/s, in_qsize 15, out_qsize 0\n",
      "2020-05-31 08:46:15,486 : INFO : EPOCH 30 - PROGRESS: at 71.45% examples, 414477 words/s, in_qsize 16, out_qsize 0\n",
      "2020-05-31 08:46:16,585 : INFO : EPOCH 30 - PROGRESS: at 76.11% examples, 409726 words/s, in_qsize 15, out_qsize 0\n",
      "2020-05-31 08:46:17,722 : INFO : EPOCH 30 - PROGRESS: at 80.46% examples, 403052 words/s, in_qsize 14, out_qsize 1\n",
      "2020-05-31 08:46:18,742 : INFO : EPOCH 30 - PROGRESS: at 85.45% examples, 402992 words/s, in_qsize 16, out_qsize 0\n",
      "2020-05-31 08:46:19,775 : INFO : EPOCH 30 - PROGRESS: at 90.65% examples, 403586 words/s, in_qsize 12, out_qsize 3\n",
      "2020-05-31 08:46:20,784 : INFO : EPOCH 30 - PROGRESS: at 96.75% examples, 408263 words/s, in_qsize 15, out_qsize 0\n",
      "2020-05-31 08:46:21,234 : INFO : worker thread finished; awaiting finish of 7 more threads\n",
      "2020-05-31 08:46:21,261 : INFO : worker thread finished; awaiting finish of 6 more threads\n",
      "2020-05-31 08:46:21,277 : INFO : worker thread finished; awaiting finish of 5 more threads\n",
      "2020-05-31 08:46:21,290 : INFO : worker thread finished; awaiting finish of 4 more threads\n",
      "2020-05-31 08:46:21,297 : INFO : worker thread finished; awaiting finish of 3 more threads\n",
      "2020-05-31 08:46:21,300 : INFO : worker thread finished; awaiting finish of 2 more threads\n",
      "2020-05-31 08:46:21,307 : INFO : worker thread finished; awaiting finish of 1 more threads\n",
      "2020-05-31 08:46:21,315 : INFO : worker thread finished; awaiting finish of 0 more threads\n",
      "2020-05-31 08:46:21,316 : INFO : EPOCH - 30 : training on 9227204 raw words (8222874 effective words) took 20.0s, 410810 effective words/s\n",
      "2020-05-31 08:46:22,355 : INFO : EPOCH 31 - PROGRESS: at 4.67% examples, 376274 words/s, in_qsize 14, out_qsize 3\n",
      "2020-05-31 08:46:23,349 : INFO : EPOCH 31 - PROGRESS: at 10.31% examples, 418520 words/s, in_qsize 16, out_qsize 0\n",
      "2020-05-31 08:46:24,359 : INFO : EPOCH 31 - PROGRESS: at 16.16% examples, 437645 words/s, in_qsize 15, out_qsize 0\n",
      "2020-05-31 08:46:25,397 : INFO : EPOCH 31 - PROGRESS: at 21.46% examples, 436655 words/s, in_qsize 15, out_qsize 1\n",
      "2020-05-31 08:46:26,381 : INFO : EPOCH 31 - PROGRESS: at 27.20% examples, 442290 words/s, in_qsize 16, out_qsize 0\n",
      "2020-05-31 08:46:27,385 : INFO : EPOCH 31 - PROGRESS: at 31.76% examples, 430858 words/s, in_qsize 13, out_qsize 4\n",
      "2020-05-31 08:46:28,398 : INFO : EPOCH 31 - PROGRESS: at 36.18% examples, 420763 words/s, in_qsize 14, out_qsize 1\n",
      "2020-05-31 08:46:29,451 : INFO : EPOCH 31 - PROGRESS: at 40.29% examples, 407889 words/s, in_qsize 14, out_qsize 1\n",
      "2020-05-31 08:46:30,454 : INFO : EPOCH 31 - PROGRESS: at 46.35% examples, 417682 words/s, in_qsize 15, out_qsize 0\n",
      "2020-05-31 08:46:31,554 : INFO : EPOCH 31 - PROGRESS: at 51.64% examples, 416376 words/s, in_qsize 15, out_qsize 3\n",
      "2020-05-31 08:46:32,547 : INFO : EPOCH 31 - PROGRESS: at 57.60% examples, 422411 words/s, in_qsize 16, out_qsize 0\n",
      "2020-05-31 08:46:33,594 : INFO : EPOCH 31 - PROGRESS: at 62.79% examples, 421695 words/s, in_qsize 15, out_qsize 0\n",
      "2020-05-31 08:46:34,655 : INFO : EPOCH 31 - PROGRESS: at 68.53% examples, 423113 words/s, in_qsize 12, out_qsize 3\n",
      "2020-05-31 08:46:35,680 : INFO : EPOCH 31 - PROGRESS: at 74.37% examples, 426389 words/s, in_qsize 15, out_qsize 0\n",
      "2020-05-31 08:46:36,694 : INFO : EPOCH 31 - PROGRESS: at 79.92% examples, 427807 words/s, in_qsize 15, out_qsize 0\n",
      "2020-05-31 08:46:37,766 : INFO : EPOCH 31 - PROGRESS: at 85.34% examples, 427011 words/s, in_qsize 15, out_qsize 0\n",
      "2020-05-31 08:46:38,792 : INFO : EPOCH 31 - PROGRESS: at 90.11% examples, 424337 words/s, in_qsize 15, out_qsize 0\n",
      "2020-05-31 08:46:39,798 : INFO : EPOCH 31 - PROGRESS: at 94.69% examples, 421483 words/s, in_qsize 14, out_qsize 1\n",
      "2020-05-31 08:46:40,844 : INFO : EPOCH 31 - PROGRESS: at 98.36% examples, 414411 words/s, in_qsize 14, out_qsize 1\n",
      "2020-05-31 08:46:40,986 : INFO : worker thread finished; awaiting finish of 7 more threads\n",
      "2020-05-31 08:46:40,987 : INFO : worker thread finished; awaiting finish of 6 more threads\n",
      "2020-05-31 08:46:41,009 : INFO : worker thread finished; awaiting finish of 5 more threads\n",
      "2020-05-31 08:46:41,014 : INFO : worker thread finished; awaiting finish of 4 more threads\n",
      "2020-05-31 08:46:41,028 : INFO : worker thread finished; awaiting finish of 3 more threads\n",
      "2020-05-31 08:46:41,050 : INFO : worker thread finished; awaiting finish of 2 more threads\n",
      "2020-05-31 08:46:41,059 : INFO : worker thread finished; awaiting finish of 1 more threads\n",
      "2020-05-31 08:46:41,066 : INFO : worker thread finished; awaiting finish of 0 more threads\n",
      "2020-05-31 08:46:41,067 : INFO : EPOCH - 31 : training on 9227204 raw words (8222859 effective words) took 19.7s, 416545 effective words/s\n",
      "2020-05-31 08:46:42,098 : INFO : EPOCH 32 - PROGRESS: at 3.79% examples, 309532 words/s, in_qsize 15, out_qsize 1\n",
      "2020-05-31 08:46:43,105 : INFO : EPOCH 32 - PROGRESS: at 9.99% examples, 405588 words/s, in_qsize 16, out_qsize 0\n",
      "2020-05-31 08:46:44,160 : INFO : EPOCH 32 - PROGRESS: at 15.08% examples, 402558 words/s, in_qsize 14, out_qsize 1\n",
      "2020-05-31 08:46:45,179 : INFO : EPOCH 32 - PROGRESS: at 20.92% examples, 419778 words/s, in_qsize 15, out_qsize 0\n",
      "2020-05-31 08:46:46,180 : INFO : EPOCH 32 - PROGRESS: at 26.67% examples, 430052 words/s, in_qsize 13, out_qsize 2\n",
      "2020-05-31 08:46:47,212 : INFO : EPOCH 32 - PROGRESS: at 32.41% examples, 434659 words/s, in_qsize 16, out_qsize 1\n",
      "2020-05-31 08:46:48,327 : INFO : EPOCH 32 - PROGRESS: at 38.03% examples, 431726 words/s, in_qsize 11, out_qsize 4\n",
      "2020-05-31 08:46:49,358 : INFO : EPOCH 32 - PROGRESS: at 43.32% examples, 430678 words/s, in_qsize 14, out_qsize 1\n",
      "2020-05-31 08:46:50,490 : INFO : EPOCH 32 - PROGRESS: at 47.43% examples, 414844 words/s, in_qsize 15, out_qsize 1\n",
      "2020-05-31 08:46:51,555 : INFO : EPOCH 32 - PROGRESS: at 51.21% examples, 402442 words/s, in_qsize 15, out_qsize 0\n",
      "2020-05-31 08:46:52,576 : INFO : EPOCH 32 - PROGRESS: at 56.08% examples, 401588 words/s, in_qsize 16, out_qsize 0\n",
      "2020-05-31 08:46:53,624 : INFO : EPOCH 32 - PROGRESS: at 60.41% examples, 396439 words/s, in_qsize 15, out_qsize 0\n",
      "2020-05-31 08:46:54,633 : INFO : EPOCH 32 - PROGRESS: at 64.95% examples, 394537 words/s, in_qsize 14, out_qsize 1\n",
      "2020-05-31 08:46:55,645 : INFO : EPOCH 32 - PROGRESS: at 70.59% examples, 398925 words/s, in_qsize 16, out_qsize 0\n",
      "2020-05-31 08:46:56,655 : INFO : EPOCH 32 - PROGRESS: at 76.11% examples, 402219 words/s, in_qsize 15, out_qsize 0\n",
      "2020-05-31 08:46:57,710 : INFO : EPOCH 32 - PROGRESS: at 81.45% examples, 402950 words/s, in_qsize 14, out_qsize 1\n",
      "2020-05-31 08:46:58,761 : INFO : EPOCH 32 - PROGRESS: at 87.29% examples, 406195 words/s, in_qsize 15, out_qsize 0\n",
      "2020-05-31 08:46:59,834 : INFO : EPOCH 32 - PROGRESS: at 92.39% examples, 405734 words/s, in_qsize 15, out_qsize 0\n",
      "2020-05-31 08:47:00,853 : INFO : EPOCH 32 - PROGRESS: at 97.39% examples, 405080 words/s, in_qsize 15, out_qsize 0\n",
      "2020-05-31 08:47:01,227 : INFO : worker thread finished; awaiting finish of 7 more threads\n",
      "2020-05-31 08:47:01,240 : INFO : worker thread finished; awaiting finish of 6 more threads\n",
      "2020-05-31 08:47:01,256 : INFO : worker thread finished; awaiting finish of 5 more threads\n",
      "2020-05-31 08:47:01,260 : INFO : worker thread finished; awaiting finish of 4 more threads\n",
      "2020-05-31 08:47:01,297 : INFO : worker thread finished; awaiting finish of 3 more threads\n",
      "2020-05-31 08:47:01,313 : INFO : worker thread finished; awaiting finish of 2 more threads\n",
      "2020-05-31 08:47:01,323 : INFO : worker thread finished; awaiting finish of 1 more threads\n",
      "2020-05-31 08:47:01,326 : INFO : worker thread finished; awaiting finish of 0 more threads\n",
      "2020-05-31 08:47:01,327 : INFO : EPOCH - 32 : training on 9227204 raw words (8222938 effective words) took 20.2s, 406206 effective words/s\n",
      "2020-05-31 08:47:01,329 : INFO : training on a 295270528 raw words (263126202 effective words) took 656.4s, 400866 effective words/s\n"
     ]
    },
    {
     "name": "stdout",
     "output_type": "stream",
     "text": [
      "CPU times: user 19min 20s, sys: 6.17 s, total: 19min 26s\n",
      "Wall time: 10min 56s\n"
     ]
    },
    {
     "data": {
      "text/plain": [
       "(263126202, 295270528)"
      ]
     },
     "execution_count": 23,
     "metadata": {},
     "output_type": "execute_result"
    }
   ],
   "source": [
    "%%time\n",
    "w2v_model.train(documents, total_examples=len(documents), epochs=W2V_EPOCH)"
   ]
  },
  {
   "cell_type": "code",
   "execution_count": 24,
   "metadata": {
    "_uuid": "27cc2651c74227115d8bfd8c40e5618048e05edd"
   },
   "outputs": [
    {
     "name": "stderr",
     "output_type": "stream",
     "text": [
      "/opt/conda/lib/python3.6/site-packages/ipykernel_launcher.py:1: DeprecationWarning: Call to deprecated `most_similar` (Method will be removed in 4.0.0, use self.wv.most_similar() instead).\n",
      "  \"\"\"Entry point for launching an IPython kernel.\n",
      "2020-05-31 08:47:28,671 : INFO : precomputing L2-norms of word weight vectors\n",
      "/opt/conda/lib/python3.6/site-packages/gensim/matutils.py:737: FutureWarning: Conversion of the second argument of issubdtype from `int` to `np.signedinteger` is deprecated. In future, it will be treated as `np.int64 == np.dtype(int).type`.\n",
      "  if np.issubdtype(vec.dtype, np.int):\n"
     ]
    },
    {
     "data": {
      "text/plain": [
       "[('luv', 0.5696961879730225),\n",
       " ('loves', 0.5488146543502808),\n",
       " ('loved', 0.52984219789505),\n",
       " ('adore', 0.507583498954773),\n",
       " ('amazing', 0.5023819804191589),\n",
       " ('looove', 0.48286324739456177),\n",
       " ('loooove', 0.4642808735370636),\n",
       " ('lovee', 0.4641185998916626),\n",
       " ('loveee', 0.4631948471069336),\n",
       " ('awesome', 0.45769333839416504)]"
      ]
     },
     "execution_count": 24,
     "metadata": {},
     "output_type": "execute_result"
    }
   ],
   "source": [
    "w2v_model.most_similar(\"love\")"
   ]
  },
  {
   "cell_type": "markdown",
   "metadata": {
    "_uuid": "e13563644468037258598637b49373ca96b9b879"
   },
   "source": [
    "### Tokenize Text"
   ]
  },
  {
   "cell_type": "code",
   "execution_count": 25,
   "metadata": {
    "_uuid": "6852bc709a7cd20173cbeeb218505078f8f37c57"
   },
   "outputs": [
    {
     "name": "stdout",
     "output_type": "stream",
     "text": [
      "Total words 290419\n",
      "CPU times: user 27.4 s, sys: 110 ms, total: 27.5 s\n",
      "Wall time: 27.9 s\n"
     ]
    }
   ],
   "source": [
    "%%time\n",
    "tokenizer = Tokenizer()\n",
    "tokenizer.fit_on_texts(df_train.text)\n",
    "\n",
    "vocab_size = len(tokenizer.word_index) + 1\n",
    "print(\"Total words\", vocab_size)"
   ]
  },
  {
   "cell_type": "code",
   "execution_count": 26,
   "metadata": {
    "_uuid": "45de439df3015030c71f84c2d170346936a1d68f"
   },
   "outputs": [
    {
     "name": "stdout",
     "output_type": "stream",
     "text": [
      "CPU times: user 44.4 s, sys: 964 ms, total: 45.4 s\n",
      "Wall time: 45.7 s\n"
     ]
    }
   ],
   "source": [
    "%%time\n",
    "x_train = pad_sequences(tokenizer.texts_to_sequences(df_train.text), maxlen=SEQUENCE_LENGTH)\n",
    "x_test = pad_sequences(tokenizer.texts_to_sequences(df_test.text), maxlen=SEQUENCE_LENGTH)"
   ]
  },
  {
   "cell_type": "markdown",
   "metadata": {
    "_uuid": "03b35903fc6260e190d6928d240ef7432de117fc"
   },
   "source": [
    "### Label Encoder "
   ]
  },
  {
   "cell_type": "code",
   "execution_count": 27,
   "metadata": {
    "_uuid": "33676e0efa39e97d89bd650b8b4eae933a22fbf0"
   },
   "outputs": [
    {
     "data": {
      "text/plain": [
       "['POSITIVE', 'NEGATIVE', 'NEUTRAL']"
      ]
     },
     "execution_count": 27,
     "metadata": {},
     "output_type": "execute_result"
    }
   ],
   "source": [
    "labels = df_train.target.unique().tolist()\n",
    "labels.append(NEUTRAL)\n",
    "labels"
   ]
  },
  {
   "cell_type": "code",
   "execution_count": 28,
   "metadata": {
    "_uuid": "04239a9bef76e7922fd86098a5601dfde8ee4665"
   },
   "outputs": [
    {
     "name": "stdout",
     "output_type": "stream",
     "text": [
      "y_train (1280000, 1)\n",
      "y_test (320000, 1)\n"
     ]
    }
   ],
   "source": [
    "encoder = LabelEncoder()\n",
    "encoder.fit(df_train.target.tolist())\n",
    "\n",
    "y_train = encoder.transform(df_train.target.tolist())\n",
    "y_test = encoder.transform(df_test.target.tolist())\n",
    "\n",
    "y_train = y_train.reshape(-1,1)\n",
    "y_test = y_test.reshape(-1,1)\n",
    "\n",
    "print(\"y_train\",y_train.shape)\n",
    "print(\"y_test\",y_test.shape)"
   ]
  },
  {
   "cell_type": "code",
   "execution_count": 29,
   "metadata": {
    "_uuid": "04299c886911ca135583ab64878f213939a2990c"
   },
   "outputs": [
    {
     "name": "stdout",
     "output_type": "stream",
     "text": [
      "x_train (1280000, 300)\n",
      "y_train (1280000, 1)\n",
      "\n",
      "x_test (320000, 300)\n",
      "y_test (320000, 1)\n"
     ]
    }
   ],
   "source": [
    "print(\"x_train\", x_train.shape)\n",
    "print(\"y_train\", y_train.shape)\n",
    "print()\n",
    "print(\"x_test\", x_test.shape)\n",
    "print(\"y_test\", y_test.shape)"
   ]
  },
  {
   "cell_type": "code",
   "execution_count": 30,
   "metadata": {
    "_uuid": "232533fb27b7be99d9b8c2f8fb22c9c6bf121a6f"
   },
   "outputs": [
    {
     "data": {
      "text/plain": [
       "array([[1],\n",
       "       [1],\n",
       "       [1],\n",
       "       [0],\n",
       "       [1],\n",
       "       [1],\n",
       "       [1],\n",
       "       [1],\n",
       "       [1],\n",
       "       [1]])"
      ]
     },
     "execution_count": 30,
     "metadata": {},
     "output_type": "execute_result"
    }
   ],
   "source": [
    "y_train[:10]"
   ]
  },
  {
   "cell_type": "markdown",
   "metadata": {
    "_uuid": "233c0ea94055a03e2e7df3e2a13d036ec963484f"
   },
   "source": [
    "### Embedding layer"
   ]
  },
  {
   "cell_type": "code",
   "execution_count": 31,
   "metadata": {
    "_uuid": "9ab488374b59e3f30f8b1ea92767d853c4846bac"
   },
   "outputs": [
    {
     "name": "stdout",
     "output_type": "stream",
     "text": [
      "(290419, 300)\n"
     ]
    }
   ],
   "source": [
    "embedding_matrix = np.zeros((vocab_size, W2V_SIZE))\n",
    "for word, i in tokenizer.word_index.items():\n",
    "  if word in w2v_model.wv:\n",
    "    embedding_matrix[i] = w2v_model.wv[word]\n",
    "print(embedding_matrix.shape)"
   ]
  },
  {
   "cell_type": "code",
   "execution_count": 32,
   "metadata": {
    "_uuid": "833279d91e4286065968237fb5f2a0c2dd4d246c"
   },
   "outputs": [],
   "source": [
    "embedding_layer = Embedding(vocab_size, W2V_SIZE, weights=[embedding_matrix], input_length=SEQUENCE_LENGTH, trainable=False)"
   ]
  },
  {
   "cell_type": "markdown",
   "metadata": {
    "_uuid": "b299ef78f94c2085942c993a2d58753a7476305a"
   },
   "source": [
    "### Build Model"
   ]
  },
  {
   "cell_type": "code",
   "execution_count": 33,
   "metadata": {
    "_uuid": "e775ef4f1b74e6412457181383c39f2df554ef3f"
   },
   "outputs": [
    {
     "name": "stdout",
     "output_type": "stream",
     "text": [
      "_________________________________________________________________\n",
      "Layer (type)                 Output Shape              Param #   \n",
      "=================================================================\n",
      "embedding_1 (Embedding)      (None, 300, 300)          87125700  \n",
      "_________________________________________________________________\n",
      "dropout_1 (Dropout)          (None, 300, 300)          0         \n",
      "_________________________________________________________________\n",
      "lstm_1 (LSTM)                (None, 100)               160400    \n",
      "_________________________________________________________________\n",
      "dense_1 (Dense)              (None, 1)                 101       \n",
      "=================================================================\n",
      "Total params: 87,286,201\n",
      "Trainable params: 160,501\n",
      "Non-trainable params: 87,125,700\n",
      "_________________________________________________________________\n"
     ]
    }
   ],
   "source": [
    "model = Sequential()\n",
    "model.add(embedding_layer)\n",
    "model.add(Dropout(0.5))\n",
    "model.add(LSTM(100, dropout=0.2, recurrent_dropout=0.2))\n",
    "model.add(Dense(1, activation='sigmoid'))\n",
    "\n",
    "model.summary()"
   ]
  },
  {
   "cell_type": "markdown",
   "metadata": {
    "_uuid": "28d22eafd0c7d798dcf3d742bc92fb8577939e6c"
   },
   "source": [
    "### Compile model"
   ]
  },
  {
   "cell_type": "code",
   "execution_count": 34,
   "metadata": {
    "_uuid": "1331e08d590bb2aa2033706c8faca217afc0f1c3"
   },
   "outputs": [],
   "source": [
    "model.compile(loss='binary_crossentropy',\n",
    "              optimizer=\"adam\",\n",
    "              metrics=['accuracy'])"
   ]
  },
  {
   "cell_type": "markdown",
   "metadata": {
    "_uuid": "c7733127cb8b380e0c807268903bf4d03ef92542"
   },
   "source": [
    "### Callbacks"
   ]
  },
  {
   "cell_type": "code",
   "execution_count": 35,
   "metadata": {
    "_uuid": "a688df590386f5748da6fe00b01904fe6c71619e"
   },
   "outputs": [],
   "source": [
    "callbacks = [ ReduceLROnPlateau(monitor='val_loss', patience=5, cooldown=0),\n",
    "              EarlyStopping(monitor='val_acc', min_delta=1e-4, patience=5)]"
   ]
  },
  {
   "cell_type": "markdown",
   "metadata": {
    "_uuid": "8d0873633dd49179c8cae17377641b97d323ef3b"
   },
   "source": [
    "### Train"
   ]
  },
  {
   "cell_type": "code",
   "execution_count": null,
   "metadata": {
    "_uuid": "2b659d390c6577dc5cdb6b6297934279b4e801d5"
   },
   "outputs": [
    {
     "name": "stdout",
     "output_type": "stream",
     "text": [
      "Train on 1152000 samples, validate on 128000 samples\n",
      "Epoch 1/8\n",
      "1152000/1152000 [==============================] - 614s 533us/step - loss: 0.5039 - acc: 0.7506 - val_loss: 0.4668 - val_acc: 0.7786\n",
      "Epoch 2/8\n",
      "1152000/1152000 [==============================] - 611s 530us/step - loss: 0.4796 - acc: 0.7672 - val_loss: 0.4586 - val_acc: 0.7836\n",
      "Epoch 3/8\n",
      "1057792/1152000 [==========================>...] - ETA: 47s - loss: 0.4728 - acc: 0.7713"
     ]
    }
   ],
   "source": [
    "%%time\n",
    "history = model.fit(x_train, y_train,\n",
    "                    batch_size=BATCH_SIZE,\n",
    "                    epochs=EPOCHS,\n",
    "                    validation_split=0.1,\n",
    "                    verbose=1,\n",
    "                    callbacks=callbacks)"
   ]
  },
  {
   "cell_type": "code",
   "execution_count": null,
   "metadata": {},
   "outputs": [],
   "source": [
    "model.save(KERAS_MODEL)\n",
    "w2v_model.save(WORD2VEC_MODEL)\n",
    "pickle.dump(tokenizer, open(TOKENIZER_MODEL, \"wb\"), protocol=0)\n",
    "pickle.dump(encoder, open(ENCODER_MODEL, \"wb\"), protocol=0)"
   ]
  },
  {
   "cell_type": "markdown",
   "metadata": {
    "_uuid": "267258196d96796ac69a7b8c466314bcf5d6ee42"
   },
   "source": [
    "### Evaluate"
   ]
  },
  {
   "cell_type": "code",
   "execution_count": null,
   "metadata": {
    "_uuid": "98ecd8f1b8b74594c3ea775dd68a094e92458022"
   },
   "outputs": [],
   "source": [
    "%%time\n",
    "score = model.evaluate(x_test, y_test, batch_size=BATCH_SIZE)\n",
    "print()\n",
    "print(\"ACCURACY:\",score[1])\n",
    "print(\"LOSS:\",score[0])"
   ]
  },
  {
   "cell_type": "code",
   "execution_count": null,
   "metadata": {
    "_uuid": "40c72cd1e9d6c4fd799cbba7c813765ac4039dfc"
   },
   "outputs": [],
   "source": [
    "acc = history.history['acc']\n",
    "val_acc = history.history['val_acc']\n",
    "loss = history.history['loss']\n",
    "val_loss = history.history['val_loss']\n",
    " \n",
    "epochs = range(len(acc))\n",
    " \n",
    "plt.plot(epochs, acc, 'b', label='Training acc')\n",
    "plt.plot(epochs, val_acc, 'r', label='Validation acc')\n",
    "plt.title('Training and validation accuracy')\n",
    "plt.legend()\n",
    " \n",
    "plt.figure()\n",
    " \n",
    "plt.plot(epochs, loss, 'b', label='Training loss')\n",
    "plt.plot(epochs, val_loss, 'r', label='Validation loss')\n",
    "plt.title('Training and validation loss')\n",
    "plt.legend()\n",
    " \n",
    "plt.show()"
   ]
  },
  {
   "cell_type": "markdown",
   "metadata": {
    "_uuid": "6bdfc0f6a6af5bebc0271d83dd7432c91001409b"
   },
   "source": [
    "### Predict"
   ]
  },
  {
   "cell_type": "code",
   "execution_count": null,
   "metadata": {
    "_uuid": "f0b0fa3d4b1bb14b3f5e3d169a369f3ebef29ae1"
   },
   "outputs": [],
   "source": [
    "def decode_sentiment(score, include_neutral=True):\n",
    "    if include_neutral:        \n",
    "        label = NEUTRAL\n",
    "        if score <= SENTIMENT_THRESHOLDS[0]:\n",
    "            label = NEGATIVE\n",
    "        elif score >= SENTIMENT_THRESHOLDS[1]:\n",
    "            label = POSITIVE\n",
    "\n",
    "        return label\n",
    "    else:\n",
    "        return NEGATIVE if score < 0.5 else POSITIVE"
   ]
  },
  {
   "cell_type": "code",
   "execution_count": null,
   "metadata": {
    "_uuid": "ed4086d651f2f8cbed11d3c909a8873607d29a06"
   },
   "outputs": [],
   "source": [
    "def predict(text, include_neutral=True):\n",
    "    start_at = time.time()\n",
    "    # Tokenize text\n",
    "    x_test = pad_sequences(tokenizer.texts_to_sequences([text]), maxlen=SEQUENCE_LENGTH)\n",
    "    # Predict\n",
    "    score = model.predict([x_test])[0]\n",
    "    # Decode sentiment\n",
    "    label = decode_sentiment(score, include_neutral=include_neutral)\n",
    "\n",
    "    return {\"label\": label, \"score\": float(score),\n",
    "       \"elapsed_time\": time.time()-start_at}  "
   ]
  },
  {
   "cell_type": "code",
   "execution_count": null,
   "metadata": {
    "_uuid": "ca38b1e6c9b5acfed7467de2cf02a78333108872"
   },
   "outputs": [],
   "source": [
    "predict(\"I love the music\")"
   ]
  },
  {
   "cell_type": "code",
   "execution_count": null,
   "metadata": {
    "_uuid": "0e5fe647533be0148850de349fea6ef6f71303d1"
   },
   "outputs": [],
   "source": [
    "predict(\"I hate the rain\")"
   ]
  },
  {
   "cell_type": "code",
   "execution_count": null,
   "metadata": {
    "_uuid": "37064dffcc8920d34ccd54fac7c8b50e583a8269"
   },
   "outputs": [],
   "source": [
    "predict(\"i don't know what i'm doing\")"
   ]
  },
  {
   "cell_type": "code",
   "execution_count": null,
   "metadata": {},
   "outputs": [],
   "source": [
    "predict(\"Asco 2020 sees multiple myeloma responses deepen\")"
   ]
  },
  {
   "cell_type": "markdown",
   "metadata": {
    "_uuid": "3ee72e47f84b6dbc32e02a783de5ec1661f157e1"
   },
   "source": [
    "### Confusion Matrix"
   ]
  },
  {
   "cell_type": "code",
   "execution_count": null,
   "metadata": {
    "_uuid": "0e920173eb05f04aecdd735bc5dff0f5be5f8d15"
   },
   "outputs": [],
   "source": [
    "%%time\n",
    "y_pred_1d = []\n",
    "y_test_1d = list(df_test.target)\n",
    "scores = model.predict(x_test, verbose=1, batch_size=8000)\n",
    "y_pred_1d = [decode_sentiment(score, include_neutral=False) for score in scores]"
   ]
  },
  {
   "cell_type": "code",
   "execution_count": null,
   "metadata": {
    "_uuid": "b3575191bb425ab871f3f41e83812ee84bb7e595"
   },
   "outputs": [],
   "source": [
    "def plot_confusion_matrix(cm, classes,\n",
    "                          title='Confusion matrix',\n",
    "                          cmap=plt.cm.Blues):\n",
    "    \"\"\"\n",
    "    This function prints and plots the confusion matrix.\n",
    "    Normalization can be applied by setting `normalize=True`.\n",
    "    \"\"\"\n",
    "\n",
    "    cm = cm.astype('float') / cm.sum(axis=1)[:, np.newaxis]\n",
    "\n",
    "    plt.imshow(cm, interpolation='nearest', cmap=cmap)\n",
    "    plt.title(title, fontsize=30)\n",
    "    plt.colorbar()\n",
    "    tick_marks = np.arange(len(classes))\n",
    "    plt.xticks(tick_marks, classes, rotation=90, fontsize=22)\n",
    "    plt.yticks(tick_marks, classes, fontsize=22)\n",
    "\n",
    "    fmt = '.2f'\n",
    "    thresh = cm.max() / 2.\n",
    "    for i, j in itertools.product(range(cm.shape[0]), range(cm.shape[1])):\n",
    "        plt.text(j, i, format(cm[i, j], fmt),\n",
    "                 horizontalalignment=\"center\",\n",
    "                 color=\"white\" if cm[i, j] > thresh else \"black\")\n",
    "\n",
    "    plt.ylabel('True label', fontsize=25)\n",
    "    plt.xlabel('Predicted label', fontsize=25)"
   ]
  },
  {
   "cell_type": "code",
   "execution_count": null,
   "metadata": {
    "_uuid": "a57dc6f6211c144491a70f533225edfa95a2dc66"
   },
   "outputs": [],
   "source": [
    "%%time\n",
    "\n",
    "cnf_matrix = confusion_matrix(y_test_1d, y_pred_1d)\n",
    "plt.figure(figsize=(12,12))\n",
    "plot_confusion_matrix(cnf_matrix, classes=df_train.target.unique(), title=\"Confusion matrix\")\n",
    "plt.show()"
   ]
  },
  {
   "cell_type": "markdown",
   "metadata": {
    "_uuid": "e23b957348dcc084249d3cc7538b972da471c2cd"
   },
   "source": [
    "### Classification Report"
   ]
  },
  {
   "cell_type": "code",
   "execution_count": null,
   "metadata": {
    "_uuid": "a7fe05b7caa1c984ff1deb0be2f7c6bc043df9f5"
   },
   "outputs": [],
   "source": [
    "print(classification_report(y_test_1d, y_pred_1d))"
   ]
  },
  {
   "cell_type": "markdown",
   "metadata": {
    "_uuid": "4eb300f0c6693a618587c7dcf32f77f5416cbfb9"
   },
   "source": [
    "### Accuracy Score"
   ]
  },
  {
   "cell_type": "code",
   "execution_count": null,
   "metadata": {
    "_uuid": "5cf76e6e09f8a60ed25947932b94c772eda44d23"
   },
   "outputs": [],
   "source": [
    "accuracy_score(y_test_1d, y_pred_1d)"
   ]
  },
  {
   "cell_type": "markdown",
   "metadata": {
    "_uuid": "4f014c32f3833db282e1a075c526604f34e3158c"
   },
   "source": [
    "### Save model"
   ]
  },
  {
   "cell_type": "code",
   "execution_count": null,
   "metadata": {
    "_uuid": "3b2b3ad5b592977b404acfa1c9ad303a62837255"
   },
   "outputs": [],
   "source": [
    "model.save(KERAS_MODEL)\n",
    "w2v_model.save(WORD2VEC_MODEL)\n",
    "pickle.dump(tokenizer, open(TOKENIZER_MODEL, \"wb\"), protocol=0)\n",
    "pickle.dump(encoder, open(ENCODER_MODEL, \"wb\"), protocol=0)"
   ]
  },
  {
   "cell_type": "code",
   "execution_count": null,
   "metadata": {
    "_uuid": "cc363c54782894757f5ea8820c6a170f2e16ef93"
   },
   "outputs": [],
   "source": []
  }
 ],
 "metadata": {
  "kernelspec": {
   "display_name": "Python 3",
   "language": "python",
   "name": "python3"
  },
  "language_info": {
   "codemirror_mode": {
    "name": "ipython",
    "version": 3
   },
   "file_extension": ".py",
   "mimetype": "text/x-python",
   "name": "python",
   "nbconvert_exporter": "python",
   "pygments_lexer": "ipython3",
   "version": "3.6.5"
  },
  "toc": {
   "base_numbering": 1,
   "nav_menu": {},
   "number_sections": true,
   "sideBar": true,
   "skip_h1_title": false,
   "title_cell": "Table of Contents",
   "title_sidebar": "Contents",
   "toc_cell": false,
   "toc_position": {},
   "toc_section_display": true,
   "toc_window_display": false
  },
  "varInspector": {
   "cols": {
    "lenName": 16,
    "lenType": 16,
    "lenVar": 40
   },
   "kernels_config": {
    "python": {
     "delete_cmd_postfix": "",
     "delete_cmd_prefix": "del ",
     "library": "var_list.py",
     "varRefreshCmd": "print(var_dic_list())"
    },
    "r": {
     "delete_cmd_postfix": ") ",
     "delete_cmd_prefix": "rm(",
     "library": "var_list.r",
     "varRefreshCmd": "cat(var_dic_list()) "
    }
   },
   "types_to_exclude": [
    "module",
    "function",
    "builtin_function_or_method",
    "instance",
    "_Feature"
   ],
   "window_display": false
  }
 },
 "nbformat": 4,
 "nbformat_minor": 4
}
